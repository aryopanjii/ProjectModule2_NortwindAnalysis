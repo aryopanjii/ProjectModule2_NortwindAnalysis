{
  "cells": [
    {
      "cell_type": "code",
      "execution_count": null,
      "id": "b64d1745-08da-46e6-89a3-79fe3ac908de",
      "metadata": {
        "id": "b64d1745-08da-46e6-89a3-79fe3ac908de"
      },
      "outputs": [],
      "source": [
        "# Import Modules\n",
        "\n",
        "import pandas as pd\n",
        "import numpy as np\n",
        "#import mysql.connector as sqlcon"
      ]
    },
    {
      "cell_type": "code",
      "execution_count": null,
      "id": "41750741",
      "metadata": {
        "id": "41750741"
      },
      "outputs": [],
      "source": [
        "import matplotlib.pyplot as plt\n",
        "import seaborn as sns"
      ]
    },
    {
      "cell_type": "code",
      "execution_count": null,
      "id": "596c7fd7",
      "metadata": {
        "id": "596c7fd7"
      },
      "outputs": [],
      "source": [
        "import pandas as pd"
      ]
    },
    {
      "cell_type": "code",
      "execution_count": null,
      "id": "9af87ae5",
      "metadata": {
        "id": "9af87ae5"
      },
      "outputs": [],
      "source": [
        "import plotly.express as px"
      ]
    },
    {
      "cell_type": "code",
      "source": [
        "from matplotlib import style"
      ],
      "metadata": {
        "id": "ZFfuQXCxUjbP"
      },
      "id": "ZFfuQXCxUjbP",
      "execution_count": null,
      "outputs": []
    },
    {
      "cell_type": "code",
      "execution_count": null,
      "id": "60e8171e",
      "metadata": {
        "id": "60e8171e",
        "outputId": "cd29303e-e2ef-48b0-c0a1-c55c838db4d4"
      },
      "outputs": [
        {
          "name": "stdout",
          "output_type": "stream",
          "text": [
            "Requirement already satisfied: plotly in c:\\programdata\\anaconda3\\lib\\site-packages (5.6.0)\n",
            "Requirement already satisfied: tenacity>=6.2.0 in c:\\programdata\\anaconda3\\lib\\site-packages (from plotly) (8.0.1)\n",
            "Requirement already satisfied: six in c:\\programdata\\anaconda3\\lib\\site-packages (from plotly) (1.16.0)\n"
          ]
        }
      ],
      "source": [
        "!pip install plotly"
      ]
    },
    {
      "cell_type": "code",
      "execution_count": null,
      "id": "82943f1c",
      "metadata": {
        "id": "82943f1c",
        "outputId": "11a1a020-7c1e-4cdb-b863-e2aa55fe6936"
      },
      "outputs": [
        {
          "name": "stdout",
          "output_type": "stream",
          "text": [
            "Requirement already satisfied: pandas in c:\\programdata\\anaconda3\\lib\\site-packages (1.3.4)\n",
            "Requirement already satisfied: python-dateutil>=2.7.3 in c:\\programdata\\anaconda3\\lib\\site-packages (from pandas) (2.8.2)\n",
            "Requirement already satisfied: pytz>=2017.3 in c:\\programdata\\anaconda3\\lib\\site-packages (from pandas) (2021.3)\n",
            "Requirement already satisfied: numpy>=1.17.3 in c:\\programdata\\anaconda3\\lib\\site-packages (from pandas) (1.20.3)\n",
            "Requirement already satisfied: six>=1.5 in c:\\programdata\\anaconda3\\lib\\site-packages (from python-dateutil>=2.7.3->pandas) (1.16.0)\n"
          ]
        }
      ],
      "source": [
        "!pip install pandas"
      ]
    },
    {
      "cell_type": "code",
      "execution_count": null,
      "id": "67e29a73-516f-474b-a356-4a90bd7ba947",
      "metadata": {
        "id": "67e29a73-516f-474b-a356-4a90bd7ba947",
        "outputId": "bb2ebbb9-3579-47b3-8373-f4e7eb69a921"
      },
      "outputs": [
        {
          "name": "stdout",
          "output_type": "stream",
          "text": [
            "Requirement already satisfied: mysql in c:\\programdata\\anaconda3\\lib\\site-packages (0.0.3)\n",
            "Requirement already satisfied: mysqlclient in c:\\programdata\\anaconda3\\lib\\site-packages (from mysql) (2.1.0)\n"
          ]
        }
      ],
      "source": [
        "!pip install mysql"
      ]
    },
    {
      "cell_type": "code",
      "execution_count": null,
      "id": "76e69903-ae63-43a3-86cb-d99468bc4e93",
      "metadata": {
        "id": "76e69903-ae63-43a3-86cb-d99468bc4e93",
        "outputId": "9c773cb7-67f6-4f50-9fb8-8ce2e1dc51d8"
      },
      "outputs": [
        {
          "name": "stdout",
          "output_type": "stream",
          "text": [
            "Requirement already satisfied: mysql-connector in c:\\programdata\\anaconda3\\lib\\site-packages (2.2.9)\n"
          ]
        }
      ],
      "source": [
        "!pip install mysql-connector"
      ]
    },
    {
      "cell_type": "code",
      "execution_count": null,
      "id": "6f33187b",
      "metadata": {
        "id": "6f33187b"
      },
      "outputs": [],
      "source": [
        "import pymysql\n",
        "import pandas as pd"
      ]
    },
    {
      "cell_type": "code",
      "execution_count": null,
      "id": "7aa5d326-6752-4a91-9659-a5f45db40e55",
      "metadata": {
        "id": "7aa5d326-6752-4a91-9659-a5f45db40e55",
        "outputId": "89b8e44f-1960-4739-a98f-191c5127bb8e"
      },
      "outputs": [
        {
          "name": "stdout",
          "output_type": "stream",
          "text": [
            "Requirement already satisfied: pymysql in c:\\programdata\\anaconda3\\lib\\site-packages (1.0.2)\n",
            "Requirement already satisfied: ipython-sql in c:\\programdata\\anaconda3\\lib\\site-packages (0.4.0)\n",
            "Requirement already satisfied: prettytable<1 in c:\\programdata\\anaconda3\\lib\\site-packages (from ipython-sql) (0.7.2)\n",
            "Requirement already satisfied: ipython-genutils>=0.1.0 in c:\\programdata\\anaconda3\\lib\\site-packages (from ipython-sql) (0.2.0)\n",
            "Requirement already satisfied: ipython>=1.0 in c:\\programdata\\anaconda3\\lib\\site-packages (from ipython-sql) (7.29.0)\n",
            "Requirement already satisfied: six in c:\\programdata\\anaconda3\\lib\\site-packages (from ipython-sql) (1.16.0)\n",
            "Requirement already satisfied: sqlparse in c:\\programdata\\anaconda3\\lib\\site-packages (from ipython-sql) (0.4.2)\n",
            "Requirement already satisfied: sqlalchemy>=0.6.7 in c:\\programdata\\anaconda3\\lib\\site-packages (from ipython-sql) (1.4.22)\n",
            "Requirement already satisfied: matplotlib-inline in c:\\programdata\\anaconda3\\lib\\site-packages (from ipython>=1.0->ipython-sql) (0.1.2)\n",
            "Requirement already satisfied: pygments in c:\\programdata\\anaconda3\\lib\\site-packages (from ipython>=1.0->ipython-sql) (2.10.0)\n",
            "Requirement already satisfied: decorator in c:\\programdata\\anaconda3\\lib\\site-packages (from ipython>=1.0->ipython-sql) (5.1.0)\n",
            "Requirement already satisfied: traitlets>=4.2 in c:\\programdata\\anaconda3\\lib\\site-packages (from ipython>=1.0->ipython-sql) (5.1.0)\n",
            "Requirement already satisfied: prompt-toolkit!=3.0.0,!=3.0.1,<3.1.0,>=2.0.0 in c:\\programdata\\anaconda3\\lib\\site-packages (from ipython>=1.0->ipython-sql) (3.0.20)\n",
            "Requirement already satisfied: setuptools>=18.5 in c:\\programdata\\anaconda3\\lib\\site-packages (from ipython>=1.0->ipython-sql) (58.0.4)\n",
            "Requirement already satisfied: pickleshare in c:\\programdata\\anaconda3\\lib\\site-packages (from ipython>=1.0->ipython-sql) (0.7.5)\n",
            "Requirement already satisfied: backcall in c:\\programdata\\anaconda3\\lib\\site-packages (from ipython>=1.0->ipython-sql) (0.2.0)\n",
            "Requirement already satisfied: jedi>=0.16 in c:\\programdata\\anaconda3\\lib\\site-packages (from ipython>=1.0->ipython-sql) (0.18.0)\n",
            "Requirement already satisfied: colorama in c:\\programdata\\anaconda3\\lib\\site-packages (from ipython>=1.0->ipython-sql) (0.4.4)\n",
            "Requirement already satisfied: parso<0.9.0,>=0.8.0 in c:\\programdata\\anaconda3\\lib\\site-packages (from jedi>=0.16->ipython>=1.0->ipython-sql) (0.8.2)\n",
            "Requirement already satisfied: wcwidth in c:\\programdata\\anaconda3\\lib\\site-packages (from prompt-toolkit!=3.0.0,!=3.0.1,<3.1.0,>=2.0.0->ipython>=1.0->ipython-sql) (0.2.5)\n",
            "Requirement already satisfied: greenlet!=0.4.17 in c:\\programdata\\anaconda3\\lib\\site-packages (from sqlalchemy>=0.6.7->ipython-sql) (1.1.1)\n",
            "Requirement already satisfied: mysqlclient in c:\\programdata\\anaconda3\\lib\\site-packages (2.1.0)\n"
          ]
        }
      ],
      "source": [
        "# In the python cmd, install packages:\n",
        "!pip3 install pymysql\n",
        "!pip3 install ipython-sql\n",
        "!pip3 install mysqlclient\n",
        "\n",
        "# in the jupyter notebook:\n",
        "import pymysql\n",
        "import pandas as pd\n"
      ]
    },
    {
      "cell_type": "code",
      "execution_count": null,
      "id": "118e22fd",
      "metadata": {
        "id": "118e22fd"
      },
      "outputs": [],
      "source": [
        "import sqlalchemy\n",
        "import pandas"
      ]
    },
    {
      "cell_type": "markdown",
      "id": "058be0b6",
      "metadata": {
        "id": "058be0b6"
      },
      "source": [
        "# **SQL**"
      ]
    },
    {
      "cell_type": "code",
      "execution_count": null,
      "id": "ceb8b0a8",
      "metadata": {
        "id": "ceb8b0a8"
      },
      "outputs": [],
      "source": [
        "# Connect To Database\n",
        "\n",
        "mydb = sqlcon.connect(\n",
        "    host = 'localhost',\n",
        "    user = 'root',\n",
        "    passwd = 'Aryomadan123',\n",
        "    database = 'northwind_db'\n",
        ")"
      ]
    },
    {
      "cell_type": "code",
      "execution_count": null,
      "id": "f58f3b8b",
      "metadata": {
        "id": "f58f3b8b"
      },
      "outputs": [],
      "source": [
        "# Query Function\n",
        "\n",
        "curs = mydb.cursor()\n",
        "\n",
        "def sql_table (query) :\n",
        "    curs.execute (query)\n",
        "    result = curs.fetchall()\n",
        "    tabel1 = pd.DataFrame(result, columns=curs.column_names)\n",
        "    return tabel1"
      ]
    },
    {
      "cell_type": "markdown",
      "id": "78583b27",
      "metadata": {
        "id": "78583b27"
      },
      "source": [
        "context:\n",
        "northwind is f&b company. we wants to look at the general image of their business status, specifically with their orders(confirm allocation purwadhika student) so in this project we will have a look at northwind database with orders as our focus analysis.\n",
        "\n",
        "table info:\n",
        "Northwind database has 13 tables:\n",
        "    1) Categories : store information about category for each product and description\n",
        "    2) Customer   : Store Informationof each customers\n",
        "    3) employess  : store information about of each employees\n",
        "    4) orders     : Store information of each orders\n",
        "    5) Ordersdetails : An extention of order tables, store information of each orders\n",
        "    6) Products   : Store information of each product\n",
        "    7) Region     : Store information about regions office/stores\n",
        "    8) Shippers   : Store Information about shippers and their contacts\n",
        "    9) Suppliers  : Store information about suppliers\n",
        "    10) Territories : Store infomation about name of the cities which the employees is responsible for\n",
        "    11) Employeeterritories : connection table employee with terretorries,\n",
        "    \n",
        " and the least 2 table null row\n",
        "- *Customercustomerdemo: Empty table.\n",
        "- *Customerdemographics: Empty table."
      ]
    },
    {
      "cell_type": "markdown",
      "id": "c43055e3",
      "metadata": {
        "id": "c43055e3"
      },
      "source": [
        "# Query SQL (gathering information from sql)"
      ]
    },
    {
      "cell_type": "markdown",
      "id": "0711451d",
      "metadata": {
        "id": "0711451d"
      },
      "source": [
        "Union : menggabungkan data yang serupa "
      ]
    },
    {
      "cell_type": "code",
      "execution_count": null,
      "id": "a6492da5",
      "metadata": {
        "id": "a6492da5",
        "outputId": "21c873a7-72e0-4cab-bae8-9cf40b1036e8"
      },
      "outputs": [
        {
          "data": {
            "text/html": [
              "<div>\n",
              "<style scoped>\n",
              "    .dataframe tbody tr th:only-of-type {\n",
              "        vertical-align: middle;\n",
              "    }\n",
              "\n",
              "    .dataframe tbody tr th {\n",
              "        vertical-align: top;\n",
              "    }\n",
              "\n",
              "    .dataframe thead th {\n",
              "        text-align: right;\n",
              "    }\n",
              "</style>\n",
              "<table border=\"1\" class=\"dataframe\">\n",
              "  <thead>\n",
              "    <tr style=\"text-align: right;\">\n",
              "      <th></th>\n",
              "      <th>City</th>\n",
              "      <th>CompanyName</th>\n",
              "      <th>ContactName</th>\n",
              "      <th>Relationship</th>\n",
              "    </tr>\n",
              "  </thead>\n",
              "  <tbody>\n",
              "    <tr>\n",
              "      <th>0</th>\n",
              "      <td>None</td>\n",
              "      <td>IT</td>\n",
              "      <td>Val2</td>\n",
              "      <td>Customers</td>\n",
              "    </tr>\n",
              "    <tr>\n",
              "      <th>1</th>\n",
              "      <td>None</td>\n",
              "      <td>IT</td>\n",
              "      <td>Valon Hoti</td>\n",
              "      <td>Customers</td>\n",
              "    </tr>\n",
              "    <tr>\n",
              "      <th>2</th>\n",
              "      <td>Aachen</td>\n",
              "      <td>Drachenblut Delikatessen</td>\n",
              "      <td>Sven Ottlieb</td>\n",
              "      <td>Customers</td>\n",
              "    </tr>\n",
              "    <tr>\n",
              "      <th>3</th>\n",
              "      <td>Albuquerque</td>\n",
              "      <td>Rattlesnake Canyon Grocery</td>\n",
              "      <td>Paula Wilson</td>\n",
              "      <td>Customers</td>\n",
              "    </tr>\n",
              "    <tr>\n",
              "      <th>4</th>\n",
              "      <td>Anchorage</td>\n",
              "      <td>Old World Delicatessen</td>\n",
              "      <td>Rene Phillips</td>\n",
              "      <td>Customers</td>\n",
              "    </tr>\n",
              "  </tbody>\n",
              "</table>\n",
              "</div>"
            ],
            "text/plain": [
              "          City                 CompanyName    ContactName Relationship\n",
              "0         None                          IT           Val2    Customers\n",
              "1         None                          IT     Valon Hoti    Customers\n",
              "2       Aachen    Drachenblut Delikatessen   Sven Ottlieb    Customers\n",
              "3  Albuquerque  Rattlesnake Canyon Grocery   Paula Wilson    Customers\n",
              "4    Anchorage      Old World Delicatessen  Rene Phillips    Customers"
            ]
          },
          "execution_count": 81,
          "metadata": {},
          "output_type": "execute_result"
        }
      ],
      "source": [
        "union = sql_table (\n",
        "    '''\n",
        " select City, CompanyName, ContactName, 'Customers' as Relationship \n",
        "from Customers\n",
        "union\n",
        "select City, CompanyName, ContactName, 'Suppliers'\n",
        "from Suppliers\n",
        "order by City, CompanyName;\n",
        "\n",
        "    '''\n",
        ")\n",
        "union.head()"
      ]
    },
    {
      "cell_type": "code",
      "execution_count": null,
      "id": "db6113c1",
      "metadata": {
        "id": "db6113c1",
        "outputId": "797fd60e-4061-44e3-dc6a-12fe140b55f7"
      },
      "outputs": [
        {
          "data": {
            "text/plain": [
              "(830, 14)"
            ]
          },
          "execution_count": 82,
          "metadata": {},
          "output_type": "execute_result"
        }
      ],
      "source": [
        "orders = sql_table (\n",
        "    '''\n",
        " select * from orders;\n",
        "\n",
        "    '''\n",
        ")\n",
        "orders.shape"
      ]
    },
    {
      "cell_type": "markdown",
      "id": "f5cdb998",
      "metadata": {
        "id": "f5cdb998"
      },
      "source": [
        "# **QUERY1 : Merger Data SQL 4 table orders terbanyak dari customer dan product apa**"
      ]
    },
    {
      "cell_type": "markdown",
      "id": "f2a1f81b",
      "metadata": {
        "id": "f2a1f81b"
      },
      "source": [
        "for this analsis, we will only 4 tables related to orders, whicj is "
      ]
    },
    {
      "cell_type": "markdown",
      "id": "c71fd65f",
      "metadata": {
        "id": "c71fd65f"
      },
      "source": [
        "# Data Understanding"
      ]
    },
    {
      "cell_type": "code",
      "execution_count": null,
      "id": "e730a3a9",
      "metadata": {
        "id": "e730a3a9",
        "outputId": "7ff9c423-d320-478c-9b72-f10ddf22437d"
      },
      "outputs": [
        {
          "data": {
            "text/html": [
              "<div>\n",
              "<style scoped>\n",
              "    .dataframe tbody tr th:only-of-type {\n",
              "        vertical-align: middle;\n",
              "    }\n",
              "\n",
              "    .dataframe tbody tr th {\n",
              "        vertical-align: top;\n",
              "    }\n",
              "\n",
              "    .dataframe thead th {\n",
              "        text-align: right;\n",
              "    }\n",
              "</style>\n",
              "<table border=\"1\" class=\"dataframe\">\n",
              "  <thead>\n",
              "    <tr style=\"text-align: right;\">\n",
              "      <th></th>\n",
              "      <th>EmployeeID</th>\n",
              "      <th>EmployeeName</th>\n",
              "      <th>Loc_Country_Employee</th>\n",
              "      <th>OrderID</th>\n",
              "      <th>OrderDate</th>\n",
              "      <th>RequiredDate</th>\n",
              "      <th>ShippedDate</th>\n",
              "      <th>ShipperID</th>\n",
              "      <th>CompanyName</th>\n",
              "      <th>ShipName</th>\n",
              "      <th>CustomerID</th>\n",
              "      <th>CompanyName</th>\n",
              "      <th>Customer_Country</th>\n",
              "      <th>Sell_Price</th>\n",
              "      <th>BasePrice</th>\n",
              "      <th>Quantity</th>\n",
              "      <th>GrossIncome</th>\n",
              "      <th>BaseIncome</th>\n",
              "    </tr>\n",
              "  </thead>\n",
              "  <tbody>\n",
              "    <tr>\n",
              "      <th>0</th>\n",
              "      <td>3</td>\n",
              "      <td>Janet Leverling</td>\n",
              "      <td>USA</td>\n",
              "      <td>11063</td>\n",
              "      <td>1998-04-30</td>\n",
              "      <td>1998-05-28</td>\n",
              "      <td>1998-05-06</td>\n",
              "      <td>2</td>\n",
              "      <td>United Package</td>\n",
              "      <td>Hungry Owl All-Night Grocers</td>\n",
              "      <td>ALFKI</td>\n",
              "      <td>Alfreds Futterkiste</td>\n",
              "      <td>Germany</td>\n",
              "      <td>18.4000</td>\n",
              "      <td>18.4000</td>\n",
              "      <td>40</td>\n",
              "      <td>736.0000</td>\n",
              "      <td>736.0000</td>\n",
              "    </tr>\n",
              "    <tr>\n",
              "      <th>1</th>\n",
              "      <td>3</td>\n",
              "      <td>Janet Leverling</td>\n",
              "      <td>USA</td>\n",
              "      <td>11063</td>\n",
              "      <td>1998-04-30</td>\n",
              "      <td>1998-05-28</td>\n",
              "      <td>1998-05-06</td>\n",
              "      <td>2</td>\n",
              "      <td>United Package</td>\n",
              "      <td>Hungry Owl All-Night Grocers</td>\n",
              "      <td>ALFKI</td>\n",
              "      <td>Alfreds Futterkiste</td>\n",
              "      <td>Germany</td>\n",
              "      <td>14.0000</td>\n",
              "      <td>14.0000</td>\n",
              "      <td>30</td>\n",
              "      <td>420.0000</td>\n",
              "      <td>420.0000</td>\n",
              "    </tr>\n",
              "    <tr>\n",
              "      <th>2</th>\n",
              "      <td>4</td>\n",
              "      <td>Margaret Peacock</td>\n",
              "      <td>USA</td>\n",
              "      <td>11062</td>\n",
              "      <td>1998-04-30</td>\n",
              "      <td>1998-05-28</td>\n",
              "      <td>NaT</td>\n",
              "      <td>2</td>\n",
              "      <td>United Package</td>\n",
              "      <td>Reggiani Caseifici</td>\n",
              "      <td>ALFKI</td>\n",
              "      <td>Alfreds Futterkiste</td>\n",
              "      <td>Germany</td>\n",
              "      <td>15.0000</td>\n",
              "      <td>15.0000</td>\n",
              "      <td>12</td>\n",
              "      <td>180.0000</td>\n",
              "      <td>180.0000</td>\n",
              "    </tr>\n",
              "    <tr>\n",
              "      <th>3</th>\n",
              "      <td>4</td>\n",
              "      <td>Margaret Peacock</td>\n",
              "      <td>USA</td>\n",
              "      <td>11062</td>\n",
              "      <td>1998-04-30</td>\n",
              "      <td>1998-05-28</td>\n",
              "      <td>NaT</td>\n",
              "      <td>2</td>\n",
              "      <td>United Package</td>\n",
              "      <td>Reggiani Caseifici</td>\n",
              "      <td>ALFKI</td>\n",
              "      <td>Alfreds Futterkiste</td>\n",
              "      <td>Germany</td>\n",
              "      <td>32.8000</td>\n",
              "      <td>32.8000</td>\n",
              "      <td>10</td>\n",
              "      <td>328.0000</td>\n",
              "      <td>328.0000</td>\n",
              "    </tr>\n",
              "    <tr>\n",
              "      <th>4</th>\n",
              "      <td>4</td>\n",
              "      <td>Margaret Peacock</td>\n",
              "      <td>USA</td>\n",
              "      <td>11061</td>\n",
              "      <td>1998-04-30</td>\n",
              "      <td>1998-06-11</td>\n",
              "      <td>NaT</td>\n",
              "      <td>3</td>\n",
              "      <td>Federal Shipping</td>\n",
              "      <td>Great Lakes Food Market</td>\n",
              "      <td>ALFKI</td>\n",
              "      <td>Alfreds Futterkiste</td>\n",
              "      <td>Germany</td>\n",
              "      <td>34.0000</td>\n",
              "      <td>34.0000</td>\n",
              "      <td>15</td>\n",
              "      <td>510.0000</td>\n",
              "      <td>510.0000</td>\n",
              "    </tr>\n",
              "  </tbody>\n",
              "</table>\n",
              "</div>"
            ],
            "text/plain": [
              "   EmployeeID      EmployeeName Loc_Country_Employee  OrderID  OrderDate  \\\n",
              "0           3   Janet Leverling                  USA    11063 1998-04-30   \n",
              "1           3   Janet Leverling                  USA    11063 1998-04-30   \n",
              "2           4  Margaret Peacock                  USA    11062 1998-04-30   \n",
              "3           4  Margaret Peacock                  USA    11062 1998-04-30   \n",
              "4           4  Margaret Peacock                  USA    11061 1998-04-30   \n",
              "\n",
              "  RequiredDate ShippedDate  ShipperID       CompanyName  \\\n",
              "0   1998-05-28  1998-05-06          2    United Package   \n",
              "1   1998-05-28  1998-05-06          2    United Package   \n",
              "2   1998-05-28         NaT          2    United Package   \n",
              "3   1998-05-28         NaT          2    United Package   \n",
              "4   1998-06-11         NaT          3  Federal Shipping   \n",
              "\n",
              "                       ShipName CustomerID          CompanyName  \\\n",
              "0  Hungry Owl All-Night Grocers      ALFKI  Alfreds Futterkiste   \n",
              "1  Hungry Owl All-Night Grocers      ALFKI  Alfreds Futterkiste   \n",
              "2            Reggiani Caseifici      ALFKI  Alfreds Futterkiste   \n",
              "3            Reggiani Caseifici      ALFKI  Alfreds Futterkiste   \n",
              "4       Great Lakes Food Market      ALFKI  Alfreds Futterkiste   \n",
              "\n",
              "  Customer_Country Sell_Price BasePrice  Quantity GrossIncome BaseIncome  \n",
              "0          Germany    18.4000   18.4000        40    736.0000   736.0000  \n",
              "1          Germany    14.0000   14.0000        30    420.0000   420.0000  \n",
              "2          Germany    15.0000   15.0000        12    180.0000   180.0000  \n",
              "3          Germany    32.8000   32.8000        10    328.0000   328.0000  \n",
              "4          Germany    34.0000   34.0000        15    510.0000   510.0000  "
            ]
          },
          "execution_count": 141,
          "metadata": {},
          "output_type": "execute_result"
        }
      ],
      "source": [
        "df = sql_table (\n",
        "    '''\n",
        " select e.EmployeeID, concat(e.FirstName,' ',e.LastName)  as EmployeeName, e.Country As Loc_Country_Employee,\n",
        "    o.OrderID, o.OrderDate, o.RequiredDate, o.ShippedDate, s.ShipperID, s.CompanyName, o.ShipName,\n",
        "    c.CustomerID, c.CompanyName, c.Country as Customer_Country,\n",
        "    od.UnitPrice as Sell_Price, \n",
        "    p.UnitPrice as BasePrice,\n",
        "    od.Quantity as Quantity, (od.UnitPrice * od.Quantity) as GrossIncome,\n",
        "    (p.UnitPrice * od.Quantity) as BaseIncome\n",
        "    from Employees e\n",
        "    inner join Orders o on e.EmployeeID = o.EmployeeID\n",
        "    inner join customers c on o.CustomerID = o.CustomerID\n",
        "    inner join orderdetails od on o.OrderID = od.OrderID\n",
        "    inner join products p on od.ProductID = p.ProductID\n",
        "    inner join shippers s on o.ShipVia = s.ShipperID;\n",
        "\n",
        "    '''\n",
        ")\n",
        "df.head()"
      ]
    },
    {
      "cell_type": "code",
      "execution_count": null,
      "id": "27756804",
      "metadata": {
        "id": "27756804",
        "outputId": "ed116c88-6023-4130-f13e-a0692cf42697"
      },
      "outputs": [
        {
          "data": {
            "text/plain": [
              "(200415, 18)"
            ]
          },
          "execution_count": 84,
          "metadata": {},
          "output_type": "execute_result"
        }
      ],
      "source": [
        "df.shape"
      ]
    },
    {
      "cell_type": "markdown",
      "id": "86ddd1cd",
      "metadata": {
        "id": "86ddd1cd"
      },
      "source": [
        "# QUERY2 : Berapa jenis product yang tersedia di setiap jenis prosuk dan total qty dan harga beli setiap produknya (Aggregating function)**"
      ]
    },
    {
      "cell_type": "code",
      "execution_count": null,
      "id": "b654a694",
      "metadata": {
        "id": "b654a694",
        "outputId": "0394943a-aea8-4fb4-f67b-d54b1e3a05a0"
      },
      "outputs": [
        {
          "data": {
            "text/html": [
              "<div>\n",
              "<style scoped>\n",
              "    .dataframe tbody tr th:only-of-type {\n",
              "        vertical-align: middle;\n",
              "    }\n",
              "\n",
              "    .dataframe tbody tr th {\n",
              "        vertical-align: top;\n",
              "    }\n",
              "\n",
              "    .dataframe thead th {\n",
              "        text-align: right;\n",
              "    }\n",
              "</style>\n",
              "<table border=\"1\" class=\"dataframe\">\n",
              "  <thead>\n",
              "    <tr style=\"text-align: right;\">\n",
              "      <th></th>\n",
              "      <th>categoryid</th>\n",
              "      <th>categoryname</th>\n",
              "      <th>total_quantity</th>\n",
              "      <th>total_price</th>\n",
              "    </tr>\n",
              "  </thead>\n",
              "  <tbody>\n",
              "    <tr>\n",
              "      <th>0</th>\n",
              "      <td>1</td>\n",
              "      <td>Beverages</td>\n",
              "      <td>559</td>\n",
              "      <td>455.7500</td>\n",
              "    </tr>\n",
              "    <tr>\n",
              "      <th>1</th>\n",
              "      <td>2</td>\n",
              "      <td>Condiments</td>\n",
              "      <td>507</td>\n",
              "      <td>276.7500</td>\n",
              "    </tr>\n",
              "    <tr>\n",
              "      <th>2</th>\n",
              "      <td>3</td>\n",
              "      <td>Confections</td>\n",
              "      <td>386</td>\n",
              "      <td>327.0800</td>\n",
              "    </tr>\n",
              "    <tr>\n",
              "      <th>3</th>\n",
              "      <td>4</td>\n",
              "      <td>Dairy Products</td>\n",
              "      <td>393</td>\n",
              "      <td>287.3000</td>\n",
              "    </tr>\n",
              "    <tr>\n",
              "      <th>4</th>\n",
              "      <td>5</td>\n",
              "      <td>Grains/Cereals</td>\n",
              "      <td>308</td>\n",
              "      <td>141.7500</td>\n",
              "    </tr>\n",
              "  </tbody>\n",
              "</table>\n",
              "</div>"
            ],
            "text/plain": [
              "   categoryid    categoryname total_quantity total_price\n",
              "0           1       Beverages            559    455.7500\n",
              "1           2      Condiments            507    276.7500\n",
              "2           3     Confections            386    327.0800\n",
              "3           4  Dairy Products            393    287.3000\n",
              "4           5  Grains/Cereals            308    141.7500"
            ]
          },
          "execution_count": 86,
          "metadata": {},
          "output_type": "execute_result"
        }
      ],
      "source": [
        "#Berapa banyak jenis produk yang tersedia?\n",
        "#Berapa banyak jumlah produk untuk setiap jenis produknya?\n",
        "#Serta berapa total quantity dan total harga beli untuk setiap jenis produknya?\n",
        "\n",
        "\n",
        "tabel1 = sql_table (\n",
        "    '''\n",
        "select c.categoryid, c.categoryname, SUM(p.unitsinstock) as total_quantity, sum(p.unitprice) as total_price\n",
        "from products p \n",
        "inner join categories c on p.categoryid = c.categoryid\n",
        "group by c.categoryname;\n",
        "\n",
        "    '''\n",
        ")\n",
        "tabel1.head()"
      ]
    },
    {
      "cell_type": "code",
      "execution_count": null,
      "id": "3a602bca",
      "metadata": {
        "id": "3a602bca",
        "outputId": "a05675cf-e76e-4acf-f39f-f4ff4ad4e382"
      },
      "outputs": [
        {
          "data": {
            "text/html": [
              "<div>\n",
              "<style scoped>\n",
              "    .dataframe tbody tr th:only-of-type {\n",
              "        vertical-align: middle;\n",
              "    }\n",
              "\n",
              "    .dataframe tbody tr th {\n",
              "        vertical-align: top;\n",
              "    }\n",
              "\n",
              "    .dataframe thead th {\n",
              "        text-align: right;\n",
              "    }\n",
              "</style>\n",
              "<table border=\"1\" class=\"dataframe\">\n",
              "  <thead>\n",
              "    <tr style=\"text-align: right;\">\n",
              "      <th></th>\n",
              "      <th>EmployeeID</th>\n",
              "      <th>jumblah</th>\n",
              "    </tr>\n",
              "  </thead>\n",
              "  <tbody>\n",
              "    <tr>\n",
              "      <th>0</th>\n",
              "      <td>1</td>\n",
              "      <td>123</td>\n",
              "    </tr>\n",
              "    <tr>\n",
              "      <th>1</th>\n",
              "      <td>2</td>\n",
              "      <td>96</td>\n",
              "    </tr>\n",
              "    <tr>\n",
              "      <th>2</th>\n",
              "      <td>3</td>\n",
              "      <td>127</td>\n",
              "    </tr>\n",
              "    <tr>\n",
              "      <th>3</th>\n",
              "      <td>4</td>\n",
              "      <td>156</td>\n",
              "    </tr>\n",
              "    <tr>\n",
              "      <th>4</th>\n",
              "      <td>5</td>\n",
              "      <td>42</td>\n",
              "    </tr>\n",
              "    <tr>\n",
              "      <th>5</th>\n",
              "      <td>6</td>\n",
              "      <td>67</td>\n",
              "    </tr>\n",
              "    <tr>\n",
              "      <th>6</th>\n",
              "      <td>7</td>\n",
              "      <td>72</td>\n",
              "    </tr>\n",
              "    <tr>\n",
              "      <th>7</th>\n",
              "      <td>8</td>\n",
              "      <td>104</td>\n",
              "    </tr>\n",
              "    <tr>\n",
              "      <th>8</th>\n",
              "      <td>9</td>\n",
              "      <td>43</td>\n",
              "    </tr>\n",
              "  </tbody>\n",
              "</table>\n",
              "</div>"
            ],
            "text/plain": [
              "   EmployeeID  jumblah\n",
              "0           1      123\n",
              "1           2       96\n",
              "2           3      127\n",
              "3           4      156\n",
              "4           5       42\n",
              "5           6       67\n",
              "6           7       72\n",
              "7           8      104\n",
              "8           9       43"
            ]
          },
          "execution_count": 87,
          "metadata": {},
          "output_type": "execute_result"
        }
      ],
      "source": [
        "#employee mana saja yang berhasil mendapatkan banyak rder\n",
        "\n",
        "employee_order = sql_table( \n",
        "    '''\n",
        "    select a.EmployeeID, count(b.OrderID) as jumblah\n",
        "from employees a inner join orders b\n",
        "on a.EmployeeID = b.EmployeeID\n",
        "group by a.EmployeeID;\n",
        "'''\n",
        ")\n",
        "employee_order"
      ]
    },
    {
      "cell_type": "markdown",
      "id": "913c0b6c",
      "metadata": {
        "id": "913c0b6c"
      },
      "source": [
        "# Data Analysis\n",
        "\n",
        "### **Orders Related Data**\n",
        "\n",
        "For this analysis, we will only use 4 tables related to suppliers, which is ```Orders```, ```Customer```, ```CategEmployeesories```, ```OrderDetails```, and ```Shippers```\n",
        "Not all of the columns will be used here, we'll only select a few that might be useful in our ```Orders``` analysis:\n",
        "- OrderID from Orders\n",
        "- RequiredDate from Orders\n",
        "- ShippedDate from Orders\n",
        "- ShipName from Orders\n",
        "- ShipCoutry from Orders\n",
        "- CompanyName from Shippers\n",
        "- Country from Suppliers\n",
        "- ProductName from Products\n",
        "- CategoryName from Categories\n",
        "- UnitPrice from Orderdetails\n",
        "- UnitPrice from Products\n",
        "- Quantity from Orderdetails\n",
        "- ```GrossIncome``` which is the multiplication of ```UnitPrice``` from Orderdetails and ```Quantity```\n",
        "- ```BaseIncome``` which is the multiplication of ```UnitPrice``` from Products and ```Quantity```\n",
        "- ```Discrepancy``` which is the subtraction of ```GrossIncome``` and ```BasePrice```\n",
        "- ```PercentDiscrepancy``` which is the subtraction of ```GrossIncome``` and ```BasePrice``` in percentage"
      ]
    },
    {
      "cell_type": "code",
      "execution_count": null,
      "id": "cefcdd0b",
      "metadata": {
        "id": "cefcdd0b",
        "outputId": "d3db7c32-c249-44a5-f031-d1d757f209db"
      },
      "outputs": [
        {
          "data": {
            "text/html": [
              "<div>\n",
              "<style scoped>\n",
              "    .dataframe tbody tr th:only-of-type {\n",
              "        vertical-align: middle;\n",
              "    }\n",
              "\n",
              "    .dataframe tbody tr th {\n",
              "        vertical-align: top;\n",
              "    }\n",
              "\n",
              "    .dataframe thead th {\n",
              "        text-align: right;\n",
              "    }\n",
              "</style>\n",
              "<table border=\"1\" class=\"dataframe\">\n",
              "  <thead>\n",
              "    <tr style=\"text-align: right;\">\n",
              "      <th></th>\n",
              "      <th>EmployeeID</th>\n",
              "      <th>EmployeeName</th>\n",
              "      <th>Loc_Country_Employee</th>\n",
              "      <th>OrderID</th>\n",
              "      <th>OrderDate</th>\n",
              "      <th>RequiredDate</th>\n",
              "      <th>ShippedDate</th>\n",
              "      <th>ShipName</th>\n",
              "      <th>ShipCountry</th>\n",
              "      <th>CustomerID</th>\n",
              "      <th>Customer_Company_Name</th>\n",
              "      <th>Customer_Country</th>\n",
              "      <th>ShipperID</th>\n",
              "      <th>Loc_ShipperCompany</th>\n",
              "      <th>Sell_Price</th>\n",
              "      <th>BasePrice</th>\n",
              "      <th>Quantity</th>\n",
              "      <th>GrossIncome</th>\n",
              "      <th>BaseIncome</th>\n",
              "    </tr>\n",
              "  </thead>\n",
              "  <tbody>\n",
              "    <tr>\n",
              "      <th>0</th>\n",
              "      <td>2</td>\n",
              "      <td>Andrew Fuller</td>\n",
              "      <td>USA</td>\n",
              "      <td>11015</td>\n",
              "      <td>1998-04-10</td>\n",
              "      <td>1998-04-24</td>\n",
              "      <td>1998-04-20</td>\n",
              "      <td>Sant Gourmet</td>\n",
              "      <td>Norway</td>\n",
              "      <td>ALFKI</td>\n",
              "      <td>Alfreds Futterkiste</td>\n",
              "      <td>Germany</td>\n",
              "      <td>2</td>\n",
              "      <td>United Package</td>\n",
              "      <td>13.0000</td>\n",
              "      <td>13.0000</td>\n",
              "      <td>18</td>\n",
              "      <td>234.0000</td>\n",
              "      <td>234.0000</td>\n",
              "    </tr>\n",
              "  </tbody>\n",
              "</table>\n",
              "</div>"
            ],
            "text/plain": [
              "   EmployeeID   EmployeeName Loc_Country_Employee  OrderID  OrderDate  \\\n",
              "0           2  Andrew Fuller                  USA    11015 1998-04-10   \n",
              "\n",
              "  RequiredDate ShippedDate      ShipName ShipCountry CustomerID  \\\n",
              "0   1998-04-24  1998-04-20  Sant Gourmet      Norway      ALFKI   \n",
              "\n",
              "  Customer_Company_Name Customer_Country  ShipperID Loc_ShipperCompany  \\\n",
              "0   Alfreds Futterkiste          Germany          2     United Package   \n",
              "\n",
              "  Sell_Price BasePrice  Quantity GrossIncome BaseIncome  \n",
              "0    13.0000   13.0000        18    234.0000   234.0000  "
            ]
          },
          "execution_count": 150,
          "metadata": {},
          "output_type": "execute_result"
        }
      ],
      "source": [
        "df = sql_table (\n",
        "    '''\n",
        "    select e.EmployeeID, concat(e.FirstName,' ',e.LastName)  as EmployeeName, e.Country As Loc_Country_Employee,\n",
        "    o.OrderID, o.OrderDate, o.RequiredDate, o.ShippedDate, o.ShipName, o.ShipCountry as ShipCountry,\n",
        "    c.CustomerID, c.CompanyName as Customer_Company_Name, c.Country as Customer_Country,\n",
        "    s.ShipperID, s.CompanyName as Loc_ShipperCompany, \n",
        "    od.UnitPrice as Sell_Price, \n",
        "    p.UnitPrice as BasePrice,\n",
        "    od.Quantity as Quantity, (od.UnitPrice * od.Quantity) as GrossIncome,\n",
        "    (p.UnitPrice * od.Quantity) as BaseIncome\n",
        "    from Employees e\n",
        "    inner join Orders o on e.EmployeeID = o.EmployeeID\n",
        "    inner join customers c on o.CustomerID = o.CustomerID\n",
        "    inner join orderdetails od on o.OrderID = od.OrderID\n",
        "    inner join products p on od.ProductID = p.ProductID\n",
        "    inner join shippers s on o.ShipVia = s.ShipperID;\n",
        "\n",
        "    '''\n",
        ")\n",
        "df.head(1)"
      ]
    },
    {
      "cell_type": "code",
      "execution_count": null,
      "id": "2c5c1cf8",
      "metadata": {
        "id": "2c5c1cf8",
        "outputId": "be58896f-33c6-430a-e12e-33ba4e8ec6e9"
      },
      "outputs": [
        {
          "data": {
            "text/plain": [
              "(200415, 19)"
            ]
          },
          "execution_count": 143,
          "metadata": {},
          "output_type": "execute_result"
        }
      ],
      "source": [
        "df.shape"
      ]
    },
    {
      "cell_type": "code",
      "execution_count": null,
      "id": "336062aa",
      "metadata": {
        "id": "336062aa",
        "outputId": "b7b94a38-49d1-4ff7-d9ce-f86caa2a4f8a"
      },
      "outputs": [
        {
          "data": {
            "text/plain": [
              "(200415, 19)"
            ]
          },
          "execution_count": 144,
          "metadata": {},
          "output_type": "execute_result"
        }
      ],
      "source": [
        "df.shape"
      ]
    },
    {
      "cell_type": "code",
      "execution_count": null,
      "id": "bfa2c3b2",
      "metadata": {
        "id": "bfa2c3b2",
        "outputId": "d8e41108-d0f7-41f9-fa1d-9a501319dad9",
        "colab": {
          "base_uri": "https://localhost:8080/"
        }
      },
      "outputs": [
        {
          "output_type": "stream",
          "name": "stdout",
          "text": [
            "<class 'pandas.core.frame.DataFrame'>\n",
            "RangeIndex: 189462 entries, 0 to 189461\n",
            "Data columns (total 20 columns):\n",
            " #   Column                 Non-Null Count   Dtype         \n",
            "---  ------                 --------------   -----         \n",
            " 0   Unnamed: 0             189462 non-null  int64         \n",
            " 1   EmployeeID             189462 non-null  int64         \n",
            " 2   EmployeeName           189462 non-null  object        \n",
            " 3   Loc_Country_Employee   189462 non-null  object        \n",
            " 4   OrderID                189462 non-null  int64         \n",
            " 5   OrderDate              189462 non-null  object        \n",
            " 6   RequiredDate           189462 non-null  datetime64[ns]\n",
            " 7   ShippedDate            189462 non-null  datetime64[ns]\n",
            " 8   ShipName               189462 non-null  object        \n",
            " 9   ShipCountry            189462 non-null  object        \n",
            " 10  CustomerID             189462 non-null  object        \n",
            " 11  Customer_Company_Name  189462 non-null  object        \n",
            " 12  Customer_Country       189462 non-null  object        \n",
            " 13  ShipperID              189462 non-null  int64         \n",
            " 14  Loc_ShipperCompany     189462 non-null  object        \n",
            " 15  Sell_Price             189462 non-null  float64       \n",
            " 16  BasePrice              189462 non-null  float64       \n",
            " 17  Quantity               189462 non-null  int64         \n",
            " 18  GrossIncome            189462 non-null  float64       \n",
            " 19  BaseIncome             189462 non-null  float64       \n",
            "dtypes: datetime64[ns](2), float64(4), int64(5), object(9)\n",
            "memory usage: 28.9+ MB\n"
          ]
        }
      ],
      "source": [
        "df.info()"
      ]
    },
    {
      "cell_type": "code",
      "source": [
        "#df['RequiredDate'] = pd.to_datetime(df['RequiredDate'])"
      ],
      "metadata": {
        "id": "Z0ChdpwbHVeW"
      },
      "id": "Z0ChdpwbHVeW",
      "execution_count": null,
      "outputs": []
    },
    {
      "cell_type": "code",
      "source": [
        "#df['ShippedDate'] = pd.to_datetime(df['ShippedDate'])"
      ],
      "metadata": {
        "id": "uQE_irD2HzcH"
      },
      "id": "uQE_irD2HzcH",
      "execution_count": null,
      "outputs": []
    },
    {
      "cell_type": "code",
      "execution_count": null,
      "id": "6d0ef9cf",
      "metadata": {
        "id": "6d0ef9cf"
      },
      "outputs": [],
      "source": [
        "#df.to_csv('C:/dfbaru.csv')"
      ]
    },
    {
      "cell_type": "markdown",
      "id": "496e2429",
      "metadata": {
        "id": "496e2429"
      },
      "source": [
        "Karena kita fokus ke menganalisa table orders yang berjumblah 830 rows"
      ]
    },
    {
      "cell_type": "code",
      "execution_count": null,
      "id": "123bea4b",
      "metadata": {
        "id": "123bea4b",
        "outputId": "1a237b21-a778-4b5f-f3e1-6727819f785c"
      },
      "outputs": [
        {
          "data": {
            "text/plain": [
              "(200415, 19)"
            ]
          },
          "execution_count": 146,
          "metadata": {},
          "output_type": "execute_result"
        }
      ],
      "source": [
        "df.shape"
      ]
    },
    {
      "cell_type": "markdown",
      "id": "6acdf3d8",
      "metadata": {
        "id": "6acdf3d8"
      },
      "source": [
        "# ** Data Preparation**\n",
        "\n",
        "Before we analysis the dataset, \n",
        "it is important to check :\n",
        "\n",
        "1) the data of missing values\n",
        "2) duplicate\n",
        "3) anomalies\n",
        "4) incorrect data types so that our analysis won't be biased or inaccurate."
      ]
    },
    {
      "cell_type": "code",
      "execution_count": null,
      "id": "89eb5398",
      "metadata": {
        "id": "89eb5398",
        "outputId": "22b535cb-3a55-43ae-f886-1990e3533db2"
      },
      "outputs": [
        {
          "data": {
            "text/plain": [
              "EmployeeID                  0\n",
              "EmployeeName                0\n",
              "Loc_Country_Employee        0\n",
              "OrderID                     0\n",
              "OrderDate                   0\n",
              "RequiredDate                0\n",
              "ShippedDate              6789\n",
              "ShipName                    0\n",
              "ShipCountry                 0\n",
              "CustomerID                  0\n",
              "Customer_Company_Name       0\n",
              "Customer_Country         4310\n",
              "ShipperID                   0\n",
              "Loc_ShipperCompany          0\n",
              "Sell_Price                  0\n",
              "BasePrice                   0\n",
              "Quantity                    0\n",
              "GrossIncome                 0\n",
              "BaseIncome                  0\n",
              "dtype: int64"
            ]
          },
          "execution_count": 147,
          "metadata": {},
          "output_type": "execute_result"
        }
      ],
      "source": [
        "# Check for missing values\n",
        "df.isna().sum()"
      ]
    },
    {
      "cell_type": "code",
      "execution_count": null,
      "id": "feb3ed5d",
      "metadata": {
        "id": "feb3ed5d",
        "outputId": "ba44c48c-a6f5-4879-ba74-42bfe3acfb42"
      },
      "outputs": [
        {
          "data": {
            "text/plain": [
              "EmployeeID                 0.000000\n",
              "EmployeeName               0.000000\n",
              "Loc_Country_Employee       0.000000\n",
              "OrderID                    0.000000\n",
              "OrderDate                  0.000000\n",
              "RequiredDate               0.000000\n",
              "ShippedDate              817.951807\n",
              "ShipName                   0.000000\n",
              "ShipCountry                0.000000\n",
              "CustomerID                 0.000000\n",
              "Customer_Company_Name      0.000000\n",
              "Customer_Country         519.277108\n",
              "ShipperID                  0.000000\n",
              "Loc_ShipperCompany         0.000000\n",
              "Sell_Price                 0.000000\n",
              "BasePrice                  0.000000\n",
              "Quantity                   0.000000\n",
              "GrossIncome                0.000000\n",
              "BaseIncome                 0.000000\n",
              "dtype: float64"
            ]
          },
          "execution_count": 95,
          "metadata": {},
          "output_type": "execute_result"
        }
      ],
      "source": [
        "Isnull = df.isnull().sum()/len(df)*100\n",
        "Isnull"
      ]
    },
    {
      "cell_type": "markdown",
      "id": "efa3e183",
      "metadata": {
        "id": "efa3e183"
      },
      "source": [
        "### a) ShippedDate              "
      ]
    },
    {
      "cell_type": "code",
      "execution_count": null,
      "id": "70f54782",
      "metadata": {
        "id": "70f54782",
        "outputId": "6aa0529d-b6c1-4e48-8262-7634858a4809"
      },
      "outputs": [
        {
          "data": {
            "text/plain": [
              "93"
            ]
          },
          "execution_count": 96,
          "metadata": {},
          "output_type": "execute_result"
        }
      ],
      "source": [
        "# Check for duplicates\n",
        "df.duplicated().sum()"
      ]
    },
    {
      "cell_type": "code",
      "execution_count": null,
      "id": "14c4ea71",
      "metadata": {
        "id": "14c4ea71",
        "outputId": "b0378e13-b7fa-47c0-fe82-4329aea09056"
      },
      "outputs": [
        {
          "data": {
            "text/plain": [
              "(6789, 19)"
            ]
          },
          "execution_count": 97,
          "metadata": {},
          "output_type": "execute_result"
        }
      ],
      "source": [
        "df[df['ShippedDate'].isna()].shape"
      ]
    },
    {
      "cell_type": "markdown",
      "id": "238ab5e4",
      "metadata": {
        "id": "238ab5e4"
      },
      "source": [
        "Focus Analysis Null Value on Shipped Date"
      ]
    },
    {
      "cell_type": "code",
      "execution_count": null,
      "id": "45cb71d3",
      "metadata": {
        "id": "45cb71d3",
        "outputId": "0593d531-9016-4b0a-c5be-144e3aa021e5"
      },
      "outputs": [
        {
          "data": {
            "text/html": [
              "<div>\n",
              "<style scoped>\n",
              "    .dataframe tbody tr th:only-of-type {\n",
              "        vertical-align: middle;\n",
              "    }\n",
              "\n",
              "    .dataframe tbody tr th {\n",
              "        vertical-align: top;\n",
              "    }\n",
              "\n",
              "    .dataframe thead th {\n",
              "        text-align: right;\n",
              "    }\n",
              "</style>\n",
              "<table border=\"1\" class=\"dataframe\">\n",
              "  <thead>\n",
              "    <tr style=\"text-align: right;\">\n",
              "      <th></th>\n",
              "      <th>EmployeeID</th>\n",
              "      <th>EmployeeName</th>\n",
              "      <th>Loc_Country_Employee</th>\n",
              "      <th>OrderID</th>\n",
              "      <th>OrderDate</th>\n",
              "      <th>RequiredDate</th>\n",
              "      <th>ShippedDate</th>\n",
              "      <th>ShipName</th>\n",
              "      <th>ShipCountry</th>\n",
              "      <th>CustomerID</th>\n",
              "      <th>Customer_Company_Name</th>\n",
              "      <th>Customer_Country</th>\n",
              "      <th>ShipperID</th>\n",
              "      <th>Loc_ShipperCompany</th>\n",
              "      <th>Sell_Price</th>\n",
              "      <th>BasePrice</th>\n",
              "      <th>Quantity</th>\n",
              "      <th>GrossIncome</th>\n",
              "      <th>BaseIncome</th>\n",
              "    </tr>\n",
              "  </thead>\n",
              "  <tbody>\n",
              "    <tr>\n",
              "      <th>17</th>\n",
              "      <td>7</td>\n",
              "      <td>Robert King</td>\n",
              "      <td>UK</td>\n",
              "      <td>11008</td>\n",
              "      <td>1998-04-08</td>\n",
              "      <td>1998-05-06</td>\n",
              "      <td>NaT</td>\n",
              "      <td>Ernst Handel</td>\n",
              "      <td>Austria</td>\n",
              "      <td>ALFKI</td>\n",
              "      <td>Alfreds Futterkiste</td>\n",
              "      <td>Germany</td>\n",
              "      <td>3</td>\n",
              "      <td>Federal Shipping</td>\n",
              "      <td>21.5000</td>\n",
              "      <td>21.5000</td>\n",
              "      <td>21</td>\n",
              "      <td>451.5000</td>\n",
              "      <td>451.5000</td>\n",
              "    </tr>\n",
              "    <tr>\n",
              "      <th>18</th>\n",
              "      <td>7</td>\n",
              "      <td>Robert King</td>\n",
              "      <td>UK</td>\n",
              "      <td>11008</td>\n",
              "      <td>1998-04-08</td>\n",
              "      <td>1998-05-06</td>\n",
              "      <td>NaT</td>\n",
              "      <td>Ernst Handel</td>\n",
              "      <td>Austria</td>\n",
              "      <td>ALFKI</td>\n",
              "      <td>Alfreds Futterkiste</td>\n",
              "      <td>Germany</td>\n",
              "      <td>3</td>\n",
              "      <td>Federal Shipping</td>\n",
              "      <td>14.0000</td>\n",
              "      <td>14.0000</td>\n",
              "      <td>90</td>\n",
              "      <td>1260.0000</td>\n",
              "      <td>1260.0000</td>\n",
              "    </tr>\n",
              "    <tr>\n",
              "      <th>19</th>\n",
              "      <td>7</td>\n",
              "      <td>Robert King</td>\n",
              "      <td>UK</td>\n",
              "      <td>11008</td>\n",
              "      <td>1998-04-08</td>\n",
              "      <td>1998-05-06</td>\n",
              "      <td>NaT</td>\n",
              "      <td>Ernst Handel</td>\n",
              "      <td>Austria</td>\n",
              "      <td>ALFKI</td>\n",
              "      <td>Alfreds Futterkiste</td>\n",
              "      <td>Germany</td>\n",
              "      <td>3</td>\n",
              "      <td>Federal Shipping</td>\n",
              "      <td>45.6000</td>\n",
              "      <td>45.6000</td>\n",
              "      <td>70</td>\n",
              "      <td>3192.0000</td>\n",
              "      <td>3192.0000</td>\n",
              "    </tr>\n",
              "    <tr>\n",
              "      <th>2000</th>\n",
              "      <td>7</td>\n",
              "      <td>Robert King</td>\n",
              "      <td>UK</td>\n",
              "      <td>11008</td>\n",
              "      <td>1998-04-08</td>\n",
              "      <td>1998-05-06</td>\n",
              "      <td>NaT</td>\n",
              "      <td>Ernst Handel</td>\n",
              "      <td>Austria</td>\n",
              "      <td>ANATR</td>\n",
              "      <td>Ana Trujillo Emparedados y helados</td>\n",
              "      <td>Mexico</td>\n",
              "      <td>3</td>\n",
              "      <td>Federal Shipping</td>\n",
              "      <td>21.5000</td>\n",
              "      <td>21.5000</td>\n",
              "      <td>21</td>\n",
              "      <td>451.5000</td>\n",
              "      <td>451.5000</td>\n",
              "    </tr>\n",
              "    <tr>\n",
              "      <th>2001</th>\n",
              "      <td>7</td>\n",
              "      <td>Robert King</td>\n",
              "      <td>UK</td>\n",
              "      <td>11008</td>\n",
              "      <td>1998-04-08</td>\n",
              "      <td>1998-05-06</td>\n",
              "      <td>NaT</td>\n",
              "      <td>Ernst Handel</td>\n",
              "      <td>Austria</td>\n",
              "      <td>ANATR</td>\n",
              "      <td>Ana Trujillo Emparedados y helados</td>\n",
              "      <td>Mexico</td>\n",
              "      <td>3</td>\n",
              "      <td>Federal Shipping</td>\n",
              "      <td>14.0000</td>\n",
              "      <td>14.0000</td>\n",
              "      <td>90</td>\n",
              "      <td>1260.0000</td>\n",
              "      <td>1260.0000</td>\n",
              "    </tr>\n",
              "    <tr>\n",
              "      <th>...</th>\n",
              "      <td>...</td>\n",
              "      <td>...</td>\n",
              "      <td>...</td>\n",
              "      <td>...</td>\n",
              "      <td>...</td>\n",
              "      <td>...</td>\n",
              "      <td>...</td>\n",
              "      <td>...</td>\n",
              "      <td>...</td>\n",
              "      <td>...</td>\n",
              "      <td>...</td>\n",
              "      <td>...</td>\n",
              "      <td>...</td>\n",
              "      <td>...</td>\n",
              "      <td>...</td>\n",
              "      <td>...</td>\n",
              "      <td>...</td>\n",
              "      <td>...</td>\n",
              "      <td>...</td>\n",
              "    </tr>\n",
              "    <tr>\n",
              "      <th>200351</th>\n",
              "      <td>1</td>\n",
              "      <td>Nancy Davolio</td>\n",
              "      <td>USA</td>\n",
              "      <td>11039</td>\n",
              "      <td>1998-04-21</td>\n",
              "      <td>1998-05-19</td>\n",
              "      <td>NaT</td>\n",
              "      <td>LINO-Delicateses</td>\n",
              "      <td>Venezuela</td>\n",
              "      <td>WOLZA</td>\n",
              "      <td>Wolski  Zajazd</td>\n",
              "      <td>Poland</td>\n",
              "      <td>2</td>\n",
              "      <td>United Package</td>\n",
              "      <td>20.0000</td>\n",
              "      <td>20.0000</td>\n",
              "      <td>60</td>\n",
              "      <td>1200.0000</td>\n",
              "      <td>1200.0000</td>\n",
              "    </tr>\n",
              "    <tr>\n",
              "      <th>200352</th>\n",
              "      <td>1</td>\n",
              "      <td>Nancy Davolio</td>\n",
              "      <td>USA</td>\n",
              "      <td>11039</td>\n",
              "      <td>1998-04-21</td>\n",
              "      <td>1998-05-19</td>\n",
              "      <td>NaT</td>\n",
              "      <td>LINO-Delicateses</td>\n",
              "      <td>Venezuela</td>\n",
              "      <td>WOLZA</td>\n",
              "      <td>Wolski  Zajazd</td>\n",
              "      <td>Poland</td>\n",
              "      <td>2</td>\n",
              "      <td>United Package</td>\n",
              "      <td>18.0000</td>\n",
              "      <td>18.0000</td>\n",
              "      <td>24</td>\n",
              "      <td>432.0000</td>\n",
              "      <td>432.0000</td>\n",
              "    </tr>\n",
              "    <tr>\n",
              "      <th>200353</th>\n",
              "      <td>1</td>\n",
              "      <td>Nancy Davolio</td>\n",
              "      <td>USA</td>\n",
              "      <td>11039</td>\n",
              "      <td>1998-04-21</td>\n",
              "      <td>1998-05-19</td>\n",
              "      <td>NaT</td>\n",
              "      <td>LINO-Delicateses</td>\n",
              "      <td>Venezuela</td>\n",
              "      <td>WOLZA</td>\n",
              "      <td>Wolski  Zajazd</td>\n",
              "      <td>Poland</td>\n",
              "      <td>2</td>\n",
              "      <td>United Package</td>\n",
              "      <td>45.6000</td>\n",
              "      <td>45.6000</td>\n",
              "      <td>20</td>\n",
              "      <td>912.0000</td>\n",
              "      <td>912.0000</td>\n",
              "    </tr>\n",
              "    <tr>\n",
              "      <th>200405</th>\n",
              "      <td>6</td>\n",
              "      <td>Michael Suyama</td>\n",
              "      <td>UK</td>\n",
              "      <td>11019</td>\n",
              "      <td>1998-04-13</td>\n",
              "      <td>1998-05-11</td>\n",
              "      <td>NaT</td>\n",
              "      <td>Rancho grande</td>\n",
              "      <td>Argentina</td>\n",
              "      <td>WOLZA</td>\n",
              "      <td>Wolski  Zajazd</td>\n",
              "      <td>Poland</td>\n",
              "      <td>3</td>\n",
              "      <td>Federal Shipping</td>\n",
              "      <td>20.0000</td>\n",
              "      <td>20.0000</td>\n",
              "      <td>2</td>\n",
              "      <td>40.0000</td>\n",
              "      <td>40.0000</td>\n",
              "    </tr>\n",
              "    <tr>\n",
              "      <th>200406</th>\n",
              "      <td>6</td>\n",
              "      <td>Michael Suyama</td>\n",
              "      <td>UK</td>\n",
              "      <td>11019</td>\n",
              "      <td>1998-04-13</td>\n",
              "      <td>1998-05-11</td>\n",
              "      <td>NaT</td>\n",
              "      <td>Rancho grande</td>\n",
              "      <td>Argentina</td>\n",
              "      <td>WOLZA</td>\n",
              "      <td>Wolski  Zajazd</td>\n",
              "      <td>Poland</td>\n",
              "      <td>3</td>\n",
              "      <td>Federal Shipping</td>\n",
              "      <td>12.0000</td>\n",
              "      <td>12.0000</td>\n",
              "      <td>3</td>\n",
              "      <td>36.0000</td>\n",
              "      <td>36.0000</td>\n",
              "    </tr>\n",
              "  </tbody>\n",
              "</table>\n",
              "<p>6789 rows × 19 columns</p>\n",
              "</div>"
            ],
            "text/plain": [
              "        EmployeeID    EmployeeName Loc_Country_Employee  OrderID  OrderDate  \\\n",
              "17               7     Robert King                   UK    11008 1998-04-08   \n",
              "18               7     Robert King                   UK    11008 1998-04-08   \n",
              "19               7     Robert King                   UK    11008 1998-04-08   \n",
              "2000             7     Robert King                   UK    11008 1998-04-08   \n",
              "2001             7     Robert King                   UK    11008 1998-04-08   \n",
              "...            ...             ...                  ...      ...        ...   \n",
              "200351           1   Nancy Davolio                  USA    11039 1998-04-21   \n",
              "200352           1   Nancy Davolio                  USA    11039 1998-04-21   \n",
              "200353           1   Nancy Davolio                  USA    11039 1998-04-21   \n",
              "200405           6  Michael Suyama                   UK    11019 1998-04-13   \n",
              "200406           6  Michael Suyama                   UK    11019 1998-04-13   \n",
              "\n",
              "       RequiredDate ShippedDate          ShipName ShipCountry CustomerID  \\\n",
              "17       1998-05-06         NaT      Ernst Handel     Austria      ALFKI   \n",
              "18       1998-05-06         NaT      Ernst Handel     Austria      ALFKI   \n",
              "19       1998-05-06         NaT      Ernst Handel     Austria      ALFKI   \n",
              "2000     1998-05-06         NaT      Ernst Handel     Austria      ANATR   \n",
              "2001     1998-05-06         NaT      Ernst Handel     Austria      ANATR   \n",
              "...             ...         ...               ...         ...        ...   \n",
              "200351   1998-05-19         NaT  LINO-Delicateses   Venezuela      WOLZA   \n",
              "200352   1998-05-19         NaT  LINO-Delicateses   Venezuela      WOLZA   \n",
              "200353   1998-05-19         NaT  LINO-Delicateses   Venezuela      WOLZA   \n",
              "200405   1998-05-11         NaT     Rancho grande   Argentina      WOLZA   \n",
              "200406   1998-05-11         NaT     Rancho grande   Argentina      WOLZA   \n",
              "\n",
              "                     Customer_Company_Name Customer_Country  ShipperID  \\\n",
              "17                     Alfreds Futterkiste          Germany          3   \n",
              "18                     Alfreds Futterkiste          Germany          3   \n",
              "19                     Alfreds Futterkiste          Germany          3   \n",
              "2000    Ana Trujillo Emparedados y helados           Mexico          3   \n",
              "2001    Ana Trujillo Emparedados y helados           Mexico          3   \n",
              "...                                    ...              ...        ...   \n",
              "200351                      Wolski  Zajazd           Poland          2   \n",
              "200352                      Wolski  Zajazd           Poland          2   \n",
              "200353                      Wolski  Zajazd           Poland          2   \n",
              "200405                      Wolski  Zajazd           Poland          3   \n",
              "200406                      Wolski  Zajazd           Poland          3   \n",
              "\n",
              "       Loc_ShipperCompany Sell_Price BasePrice  Quantity GrossIncome  \\\n",
              "17       Federal Shipping    21.5000   21.5000        21    451.5000   \n",
              "18       Federal Shipping    14.0000   14.0000        90   1260.0000   \n",
              "19       Federal Shipping    45.6000   45.6000        70   3192.0000   \n",
              "2000     Federal Shipping    21.5000   21.5000        21    451.5000   \n",
              "2001     Federal Shipping    14.0000   14.0000        90   1260.0000   \n",
              "...                   ...        ...       ...       ...         ...   \n",
              "200351     United Package    20.0000   20.0000        60   1200.0000   \n",
              "200352     United Package    18.0000   18.0000        24    432.0000   \n",
              "200353     United Package    45.6000   45.6000        20    912.0000   \n",
              "200405   Federal Shipping    20.0000   20.0000         2     40.0000   \n",
              "200406   Federal Shipping    12.0000   12.0000         3     36.0000   \n",
              "\n",
              "       BaseIncome  \n",
              "17       451.5000  \n",
              "18      1260.0000  \n",
              "19      3192.0000  \n",
              "2000     451.5000  \n",
              "2001    1260.0000  \n",
              "...           ...  \n",
              "200351  1200.0000  \n",
              "200352   432.0000  \n",
              "200353   912.0000  \n",
              "200405    40.0000  \n",
              "200406    36.0000  \n",
              "\n",
              "[6789 rows x 19 columns]"
            ]
          },
          "execution_count": 98,
          "metadata": {},
          "output_type": "execute_result"
        }
      ],
      "source": [
        "df[df['ShippedDate'].isna()]"
      ]
    },
    {
      "cell_type": "markdown",
      "id": "32c88cae",
      "metadata": {
        "id": "32c88cae"
      },
      "source": [
        "Why ShippedDate input NaT value ? confirm this is wrong input from admin so we can drop this rows"
      ]
    },
    {
      "cell_type": "code",
      "execution_count": null,
      "id": "4203e0ad",
      "metadata": {
        "id": "4203e0ad"
      },
      "outputs": [],
      "source": [
        "df = df.drop(df.index[df['ShippedDate'].isna()], inplace=True)"
      ]
    },
    {
      "cell_type": "code",
      "execution_count": null,
      "id": "bfb79409",
      "metadata": {
        "id": "bfb79409",
        "outputId": "8811b0f7-aec9-4997-cdf2-33e820de1c53"
      },
      "outputs": [
        {
          "data": {
            "text/plain": [
              "(193626, 19)"
            ]
          },
          "execution_count": 100,
          "metadata": {},
          "output_type": "execute_result"
        }
      ],
      "source": [
        "df.shape"
      ]
    },
    {
      "cell_type": "code",
      "execution_count": null,
      "id": "cb8aa05a",
      "metadata": {
        "id": "cb8aa05a",
        "outputId": "c51e2739-556f-469c-93e2-8263b2a2c33a"
      },
      "outputs": [
        {
          "ename": "AttributeError",
          "evalue": "'NoneType' object has no attribute 'shape'",
          "output_type": "error",
          "traceback": [
            "\u001b[1;31m---------------------------------------------------------------------------\u001b[0m",
            "\u001b[1;31mAttributeError\u001b[0m                            Traceback (most recent call last)",
            "\u001b[1;32m~\\AppData\\Local\\Temp/ipykernel_17884/857714779.py\u001b[0m in \u001b[0;36m<module>\u001b[1;34m\u001b[0m\n\u001b[1;32m----> 1\u001b[1;33m \u001b[0mdf\u001b[0m\u001b[1;33m.\u001b[0m\u001b[0mshape\u001b[0m\u001b[1;33m\u001b[0m\u001b[1;33m\u001b[0m\u001b[0m\n\u001b[0m",
            "\u001b[1;31mAttributeError\u001b[0m: 'NoneType' object has no attribute 'shape'"
          ]
        }
      ],
      "source": [
        "df.shape"
      ]
    },
    {
      "cell_type": "code",
      "execution_count": null,
      "id": "8e3f1202",
      "metadata": {
        "id": "8e3f1202",
        "outputId": "1e450776-91d6-46ef-8ad1-4fbe909bd1ac"
      },
      "outputs": [
        {
          "data": {
            "text/plain": [
              "EmployeeID                  0\n",
              "EmployeeName                0\n",
              "Loc_Country_Employee        0\n",
              "OrderID                     0\n",
              "OrderDate                   0\n",
              "RequiredDate                0\n",
              "ShippedDate                 0\n",
              "ShipName                    0\n",
              "ShipCountry                 0\n",
              "CustomerID                  0\n",
              "Customer_Company_Name       0\n",
              "Customer_Country         4164\n",
              "ShipperID                   0\n",
              "Loc_ShipperCompany          0\n",
              "Sell_Price                  0\n",
              "BasePrice                   0\n",
              "Quantity                    0\n",
              "GrossIncome                 0\n",
              "BaseIncome                  0\n",
              "dtype: int64"
            ]
          },
          "execution_count": 104,
          "metadata": {},
          "output_type": "execute_result"
        }
      ],
      "source": [
        "# Check Missing Value Percentage\n",
        "\n",
        "df.isnull().sum()"
      ]
    },
    {
      "cell_type": "code",
      "execution_count": null,
      "id": "8e318891",
      "metadata": {
        "id": "8e318891"
      },
      "outputs": [],
      "source": [
        "percentage missing value"
      ]
    },
    {
      "cell_type": "code",
      "execution_count": null,
      "id": "0e2fd1f4",
      "metadata": {
        "id": "0e2fd1f4",
        "outputId": "5fe2365c-ebe4-4c2a-d4b8-577d7817e883"
      },
      "outputs": [
        {
          "data": {
            "text/plain": [
              "EmployeeID               0.000000\n",
              "EmployeeName             0.000000\n",
              "Loc_Country_Employee     0.000000\n",
              "OrderID                  0.000000\n",
              "OrderDate                0.000000\n",
              "RequiredDate             0.000000\n",
              "ShippedDate              0.000000\n",
              "ShipName                 0.000000\n",
              "ShipCountry              0.000000\n",
              "CustomerID               0.000000\n",
              "Customer_Company_Name    0.000000\n",
              "Customer_Country         5.016867\n",
              "ShipperID                0.000000\n",
              "Loc_ShipperCompany       0.000000\n",
              "Sell_Price               0.000000\n",
              "BasePrice                0.000000\n",
              "Quantity                 0.000000\n",
              "GrossIncome              0.000000\n",
              "BaseIncome               0.000000\n",
              "dtype: float64"
            ]
          },
          "execution_count": 106,
          "metadata": {},
          "output_type": "execute_result"
        }
      ],
      "source": [
        "Isnull = df.isnull().sum()/len(orders)\n",
        "Isnull"
      ]
    },
    {
      "cell_type": "markdown",
      "id": "f7edd732",
      "metadata": {
        "id": "f7edd732"
      },
      "source": [
        "## b) Customer_Country         "
      ]
    },
    {
      "cell_type": "code",
      "execution_count": null,
      "id": "45726562",
      "metadata": {
        "id": "45726562",
        "outputId": "08a38d41-0023-43be-d4bb-a057124ca2c2"
      },
      "outputs": [
        {
          "data": {
            "text/plain": [
              "(4164, 19)"
            ]
          },
          "execution_count": 107,
          "metadata": {},
          "output_type": "execute_result"
        }
      ],
      "source": [
        "df[df['Customer_Country'].isna()].shape"
      ]
    },
    {
      "cell_type": "code",
      "execution_count": null,
      "id": "300a1145",
      "metadata": {
        "id": "300a1145",
        "outputId": "792e1222-3324-477e-c3f6-0a3d1fc49c5a"
      },
      "outputs": [
        {
          "data": {
            "text/html": [
              "<div>\n",
              "<style scoped>\n",
              "    .dataframe tbody tr th:only-of-type {\n",
              "        vertical-align: middle;\n",
              "    }\n",
              "\n",
              "    .dataframe tbody tr th {\n",
              "        vertical-align: top;\n",
              "    }\n",
              "\n",
              "    .dataframe thead th {\n",
              "        text-align: right;\n",
              "    }\n",
              "</style>\n",
              "<table border=\"1\" class=\"dataframe\">\n",
              "  <thead>\n",
              "    <tr style=\"text-align: right;\">\n",
              "      <th></th>\n",
              "      <th>EmployeeID</th>\n",
              "      <th>EmployeeName</th>\n",
              "      <th>Loc_Country_Employee</th>\n",
              "      <th>OrderID</th>\n",
              "      <th>OrderDate</th>\n",
              "      <th>RequiredDate</th>\n",
              "      <th>ShippedDate</th>\n",
              "      <th>ShipName</th>\n",
              "      <th>ShipCountry</th>\n",
              "      <th>CustomerID</th>\n",
              "      <th>Customer_Company_Name</th>\n",
              "      <th>Customer_Country</th>\n",
              "      <th>ShipperID</th>\n",
              "      <th>Loc_ShipperCompany</th>\n",
              "      <th>Sell_Price</th>\n",
              "      <th>BasePrice</th>\n",
              "      <th>Quantity</th>\n",
              "      <th>GrossIncome</th>\n",
              "      <th>BaseIncome</th>\n",
              "    </tr>\n",
              "  </thead>\n",
              "  <tbody>\n",
              "    <tr>\n",
              "      <th>164589</th>\n",
              "      <td>2</td>\n",
              "      <td>Andrew Fuller</td>\n",
              "      <td>USA</td>\n",
              "      <td>11015</td>\n",
              "      <td>1998-04-10</td>\n",
              "      <td>1998-04-24</td>\n",
              "      <td>1998-04-20</td>\n",
              "      <td>Sant Gourmet</td>\n",
              "      <td>Norway</td>\n",
              "      <td>Val2</td>\n",
              "      <td>IT</td>\n",
              "      <td>None</td>\n",
              "      <td>2</td>\n",
              "      <td>United Package</td>\n",
              "      <td>13.0000</td>\n",
              "      <td>13.0000</td>\n",
              "      <td>18</td>\n",
              "      <td>234.0000</td>\n",
              "      <td>234.0000</td>\n",
              "    </tr>\n",
              "    <tr>\n",
              "      <th>164590</th>\n",
              "      <td>2</td>\n",
              "      <td>Andrew Fuller</td>\n",
              "      <td>USA</td>\n",
              "      <td>11015</td>\n",
              "      <td>1998-04-10</td>\n",
              "      <td>1998-04-24</td>\n",
              "      <td>1998-04-20</td>\n",
              "      <td>Sant Gourmet</td>\n",
              "      <td>Norway</td>\n",
              "      <td>Val2</td>\n",
              "      <td>IT</td>\n",
              "      <td>None</td>\n",
              "      <td>2</td>\n",
              "      <td>United Package</td>\n",
              "      <td>25.8900</td>\n",
              "      <td>25.8900</td>\n",
              "      <td>15</td>\n",
              "      <td>388.3500</td>\n",
              "      <td>388.3500</td>\n",
              "    </tr>\n",
              "    <tr>\n",
              "      <th>164591</th>\n",
              "      <td>2</td>\n",
              "      <td>Andrew Fuller</td>\n",
              "      <td>USA</td>\n",
              "      <td>11014</td>\n",
              "      <td>1998-04-10</td>\n",
              "      <td>1998-05-08</td>\n",
              "      <td>1998-04-15</td>\n",
              "      <td>LINO-Delicateses</td>\n",
              "      <td>Venezuela</td>\n",
              "      <td>Val2</td>\n",
              "      <td>IT</td>\n",
              "      <td>None</td>\n",
              "      <td>3</td>\n",
              "      <td>Federal Shipping</td>\n",
              "      <td>9.6500</td>\n",
              "      <td>9.6500</td>\n",
              "      <td>28</td>\n",
              "      <td>270.2000</td>\n",
              "      <td>270.2000</td>\n",
              "    </tr>\n",
              "    <tr>\n",
              "      <th>164592</th>\n",
              "      <td>2</td>\n",
              "      <td>Andrew Fuller</td>\n",
              "      <td>USA</td>\n",
              "      <td>11013</td>\n",
              "      <td>1998-04-09</td>\n",
              "      <td>1998-05-07</td>\n",
              "      <td>1998-04-10</td>\n",
              "      <td>Romero y tomillo</td>\n",
              "      <td>Spain</td>\n",
              "      <td>Val2</td>\n",
              "      <td>IT</td>\n",
              "      <td>None</td>\n",
              "      <td>1</td>\n",
              "      <td>Speedy Express</td>\n",
              "      <td>12.5000</td>\n",
              "      <td>12.5000</td>\n",
              "      <td>2</td>\n",
              "      <td>25.0000</td>\n",
              "      <td>25.0000</td>\n",
              "    </tr>\n",
              "    <tr>\n",
              "      <th>164593</th>\n",
              "      <td>2</td>\n",
              "      <td>Andrew Fuller</td>\n",
              "      <td>USA</td>\n",
              "      <td>11013</td>\n",
              "      <td>1998-04-09</td>\n",
              "      <td>1998-05-07</td>\n",
              "      <td>1998-04-10</td>\n",
              "      <td>Romero y tomillo</td>\n",
              "      <td>Spain</td>\n",
              "      <td>Val2</td>\n",
              "      <td>IT</td>\n",
              "      <td>None</td>\n",
              "      <td>1</td>\n",
              "      <td>Speedy Express</td>\n",
              "      <td>9.5000</td>\n",
              "      <td>9.5000</td>\n",
              "      <td>20</td>\n",
              "      <td>190.0000</td>\n",
              "      <td>190.0000</td>\n",
              "    </tr>\n",
              "    <tr>\n",
              "      <th>...</th>\n",
              "      <td>...</td>\n",
              "      <td>...</td>\n",
              "      <td>...</td>\n",
              "      <td>...</td>\n",
              "      <td>...</td>\n",
              "      <td>...</td>\n",
              "      <td>...</td>\n",
              "      <td>...</td>\n",
              "      <td>...</td>\n",
              "      <td>...</td>\n",
              "      <td>...</td>\n",
              "      <td>...</td>\n",
              "      <td>...</td>\n",
              "      <td>...</td>\n",
              "      <td>...</td>\n",
              "      <td>...</td>\n",
              "      <td>...</td>\n",
              "      <td>...</td>\n",
              "      <td>...</td>\n",
              "    </tr>\n",
              "    <tr>\n",
              "      <th>199034</th>\n",
              "      <td>9</td>\n",
              "      <td>Anne Dodsworth</td>\n",
              "      <td>UK</td>\n",
              "      <td>11017</td>\n",
              "      <td>1998-04-13</td>\n",
              "      <td>1998-05-11</td>\n",
              "      <td>1998-04-20</td>\n",
              "      <td>Ernst Handel</td>\n",
              "      <td>Austria</td>\n",
              "      <td>VALON</td>\n",
              "      <td>IT</td>\n",
              "      <td>None</td>\n",
              "      <td>2</td>\n",
              "      <td>United Package</td>\n",
              "      <td>15.0000</td>\n",
              "      <td>15.0000</td>\n",
              "      <td>30</td>\n",
              "      <td>450.0000</td>\n",
              "      <td>450.0000</td>\n",
              "    </tr>\n",
              "    <tr>\n",
              "      <th>199035</th>\n",
              "      <td>9</td>\n",
              "      <td>Anne Dodsworth</td>\n",
              "      <td>UK</td>\n",
              "      <td>11017</td>\n",
              "      <td>1998-04-13</td>\n",
              "      <td>1998-05-11</td>\n",
              "      <td>1998-04-20</td>\n",
              "      <td>Ernst Handel</td>\n",
              "      <td>Austria</td>\n",
              "      <td>VALON</td>\n",
              "      <td>IT</td>\n",
              "      <td>None</td>\n",
              "      <td>2</td>\n",
              "      <td>United Package</td>\n",
              "      <td>55.0000</td>\n",
              "      <td>55.0000</td>\n",
              "      <td>110</td>\n",
              "      <td>6050.0000</td>\n",
              "      <td>6050.0000</td>\n",
              "    </tr>\n",
              "    <tr>\n",
              "      <th>199036</th>\n",
              "      <td>9</td>\n",
              "      <td>Anne Dodsworth</td>\n",
              "      <td>UK</td>\n",
              "      <td>11017</td>\n",
              "      <td>1998-04-13</td>\n",
              "      <td>1998-05-11</td>\n",
              "      <td>1998-04-20</td>\n",
              "      <td>Ernst Handel</td>\n",
              "      <td>Austria</td>\n",
              "      <td>VALON</td>\n",
              "      <td>IT</td>\n",
              "      <td>None</td>\n",
              "      <td>2</td>\n",
              "      <td>United Package</td>\n",
              "      <td>10.0000</td>\n",
              "      <td>10.0000</td>\n",
              "      <td>25</td>\n",
              "      <td>250.0000</td>\n",
              "      <td>250.0000</td>\n",
              "    </tr>\n",
              "    <tr>\n",
              "      <th>199037</th>\n",
              "      <td>9</td>\n",
              "      <td>Anne Dodsworth</td>\n",
              "      <td>UK</td>\n",
              "      <td>11016</td>\n",
              "      <td>1998-04-10</td>\n",
              "      <td>1998-05-08</td>\n",
              "      <td>1998-04-13</td>\n",
              "      <td>Around the Horn</td>\n",
              "      <td>UK</td>\n",
              "      <td>VALON</td>\n",
              "      <td>IT</td>\n",
              "      <td>None</td>\n",
              "      <td>2</td>\n",
              "      <td>United Package</td>\n",
              "      <td>19.0000</td>\n",
              "      <td>19.0000</td>\n",
              "      <td>16</td>\n",
              "      <td>304.0000</td>\n",
              "      <td>304.0000</td>\n",
              "    </tr>\n",
              "    <tr>\n",
              "      <th>199038</th>\n",
              "      <td>9</td>\n",
              "      <td>Anne Dodsworth</td>\n",
              "      <td>UK</td>\n",
              "      <td>11016</td>\n",
              "      <td>1998-04-10</td>\n",
              "      <td>1998-05-08</td>\n",
              "      <td>1998-04-13</td>\n",
              "      <td>Around the Horn</td>\n",
              "      <td>UK</td>\n",
              "      <td>VALON</td>\n",
              "      <td>IT</td>\n",
              "      <td>None</td>\n",
              "      <td>2</td>\n",
              "      <td>United Package</td>\n",
              "      <td>12.5000</td>\n",
              "      <td>12.5000</td>\n",
              "      <td>15</td>\n",
              "      <td>187.5000</td>\n",
              "      <td>187.5000</td>\n",
              "    </tr>\n",
              "  </tbody>\n",
              "</table>\n",
              "<p>4164 rows × 19 columns</p>\n",
              "</div>"
            ],
            "text/plain": [
              "        EmployeeID    EmployeeName Loc_Country_Employee  OrderID  OrderDate  \\\n",
              "164589           2   Andrew Fuller                  USA    11015 1998-04-10   \n",
              "164590           2   Andrew Fuller                  USA    11015 1998-04-10   \n",
              "164591           2   Andrew Fuller                  USA    11014 1998-04-10   \n",
              "164592           2   Andrew Fuller                  USA    11013 1998-04-09   \n",
              "164593           2   Andrew Fuller                  USA    11013 1998-04-09   \n",
              "...            ...             ...                  ...      ...        ...   \n",
              "199034           9  Anne Dodsworth                   UK    11017 1998-04-13   \n",
              "199035           9  Anne Dodsworth                   UK    11017 1998-04-13   \n",
              "199036           9  Anne Dodsworth                   UK    11017 1998-04-13   \n",
              "199037           9  Anne Dodsworth                   UK    11016 1998-04-10   \n",
              "199038           9  Anne Dodsworth                   UK    11016 1998-04-10   \n",
              "\n",
              "       RequiredDate ShippedDate          ShipName ShipCountry CustomerID  \\\n",
              "164589   1998-04-24  1998-04-20      Sant Gourmet      Norway      Val2    \n",
              "164590   1998-04-24  1998-04-20      Sant Gourmet      Norway      Val2    \n",
              "164591   1998-05-08  1998-04-15  LINO-Delicateses   Venezuela      Val2    \n",
              "164592   1998-05-07  1998-04-10  Romero y tomillo       Spain      Val2    \n",
              "164593   1998-05-07  1998-04-10  Romero y tomillo       Spain      Val2    \n",
              "...             ...         ...               ...         ...        ...   \n",
              "199034   1998-05-11  1998-04-20      Ernst Handel     Austria      VALON   \n",
              "199035   1998-05-11  1998-04-20      Ernst Handel     Austria      VALON   \n",
              "199036   1998-05-11  1998-04-20      Ernst Handel     Austria      VALON   \n",
              "199037   1998-05-08  1998-04-13   Around the Horn          UK      VALON   \n",
              "199038   1998-05-08  1998-04-13   Around the Horn          UK      VALON   \n",
              "\n",
              "       Customer_Company_Name Customer_Country  ShipperID Loc_ShipperCompany  \\\n",
              "164589                    IT             None          2     United Package   \n",
              "164590                    IT             None          2     United Package   \n",
              "164591                    IT             None          3   Federal Shipping   \n",
              "164592                    IT             None          1     Speedy Express   \n",
              "164593                    IT             None          1     Speedy Express   \n",
              "...                      ...              ...        ...                ...   \n",
              "199034                    IT             None          2     United Package   \n",
              "199035                    IT             None          2     United Package   \n",
              "199036                    IT             None          2     United Package   \n",
              "199037                    IT             None          2     United Package   \n",
              "199038                    IT             None          2     United Package   \n",
              "\n",
              "       Sell_Price BasePrice  Quantity GrossIncome BaseIncome  \n",
              "164589    13.0000   13.0000        18    234.0000   234.0000  \n",
              "164590    25.8900   25.8900        15    388.3500   388.3500  \n",
              "164591     9.6500    9.6500        28    270.2000   270.2000  \n",
              "164592    12.5000   12.5000         2     25.0000    25.0000  \n",
              "164593     9.5000    9.5000        20    190.0000   190.0000  \n",
              "...           ...       ...       ...         ...        ...  \n",
              "199034    15.0000   15.0000        30    450.0000   450.0000  \n",
              "199035    55.0000   55.0000       110   6050.0000  6050.0000  \n",
              "199036    10.0000   10.0000        25    250.0000   250.0000  \n",
              "199037    19.0000   19.0000        16    304.0000   304.0000  \n",
              "199038    12.5000   12.5000        15    187.5000   187.5000  \n",
              "\n",
              "[4164 rows x 19 columns]"
            ]
          },
          "execution_count": 108,
          "metadata": {},
          "output_type": "execute_result"
        }
      ],
      "source": [
        " df[df['Customer_Country'].isna()]"
      ]
    },
    {
      "cell_type": "code",
      "execution_count": null,
      "id": "00ea19c2",
      "metadata": {
        "id": "00ea19c2",
        "outputId": "92c221c7-5a29-41f0-b760-37c58f1153d5"
      },
      "outputs": [
        {
          "data": {
            "text/html": [
              "<div>\n",
              "<style scoped>\n",
              "    .dataframe tbody tr th:only-of-type {\n",
              "        vertical-align: middle;\n",
              "    }\n",
              "\n",
              "    .dataframe tbody tr th {\n",
              "        vertical-align: top;\n",
              "    }\n",
              "\n",
              "    .dataframe thead th {\n",
              "        text-align: right;\n",
              "    }\n",
              "</style>\n",
              "<table border=\"1\" class=\"dataframe\">\n",
              "  <thead>\n",
              "    <tr style=\"text-align: right;\">\n",
              "      <th></th>\n",
              "      <th>EmployeeID</th>\n",
              "      <th>EmployeeName</th>\n",
              "      <th>Loc_Country_Employee</th>\n",
              "      <th>OrderID</th>\n",
              "      <th>OrderDate</th>\n",
              "      <th>RequiredDate</th>\n",
              "      <th>ShippedDate</th>\n",
              "      <th>ShipName</th>\n",
              "      <th>ShipCountry</th>\n",
              "      <th>CustomerID</th>\n",
              "      <th>Customer_Company_Name</th>\n",
              "      <th>Customer_Country</th>\n",
              "      <th>ShipperID</th>\n",
              "      <th>Loc_ShipperCompany</th>\n",
              "      <th>Sell_Price</th>\n",
              "      <th>BasePrice</th>\n",
              "      <th>Quantity</th>\n",
              "      <th>GrossIncome</th>\n",
              "      <th>BaseIncome</th>\n",
              "    </tr>\n",
              "  </thead>\n",
              "  <tbody>\n",
              "    <tr>\n",
              "      <th>166572</th>\n",
              "      <td>2</td>\n",
              "      <td>Andrew Fuller</td>\n",
              "      <td>USA</td>\n",
              "      <td>11015</td>\n",
              "      <td>1998-04-10</td>\n",
              "      <td>1998-04-24</td>\n",
              "      <td>1998-04-20</td>\n",
              "      <td>Sant Gourmet</td>\n",
              "      <td>Norway</td>\n",
              "      <td>VALON</td>\n",
              "      <td>IT</td>\n",
              "      <td>None</td>\n",
              "      <td>2</td>\n",
              "      <td>United Package</td>\n",
              "      <td>13.0000</td>\n",
              "      <td>13.0000</td>\n",
              "      <td>18</td>\n",
              "      <td>234.0000</td>\n",
              "      <td>234.0000</td>\n",
              "    </tr>\n",
              "    <tr>\n",
              "      <th>166573</th>\n",
              "      <td>2</td>\n",
              "      <td>Andrew Fuller</td>\n",
              "      <td>USA</td>\n",
              "      <td>11015</td>\n",
              "      <td>1998-04-10</td>\n",
              "      <td>1998-04-24</td>\n",
              "      <td>1998-04-20</td>\n",
              "      <td>Sant Gourmet</td>\n",
              "      <td>Norway</td>\n",
              "      <td>VALON</td>\n",
              "      <td>IT</td>\n",
              "      <td>None</td>\n",
              "      <td>2</td>\n",
              "      <td>United Package</td>\n",
              "      <td>25.8900</td>\n",
              "      <td>25.8900</td>\n",
              "      <td>15</td>\n",
              "      <td>388.3500</td>\n",
              "      <td>388.3500</td>\n",
              "    </tr>\n",
              "    <tr>\n",
              "      <th>166574</th>\n",
              "      <td>2</td>\n",
              "      <td>Andrew Fuller</td>\n",
              "      <td>USA</td>\n",
              "      <td>11014</td>\n",
              "      <td>1998-04-10</td>\n",
              "      <td>1998-05-08</td>\n",
              "      <td>1998-04-15</td>\n",
              "      <td>LINO-Delicateses</td>\n",
              "      <td>Venezuela</td>\n",
              "      <td>VALON</td>\n",
              "      <td>IT</td>\n",
              "      <td>None</td>\n",
              "      <td>3</td>\n",
              "      <td>Federal Shipping</td>\n",
              "      <td>9.6500</td>\n",
              "      <td>9.6500</td>\n",
              "      <td>28</td>\n",
              "      <td>270.2000</td>\n",
              "      <td>270.2000</td>\n",
              "    </tr>\n",
              "    <tr>\n",
              "      <th>166575</th>\n",
              "      <td>2</td>\n",
              "      <td>Andrew Fuller</td>\n",
              "      <td>USA</td>\n",
              "      <td>11013</td>\n",
              "      <td>1998-04-09</td>\n",
              "      <td>1998-05-07</td>\n",
              "      <td>1998-04-10</td>\n",
              "      <td>Romero y tomillo</td>\n",
              "      <td>Spain</td>\n",
              "      <td>VALON</td>\n",
              "      <td>IT</td>\n",
              "      <td>None</td>\n",
              "      <td>1</td>\n",
              "      <td>Speedy Express</td>\n",
              "      <td>12.5000</td>\n",
              "      <td>12.5000</td>\n",
              "      <td>2</td>\n",
              "      <td>25.0000</td>\n",
              "      <td>25.0000</td>\n",
              "    </tr>\n",
              "    <tr>\n",
              "      <th>166576</th>\n",
              "      <td>2</td>\n",
              "      <td>Andrew Fuller</td>\n",
              "      <td>USA</td>\n",
              "      <td>11013</td>\n",
              "      <td>1998-04-09</td>\n",
              "      <td>1998-05-07</td>\n",
              "      <td>1998-04-10</td>\n",
              "      <td>Romero y tomillo</td>\n",
              "      <td>Spain</td>\n",
              "      <td>VALON</td>\n",
              "      <td>IT</td>\n",
              "      <td>None</td>\n",
              "      <td>1</td>\n",
              "      <td>Speedy Express</td>\n",
              "      <td>9.5000</td>\n",
              "      <td>9.5000</td>\n",
              "      <td>20</td>\n",
              "      <td>190.0000</td>\n",
              "      <td>190.0000</td>\n",
              "    </tr>\n",
              "    <tr>\n",
              "      <th>...</th>\n",
              "      <td>...</td>\n",
              "      <td>...</td>\n",
              "      <td>...</td>\n",
              "      <td>...</td>\n",
              "      <td>...</td>\n",
              "      <td>...</td>\n",
              "      <td>...</td>\n",
              "      <td>...</td>\n",
              "      <td>...</td>\n",
              "      <td>...</td>\n",
              "      <td>...</td>\n",
              "      <td>...</td>\n",
              "      <td>...</td>\n",
              "      <td>...</td>\n",
              "      <td>...</td>\n",
              "      <td>...</td>\n",
              "      <td>...</td>\n",
              "      <td>...</td>\n",
              "      <td>...</td>\n",
              "    </tr>\n",
              "    <tr>\n",
              "      <th>199034</th>\n",
              "      <td>9</td>\n",
              "      <td>Anne Dodsworth</td>\n",
              "      <td>UK</td>\n",
              "      <td>11017</td>\n",
              "      <td>1998-04-13</td>\n",
              "      <td>1998-05-11</td>\n",
              "      <td>1998-04-20</td>\n",
              "      <td>Ernst Handel</td>\n",
              "      <td>Austria</td>\n",
              "      <td>VALON</td>\n",
              "      <td>IT</td>\n",
              "      <td>None</td>\n",
              "      <td>2</td>\n",
              "      <td>United Package</td>\n",
              "      <td>15.0000</td>\n",
              "      <td>15.0000</td>\n",
              "      <td>30</td>\n",
              "      <td>450.0000</td>\n",
              "      <td>450.0000</td>\n",
              "    </tr>\n",
              "    <tr>\n",
              "      <th>199035</th>\n",
              "      <td>9</td>\n",
              "      <td>Anne Dodsworth</td>\n",
              "      <td>UK</td>\n",
              "      <td>11017</td>\n",
              "      <td>1998-04-13</td>\n",
              "      <td>1998-05-11</td>\n",
              "      <td>1998-04-20</td>\n",
              "      <td>Ernst Handel</td>\n",
              "      <td>Austria</td>\n",
              "      <td>VALON</td>\n",
              "      <td>IT</td>\n",
              "      <td>None</td>\n",
              "      <td>2</td>\n",
              "      <td>United Package</td>\n",
              "      <td>55.0000</td>\n",
              "      <td>55.0000</td>\n",
              "      <td>110</td>\n",
              "      <td>6050.0000</td>\n",
              "      <td>6050.0000</td>\n",
              "    </tr>\n",
              "    <tr>\n",
              "      <th>199036</th>\n",
              "      <td>9</td>\n",
              "      <td>Anne Dodsworth</td>\n",
              "      <td>UK</td>\n",
              "      <td>11017</td>\n",
              "      <td>1998-04-13</td>\n",
              "      <td>1998-05-11</td>\n",
              "      <td>1998-04-20</td>\n",
              "      <td>Ernst Handel</td>\n",
              "      <td>Austria</td>\n",
              "      <td>VALON</td>\n",
              "      <td>IT</td>\n",
              "      <td>None</td>\n",
              "      <td>2</td>\n",
              "      <td>United Package</td>\n",
              "      <td>10.0000</td>\n",
              "      <td>10.0000</td>\n",
              "      <td>25</td>\n",
              "      <td>250.0000</td>\n",
              "      <td>250.0000</td>\n",
              "    </tr>\n",
              "    <tr>\n",
              "      <th>199037</th>\n",
              "      <td>9</td>\n",
              "      <td>Anne Dodsworth</td>\n",
              "      <td>UK</td>\n",
              "      <td>11016</td>\n",
              "      <td>1998-04-10</td>\n",
              "      <td>1998-05-08</td>\n",
              "      <td>1998-04-13</td>\n",
              "      <td>Around the Horn</td>\n",
              "      <td>UK</td>\n",
              "      <td>VALON</td>\n",
              "      <td>IT</td>\n",
              "      <td>None</td>\n",
              "      <td>2</td>\n",
              "      <td>United Package</td>\n",
              "      <td>19.0000</td>\n",
              "      <td>19.0000</td>\n",
              "      <td>16</td>\n",
              "      <td>304.0000</td>\n",
              "      <td>304.0000</td>\n",
              "    </tr>\n",
              "    <tr>\n",
              "      <th>199038</th>\n",
              "      <td>9</td>\n",
              "      <td>Anne Dodsworth</td>\n",
              "      <td>UK</td>\n",
              "      <td>11016</td>\n",
              "      <td>1998-04-10</td>\n",
              "      <td>1998-05-08</td>\n",
              "      <td>1998-04-13</td>\n",
              "      <td>Around the Horn</td>\n",
              "      <td>UK</td>\n",
              "      <td>VALON</td>\n",
              "      <td>IT</td>\n",
              "      <td>None</td>\n",
              "      <td>2</td>\n",
              "      <td>United Package</td>\n",
              "      <td>12.5000</td>\n",
              "      <td>12.5000</td>\n",
              "      <td>15</td>\n",
              "      <td>187.5000</td>\n",
              "      <td>187.5000</td>\n",
              "    </tr>\n",
              "  </tbody>\n",
              "</table>\n",
              "<p>2082 rows × 19 columns</p>\n",
              "</div>"
            ],
            "text/plain": [
              "        EmployeeID    EmployeeName Loc_Country_Employee  OrderID  OrderDate  \\\n",
              "166572           2   Andrew Fuller                  USA    11015 1998-04-10   \n",
              "166573           2   Andrew Fuller                  USA    11015 1998-04-10   \n",
              "166574           2   Andrew Fuller                  USA    11014 1998-04-10   \n",
              "166575           2   Andrew Fuller                  USA    11013 1998-04-09   \n",
              "166576           2   Andrew Fuller                  USA    11013 1998-04-09   \n",
              "...            ...             ...                  ...      ...        ...   \n",
              "199034           9  Anne Dodsworth                   UK    11017 1998-04-13   \n",
              "199035           9  Anne Dodsworth                   UK    11017 1998-04-13   \n",
              "199036           9  Anne Dodsworth                   UK    11017 1998-04-13   \n",
              "199037           9  Anne Dodsworth                   UK    11016 1998-04-10   \n",
              "199038           9  Anne Dodsworth                   UK    11016 1998-04-10   \n",
              "\n",
              "       RequiredDate ShippedDate          ShipName ShipCountry CustomerID  \\\n",
              "166572   1998-04-24  1998-04-20      Sant Gourmet      Norway      VALON   \n",
              "166573   1998-04-24  1998-04-20      Sant Gourmet      Norway      VALON   \n",
              "166574   1998-05-08  1998-04-15  LINO-Delicateses   Venezuela      VALON   \n",
              "166575   1998-05-07  1998-04-10  Romero y tomillo       Spain      VALON   \n",
              "166576   1998-05-07  1998-04-10  Romero y tomillo       Spain      VALON   \n",
              "...             ...         ...               ...         ...        ...   \n",
              "199034   1998-05-11  1998-04-20      Ernst Handel     Austria      VALON   \n",
              "199035   1998-05-11  1998-04-20      Ernst Handel     Austria      VALON   \n",
              "199036   1998-05-11  1998-04-20      Ernst Handel     Austria      VALON   \n",
              "199037   1998-05-08  1998-04-13   Around the Horn          UK      VALON   \n",
              "199038   1998-05-08  1998-04-13   Around the Horn          UK      VALON   \n",
              "\n",
              "       Customer_Company_Name Customer_Country  ShipperID Loc_ShipperCompany  \\\n",
              "166572                    IT             None          2     United Package   \n",
              "166573                    IT             None          2     United Package   \n",
              "166574                    IT             None          3   Federal Shipping   \n",
              "166575                    IT             None          1     Speedy Express   \n",
              "166576                    IT             None          1     Speedy Express   \n",
              "...                      ...              ...        ...                ...   \n",
              "199034                    IT             None          2     United Package   \n",
              "199035                    IT             None          2     United Package   \n",
              "199036                    IT             None          2     United Package   \n",
              "199037                    IT             None          2     United Package   \n",
              "199038                    IT             None          2     United Package   \n",
              "\n",
              "       Sell_Price BasePrice  Quantity GrossIncome BaseIncome  \n",
              "166572    13.0000   13.0000        18    234.0000   234.0000  \n",
              "166573    25.8900   25.8900        15    388.3500   388.3500  \n",
              "166574     9.6500    9.6500        28    270.2000   270.2000  \n",
              "166575    12.5000   12.5000         2     25.0000    25.0000  \n",
              "166576     9.5000    9.5000        20    190.0000   190.0000  \n",
              "...           ...       ...       ...         ...        ...  \n",
              "199034    15.0000   15.0000        30    450.0000   450.0000  \n",
              "199035    55.0000   55.0000       110   6050.0000  6050.0000  \n",
              "199036    10.0000   10.0000        25    250.0000   250.0000  \n",
              "199037    19.0000   19.0000        16    304.0000   304.0000  \n",
              "199038    12.5000   12.5000        15    187.5000   187.5000  \n",
              "\n",
              "[2082 rows x 19 columns]"
            ]
          },
          "execution_count": 109,
          "metadata": {},
          "output_type": "execute_result"
        }
      ],
      "source": [
        "df[df['CustomerID']=='VALON']"
      ]
    },
    {
      "cell_type": "code",
      "execution_count": null,
      "id": "4e03a665",
      "metadata": {
        "id": "4e03a665"
      },
      "outputs": [],
      "source": [
        "isnaCustomerCountry = df[df['Customer_Country'].isna()]"
      ]
    },
    {
      "cell_type": "code",
      "execution_count": null,
      "id": "5d60e0c3",
      "metadata": {
        "id": "5d60e0c3",
        "outputId": "deba96ee-3e90-48bb-d086-dae77e177f6e"
      },
      "outputs": [
        {
          "data": {
            "text/plain": [
              "164589    2\n",
              "164590    2\n",
              "Name: ShipperID, dtype: int64"
            ]
          },
          "execution_count": 111,
          "metadata": {},
          "output_type": "execute_result"
        }
      ],
      "source": [
        "isnaCustomerCountry['ShipperID'].head(2)"
      ]
    },
    {
      "cell_type": "code",
      "execution_count": null,
      "id": "c354d901",
      "metadata": {
        "id": "c354d901",
        "outputId": "6d033e9b-d437-4557-e062-af1b0f5a3b99"
      },
      "outputs": [
        {
          "data": {
            "text/plain": [
              "21"
            ]
          },
          "execution_count": 112,
          "metadata": {},
          "output_type": "execute_result"
        }
      ],
      "source": [
        "df['Customer_Country'].nunique()"
      ]
    },
    {
      "cell_type": "code",
      "execution_count": null,
      "id": "d5f3f33f",
      "metadata": {
        "id": "d5f3f33f",
        "outputId": "b861a034-5693-4cbf-de3e-2b8e66c4e3c7"
      },
      "outputs": [
        {
          "data": {
            "text/html": [
              "<div>\n",
              "<style scoped>\n",
              "    .dataframe tbody tr th:only-of-type {\n",
              "        vertical-align: middle;\n",
              "    }\n",
              "\n",
              "    .dataframe tbody tr th {\n",
              "        vertical-align: top;\n",
              "    }\n",
              "\n",
              "    .dataframe thead th {\n",
              "        text-align: right;\n",
              "    }\n",
              "</style>\n",
              "<table border=\"1\" class=\"dataframe\">\n",
              "  <thead>\n",
              "    <tr style=\"text-align: right;\">\n",
              "      <th></th>\n",
              "      <th>CustomerID</th>\n",
              "    </tr>\n",
              "    <tr>\n",
              "      <th>Customer_Country</th>\n",
              "      <th></th>\n",
              "    </tr>\n",
              "  </thead>\n",
              "  <tbody>\n",
              "    <tr>\n",
              "      <th>USA</th>\n",
              "      <td>13</td>\n",
              "    </tr>\n",
              "    <tr>\n",
              "      <th>Germany</th>\n",
              "      <td>11</td>\n",
              "    </tr>\n",
              "    <tr>\n",
              "      <th>France</th>\n",
              "      <td>11</td>\n",
              "    </tr>\n",
              "    <tr>\n",
              "      <th>Brazil</th>\n",
              "      <td>9</td>\n",
              "    </tr>\n",
              "    <tr>\n",
              "      <th>UK</th>\n",
              "      <td>7</td>\n",
              "    </tr>\n",
              "    <tr>\n",
              "      <th>Spain</th>\n",
              "      <td>5</td>\n",
              "    </tr>\n",
              "    <tr>\n",
              "      <th>Mexico</th>\n",
              "      <td>5</td>\n",
              "    </tr>\n",
              "    <tr>\n",
              "      <th>Venezuela</th>\n",
              "      <td>4</td>\n",
              "    </tr>\n",
              "    <tr>\n",
              "      <th>Argentina</th>\n",
              "      <td>3</td>\n",
              "    </tr>\n",
              "    <tr>\n",
              "      <th>Canada</th>\n",
              "      <td>3</td>\n",
              "    </tr>\n",
              "    <tr>\n",
              "      <th>Italy</th>\n",
              "      <td>3</td>\n",
              "    </tr>\n",
              "    <tr>\n",
              "      <th>Austria</th>\n",
              "      <td>2</td>\n",
              "    </tr>\n",
              "    <tr>\n",
              "      <th>Finland</th>\n",
              "      <td>2</td>\n",
              "    </tr>\n",
              "    <tr>\n",
              "      <th>Portugal</th>\n",
              "      <td>2</td>\n",
              "    </tr>\n",
              "    <tr>\n",
              "      <th>Denmark</th>\n",
              "      <td>2</td>\n",
              "    </tr>\n",
              "    <tr>\n",
              "      <th>Sweden</th>\n",
              "      <td>2</td>\n",
              "    </tr>\n",
              "    <tr>\n",
              "      <th>Switzerland</th>\n",
              "      <td>2</td>\n",
              "    </tr>\n",
              "    <tr>\n",
              "      <th>Belgium</th>\n",
              "      <td>2</td>\n",
              "    </tr>\n",
              "    <tr>\n",
              "      <th>Ireland</th>\n",
              "      <td>1</td>\n",
              "    </tr>\n",
              "    <tr>\n",
              "      <th>Norway</th>\n",
              "      <td>1</td>\n",
              "    </tr>\n",
              "    <tr>\n",
              "      <th>Poland</th>\n",
              "      <td>1</td>\n",
              "    </tr>\n",
              "  </tbody>\n",
              "</table>\n",
              "</div>"
            ],
            "text/plain": [
              "                  CustomerID\n",
              "Customer_Country            \n",
              "USA                       13\n",
              "Germany                   11\n",
              "France                    11\n",
              "Brazil                     9\n",
              "UK                         7\n",
              "Spain                      5\n",
              "Mexico                     5\n",
              "Venezuela                  4\n",
              "Argentina                  3\n",
              "Canada                     3\n",
              "Italy                      3\n",
              "Austria                    2\n",
              "Finland                    2\n",
              "Portugal                   2\n",
              "Denmark                    2\n",
              "Sweden                     2\n",
              "Switzerland                2\n",
              "Belgium                    2\n",
              "Ireland                    1\n",
              "Norway                     1\n",
              "Poland                     1"
            ]
          },
          "execution_count": 113,
          "metadata": {},
          "output_type": "execute_result"
        }
      ],
      "source": [
        "df.groupby(\"Customer_Country\").nunique().sort_values(\"CustomerID\", ascending=False)[[\"CustomerID\"]]"
      ]
    },
    {
      "cell_type": "markdown",
      "id": "13ea457e",
      "metadata": {
        "id": "13ea457e"
      },
      "source": [
        "Average data null value on customer country no way to put other list. so we can drop this rows"
      ]
    },
    {
      "cell_type": "code",
      "execution_count": null,
      "id": "01b57efc",
      "metadata": {
        "id": "01b57efc"
      },
      "outputs": [],
      "source": [
        "df = df.drop(df.index[df['Customer_Country'].isna()])"
      ]
    },
    {
      "cell_type": "code",
      "execution_count": null,
      "id": "66833dfb",
      "metadata": {
        "id": "66833dfb",
        "outputId": "5ce7a9c1-69e6-4052-e49c-e6719e088b15",
        "colab": {
          "base_uri": "https://localhost:8080/"
        }
      },
      "outputs": [
        {
          "output_type": "execute_result",
          "data": {
            "text/plain": [
              "Unnamed: 0               0\n",
              "EmployeeID               0\n",
              "EmployeeName             0\n",
              "Loc_Country_Employee     0\n",
              "OrderID                  0\n",
              "OrderDate                0\n",
              "RequiredDate             0\n",
              "ShippedDate              0\n",
              "ShipName                 0\n",
              "ShipCountry              0\n",
              "CustomerID               0\n",
              "Customer_Company_Name    0\n",
              "Customer_Country         0\n",
              "ShipperID                0\n",
              "Loc_ShipperCompany       0\n",
              "Sell_Price               0\n",
              "BasePrice                0\n",
              "Quantity                 0\n",
              "GrossIncome              0\n",
              "BaseIncome               0\n",
              "dtype: int64"
            ]
          },
          "metadata": {},
          "execution_count": 23
        }
      ],
      "source": [
        "df.isna().sum()"
      ]
    },
    {
      "cell_type": "code",
      "execution_count": null,
      "id": "5a3a4b44",
      "metadata": {
        "id": "5a3a4b44",
        "outputId": "8b81e557-e42f-4de0-e380-39a9581a3f50"
      },
      "outputs": [
        {
          "data": {
            "image/png": "[encoded data removed]",
            "text/plain": [
              "<Figure size 864x432 with 2 Axes>"
            ]
          },
          "metadata": {
            "needs_background": "light"
          },
          "output_type": "display_data"
        }
      ],
      "source": [
        "#plot of missing value attributes\n",
        "plt.figure(figsize=(12, 6))\n",
        "sns.heatmap(df.isnull())\n",
        "plt.show()"
      ]
    },
    {
      "cell_type": "markdown",
      "id": "2f700985",
      "metadata": {
        "id": "2f700985"
      },
      "source": [
        "### Check masing-masing unique value on dataset"
      ]
    },
    {
      "cell_type": "code",
      "execution_count": null,
      "id": "2b7c3dc9",
      "metadata": {
        "id": "2b7c3dc9",
        "outputId": "0fa0f7e8-af0b-47b4-a8e2-75534162b5f2"
      },
      "outputs": [
        {
          "name": "stdout",
          "output_type": "stream",
          "text": [
            "EmployeeName: 9\n",
            "Loc_Country_Employee: 2\n",
            "ShipName: 90\n",
            "ShipCountry: 21\n",
            "CustomerID: 91\n",
            "Customer_Company_Name: 91\n",
            "Customer_Country: 21\n",
            "Loc_ShipperCompany: 3\n",
            "Sell_Price: 116\n",
            "BasePrice: 62\n",
            "GrossIncome: 832\n",
            "BaseIncome: 709\n",
            "CAT col \n",
            " ['EmployeeName', 'Loc_Country_Employee', 'ShipName', 'ShipCountry', 'CustomerID', 'Customer_Company_Name', 'Customer_Country', 'Loc_ShipperCompany', 'Sell_Price', 'BasePrice', 'GrossIncome', 'BaseIncome']\n",
            "Numerical col\n",
            "\n",
            "['EmployeeID', 'OrderID', 'OrderDate', 'RequiredDate', 'ShippedDate', 'ShipperID', 'Quantity']\n"
          ]
        }
      ],
      "source": [
        "#deskripsi unique\n",
        "numerical_col = []\n",
        "cat_col = []\n",
        "for x in df.columns:\n",
        "    if df[x].dtype == 'object':\n",
        "        cat_col.append(x)\n",
        "        print(x+': ' + str(len(df[x].unique())))\n",
        "    else:\n",
        "        numerical_col.append(x)\n",
        "        \n",
        "print('CAT col \\n', cat_col)\n",
        "print('Numerical col\\n')\n",
        "print(numerical_col)"
      ]
    },
    {
      "cell_type": "code",
      "execution_count": null,
      "id": "c84ae998",
      "metadata": {
        "id": "c84ae998"
      },
      "outputs": [],
      "source": [
        ""
      ]
    },
    {
      "cell_type": "markdown",
      "id": "2cc27f6a",
      "metadata": {
        "id": "2cc27f6a"
      },
      "source": [
        "### Creating New Table for get information how long order customer when in delivery ( Create New Column)"
      ]
    },
    {
      "cell_type": "code",
      "execution_count": null,
      "id": "ae9c9710",
      "metadata": {
        "id": "ae9c9710",
        "outputId": "c21c2e6c-ff99-4eb3-a145-f1ae418d1238",
        "colab": {
          "base_uri": "https://localhost:8080/",
          "height": 257
        }
      },
      "outputs": [
        {
          "output_type": "execute_result",
          "data": {
            "text/plain": [
              "       Unnamed: 0  EmployeeID     EmployeeName Loc_Country_Employee  OrderID  \\\n",
              "13871       13892           3  Janet Leverling                  USA    11011   \n",
              "47937       48012           8   Laura Callahan                  USA    10845   \n",
              "\n",
              "        OrderDate RequiredDate ShippedDate              ShipName ShipCountry  \\\n",
              "13871  1998-04-09   1998-05-07  1998-04-13  Alfred-s Futterkiste     Germany   \n",
              "47937  1998-01-21   1998-02-04  1998-01-30            QUICK-Stop     Germany   \n",
              "\n",
              "       ...     Customer_Company_Name Customer_Country ShipperID  \\\n",
              "13871  ...  Blido Comidas preparadas            Spain         1   \n",
              "47937  ...            Frankenversand          Germany         1   \n",
              "\n",
              "       Loc_ShipperCompany Sell_Price  BasePrice  Quantity  GrossIncome  \\\n",
              "13871      Speedy Express      13.25      13.25        40        530.0   \n",
              "47937      Speedy Express      18.00      18.00        25        450.0   \n",
              "\n",
              "       BaseIncome  ProcessingDate  \n",
              "13871       530.0         24 days  \n",
              "47937       450.0          5 days  \n",
              "\n",
              "[2 rows x 21 columns]"
            ],
            "text/html": [
              "\n",
              "  <div id=\"df-75a4de2c-8c46-444d-ac06-7af1ade87b90\">\n",
              "    <div class=\"colab-df-container\">\n",
              "      <div>\n",
              "<style scoped>\n",
              "    .dataframe tbody tr th:only-of-type {\n",
              "        vertical-align: middle;\n",
              "    }\n",
              "\n",
              "    .dataframe tbody tr th {\n",
              "        vertical-align: top;\n",
              "    }\n",
              "\n",
              "    .dataframe thead th {\n",
              "        text-align: right;\n",
              "    }\n",
              "</style>\n",
              "<table border=\"1\" class=\"dataframe\">\n",
              "  <thead>\n",
              "    <tr style=\"text-align: right;\">\n",
              "      <th></th>\n",
              "      <th>Unnamed: 0</th>\n",
              "      <th>EmployeeID</th>\n",
              "      <th>EmployeeName</th>\n",
              "      <th>Loc_Country_Employee</th>\n",
              "      <th>OrderID</th>\n",
              "      <th>OrderDate</th>\n",
              "      <th>RequiredDate</th>\n",
              "      <th>ShippedDate</th>\n",
              "      <th>ShipName</th>\n",
              "      <th>ShipCountry</th>\n",
              "      <th>...</th>\n",
              "      <th>Customer_Company_Name</th>\n",
              "      <th>Customer_Country</th>\n",
              "      <th>ShipperID</th>\n",
              "      <th>Loc_ShipperCompany</th>\n",
              "      <th>Sell_Price</th>\n",
              "      <th>BasePrice</th>\n",
              "      <th>Quantity</th>\n",
              "      <th>GrossIncome</th>\n",
              "      <th>BaseIncome</th>\n",
              "      <th>ProcessingDate</th>\n",
              "    </tr>\n",
              "  </thead>\n",
              "  <tbody>\n",
              "    <tr>\n",
              "      <th>13871</th>\n",
              "      <td>13892</td>\n",
              "      <td>3</td>\n",
              "      <td>Janet Leverling</td>\n",
              "      <td>USA</td>\n",
              "      <td>11011</td>\n",
              "      <td>1998-04-09</td>\n",
              "      <td>1998-05-07</td>\n",
              "      <td>1998-04-13</td>\n",
              "      <td>Alfred-s Futterkiste</td>\n",
              "      <td>Germany</td>\n",
              "      <td>...</td>\n",
              "      <td>Blido Comidas preparadas</td>\n",
              "      <td>Spain</td>\n",
              "      <td>1</td>\n",
              "      <td>Speedy Express</td>\n",
              "      <td>13.25</td>\n",
              "      <td>13.25</td>\n",
              "      <td>40</td>\n",
              "      <td>530.0</td>\n",
              "      <td>530.0</td>\n",
              "      <td>24 days</td>\n",
              "    </tr>\n",
              "    <tr>\n",
              "      <th>47937</th>\n",
              "      <td>48012</td>\n",
              "      <td>8</td>\n",
              "      <td>Laura Callahan</td>\n",
              "      <td>USA</td>\n",
              "      <td>10845</td>\n",
              "      <td>1998-01-21</td>\n",
              "      <td>1998-02-04</td>\n",
              "      <td>1998-01-30</td>\n",
              "      <td>QUICK-Stop</td>\n",
              "      <td>Germany</td>\n",
              "      <td>...</td>\n",
              "      <td>Frankenversand</td>\n",
              "      <td>Germany</td>\n",
              "      <td>1</td>\n",
              "      <td>Speedy Express</td>\n",
              "      <td>18.00</td>\n",
              "      <td>18.00</td>\n",
              "      <td>25</td>\n",
              "      <td>450.0</td>\n",
              "      <td>450.0</td>\n",
              "      <td>5 days</td>\n",
              "    </tr>\n",
              "  </tbody>\n",
              "</table>\n",
              "<p>2 rows × 21 columns</p>\n",
              "</div>\n",
              "      <button class=\"colab-df-convert\" onclick=\"convertToInteractive('df-75a4de2c-8c46-444d-ac06-7af1ade87b90')\"\n",
              "              title=\"Convert this dataframe to an interactive table.\"\n",
              "              style=\"display:none;\">\n",
              "        \n",
              "  <svg xmlns=\"http://www.w3.org/2000/svg\" height=\"24px\"viewBox=\"0 0 24 24\"\n",
              "       width=\"24px\">\n",
              "    <path d=\"M0 0h24v24H0V0z\" fill=\"none\"/>\n",
              "    <path d=\"M18.56 5.44l.94 2.06.94-2.06 2.06-.94-2.06-.94-.94-2.06-.94 2.06-2.06.94zm-11 1L8.5 8.5l.94-2.06 2.06-.94-2.06-.94L8.5 2.5l-.94 2.06-2.06.94zm10 10l.94 2.06.94-2.06 2.06-.94-2.06-.94-.94-2.06-.94 2.06-2.06.94z\"/><path d=\"M17.41 7.96l-1.37-1.37c-.4-.4-.92-.59-1.43-.59-.52 0-1.04.2-1.43.59L10.3 9.45l-7.72 7.72c-.78.78-.78 2.05 0 2.83L4 21.41c.39.39.9.59 1.41.59.51 0 1.02-.2 1.41-.59l7.78-7.78 2.81-2.81c.8-.78.8-2.07 0-2.86zM5.41 20L4 18.59l7.72-7.72 1.47 1.35L5.41 20z\"/>\n",
              "  </svg>\n",
              "      </button>\n",
              "      \n",
              "  <style>\n",
              "    .colab-df-container {\n",
              "      display:flex;\n",
              "      flex-wrap:wrap;\n",
              "      gap: 12px;\n",
              "    }\n",
              "\n",
              "    .colab-df-convert {\n",
              "      background-color: #E8F0FE;\n",
              "      border: none;\n",
              "      border-radius: 50%;\n",
              "      cursor: pointer;\n",
              "      display: none;\n",
              "      fill: #1967D2;\n",
              "      height: 32px;\n",
              "      padding: 0 0 0 0;\n",
              "      width: 32px;\n",
              "    }\n",
              "\n",
              "    .colab-df-convert:hover {\n",
              "      background-color: #E2EBFA;\n",
              "      box-shadow: 0px 1px 2px rgba(60, 64, 67, 0.3), 0px 1px 3px 1px rgba(60, 64, 67, 0.15);\n",
              "      fill: #174EA6;\n",
              "    }\n",
              "\n",
              "    [theme=dark] .colab-df-convert {\n",
              "      background-color: #3B4455;\n",
              "      fill: #D2E3FC;\n",
              "    }\n",
              "\n",
              "    [theme=dark] .colab-df-convert:hover {\n",
              "      background-color: #434B5C;\n",
              "      box-shadow: 0px 1px 3px 1px rgba(0, 0, 0, 0.15);\n",
              "      filter: drop-shadow(0px 1px 2px rgba(0, 0, 0, 0.3));\n",
              "      fill: #FFFFFF;\n",
              "    }\n",
              "  </style>\n",
              "\n",
              "      <script>\n",
              "        const buttonEl =\n",
              "          document.querySelector('#df-75a4de2c-8c46-444d-ac06-7af1ade87b90 button.colab-df-convert');\n",
              "        buttonEl.style.display =\n",
              "          google.colab.kernel.accessAllowed ? 'block' : 'none';\n",
              "\n",
              "        async function convertToInteractive(key) {\n",
              "          const element = document.querySelector('#df-75a4de2c-8c46-444d-ac06-7af1ade87b90');\n",
              "          const dataTable =\n",
              "            await google.colab.kernel.invokeFunction('convertToInteractive',\n",
              "                                                     [key], {});\n",
              "          if (!dataTable) return;\n",
              "\n",
              "          const docLinkHtml = 'Like what you see? Visit the ' +\n",
              "            '<a target=\"_blank\" href=https://colab.research.google.com/notebooks/data_table.ipynb>data table notebook</a>'\n",
              "            + ' to learn more about interactive tables.';\n",
              "          element.innerHTML = '';\n",
              "          dataTable['output_type'] = 'display_data';\n",
              "          await google.colab.output.renderOutput(dataTable, element);\n",
              "          const docLink = document.createElement('div');\n",
              "          docLink.innerHTML = docLinkHtml;\n",
              "          element.appendChild(docLink);\n",
              "        }\n",
              "      </script>\n",
              "    </div>\n",
              "  </div>\n",
              "  "
            ]
          },
          "metadata": {},
          "execution_count": 31
        }
      ],
      "source": [
        "# Add New Column (Processing Day)\n",
        "\n",
        "df['ProcessingDate'] = df['RequiredDate'] - df['ShippedDate']\n",
        "df.sample(2)"
      ]
    },
    {
      "cell_type": "code",
      "execution_count": null,
      "id": "694fb227",
      "metadata": {
        "id": "694fb227",
        "outputId": "34a492ab-0750-42b8-82e8-caefc89a8fdb",
        "colab": {
          "base_uri": "https://localhost:8080/"
        }
      },
      "outputs": [
        {
          "output_type": "execute_result",
          "data": {
            "text/plain": [
              "(8372, 21)"
            ]
          },
          "metadata": {},
          "execution_count": 32
        }
      ],
      "source": [
        "df[df['ProcessingDate'] < '0 days'].shape"
      ]
    },
    {
      "cell_type": "code",
      "execution_count": null,
      "id": "811fd549",
      "metadata": {
        "id": "811fd549",
        "outputId": "1fa1a428-5967-4604-d0a1-b20305ed429f",
        "colab": {
          "base_uri": "https://localhost:8080/"
        }
      },
      "outputs": [
        {
          "output_type": "execute_result",
          "data": {
            "text/plain": [
              "(180180, 21)"
            ]
          },
          "metadata": {},
          "execution_count": 33
        }
      ],
      "source": [
        "df[df['ProcessingDate'] > '0 days'].shape"
      ]
    },
    {
      "cell_type": "code",
      "execution_count": null,
      "id": "837c2f3c",
      "metadata": {
        "scrolled": true,
        "id": "837c2f3c",
        "outputId": "8acc0f59-bbde-47ca-9d80-47950ee350eb",
        "colab": {
          "base_uri": "https://localhost:8080/"
        }
      },
      "outputs": [
        {
          "output_type": "execute_result",
          "data": {
            "text/plain": [
              "0.04546540675572933"
            ]
          },
          "metadata": {},
          "execution_count": 34
        }
      ],
      "source": [
        "8372/184140"
      ]
    },
    {
      "cell_type": "markdown",
      "id": "bb64fd32",
      "metadata": {
        "id": "bb64fd32"
      },
      "source": [
        "jadi bisa disimpulkan bahwa banyak yang telat sampai ke customer barangnya 4.5 % dari total barang order yang dikirim."
      ]
    },
    {
      "cell_type": "code",
      "execution_count": null,
      "id": "7398d4e9",
      "metadata": {
        "id": "7398d4e9"
      },
      "outputs": [],
      "source": [
        "#orders.drop(['ProcessShipingDate'],axis=1, inplace=True)"
      ]
    },
    {
      "cell_type": "code",
      "execution_count": null,
      "id": "f8d9810d",
      "metadata": {
        "scrolled": false,
        "id": "f8d9810d",
        "outputId": "6aef03f5-79bb-42fb-82fd-ffc4f746631a"
      },
      "outputs": [
        {
          "name": "stdout",
          "output_type": "stream",
          "text": [
            "EmployeeName: 9\n",
            "Loc_Country_Employee: 2\n",
            "ShipName: 90\n",
            "ShipCountry: 21\n",
            "CustomerID: 91\n",
            "Customer_Company_Name: 91\n",
            "Customer_Country: 21\n",
            "Loc_ShipperCompany: 3\n",
            "Sell_Price: 116\n",
            "BasePrice: 62\n",
            "GrossIncome: 832\n",
            "BaseIncome: 709\n",
            "CAT col \n",
            " ['EmployeeName', 'Loc_Country_Employee', 'ShipName', 'ShipCountry', 'CustomerID', 'Customer_Company_Name', 'Customer_Country', 'Loc_ShipperCompany', 'Sell_Price', 'BasePrice', 'GrossIncome', 'BaseIncome']\n",
            "Numerical col\n",
            "\n",
            "['EmployeeID', 'OrderID', 'OrderDate', 'RequiredDate', 'ShippedDate', 'ShipperID', 'Quantity', 'ProcessingDate']\n"
          ]
        }
      ],
      "source": [
        "#deskripsi unique\n",
        "numerical_col = []\n",
        "cat_col = []\n",
        "for x in df.columns:\n",
        "    if df[x].dtype == 'object':\n",
        "        cat_col.append(x)\n",
        "        print(x+': ' + str(len(df[x].unique())))\n",
        "    else:\n",
        "        numerical_col.append(x)\n",
        "        \n",
        "print('CAT col \\n', cat_col)\n",
        "print('Numerical col\\n')\n",
        "print(numerical_col)"
      ]
    },
    {
      "cell_type": "code",
      "execution_count": null,
      "id": "bc320d12",
      "metadata": {
        "id": "bc320d12",
        "outputId": "6a970df5-23a0-4543-f8e7-80b12685dbbe",
        "colab": {
          "base_uri": "https://localhost:8080/"
        }
      },
      "outputs": [
        {
          "output_type": "execute_result",
          "data": {
            "text/plain": [
              "21 days     20657\n",
              "22 days     17381\n",
              "23 days     15015\n",
              "25 days     14560\n",
              "19 days     14469\n",
              "24 days     14378\n",
              "26 days     13195\n",
              "20 days     12649\n",
              "18 days      8918\n",
              "16 days      3549\n",
              "10 days      3367\n",
              "7 days       3367\n",
              "27 days      3185\n",
              "17 days      3094\n",
              "36 days      2821\n",
              "5 days       2821\n",
              "8 days       2730\n",
              "4 days       2457\n",
              "9 days       2184\n",
              "35 days      2093\n",
              "34 days      2093\n",
              "11 days      2002\n",
              "6 days       1911\n",
              "-1 days      1820\n",
              "13 days      1638\n",
              "-7 days      1456\n",
              "39 days      1456\n",
              "32 days      1365\n",
              "15 days      1365\n",
              "-6 days      1365\n",
              "3 days       1001\n",
              "0 days        910\n",
              "14 days       728\n",
              "-4 days       728\n",
              "33 days       546\n",
              "30 days       546\n",
              "-5 days       546\n",
              "1 days        546\n",
              "-2 days       546\n",
              "12 days       455\n",
              "-16 days      455\n",
              "2 days        455\n",
              "37 days       455\n",
              "-18 days      364\n",
              "-9 days       364\n",
              "38 days       273\n",
              "41 days       273\n",
              "-8 days       182\n",
              "-3 days       182\n",
              "28 days       182\n",
              "-11 days      182\n",
              "-23 days       91\n",
              "-17 days       91\n",
              "Name: ProcessingDate, dtype: int64"
            ]
          },
          "metadata": {},
          "execution_count": 35
        }
      ],
      "source": [
        "# Check Data Anomalies in Date Time Fomrat\n",
        "\n",
        "df['ProcessingDate'].value_counts()"
      ]
    },
    {
      "cell_type": "code",
      "execution_count": null,
      "id": "afd96204",
      "metadata": {
        "id": "afd96204",
        "outputId": "68e4837f-6808-40c6-9b1d-676dfeea75ec"
      },
      "outputs": [
        {
          "data": {
            "text/html": [
              "<div>\n",
              "<style scoped>\n",
              "    .dataframe tbody tr th:only-of-type {\n",
              "        vertical-align: middle;\n",
              "    }\n",
              "\n",
              "    .dataframe tbody tr th {\n",
              "        vertical-align: top;\n",
              "    }\n",
              "\n",
              "    .dataframe thead th {\n",
              "        text-align: right;\n",
              "    }\n",
              "</style>\n",
              "<table border=\"1\" class=\"dataframe\">\n",
              "  <thead>\n",
              "    <tr style=\"text-align: right;\">\n",
              "      <th></th>\n",
              "      <th>EmployeeID</th>\n",
              "      <th>EmployeeName</th>\n",
              "      <th>Loc_Country_Employee</th>\n",
              "      <th>OrderID</th>\n",
              "      <th>OrderDate</th>\n",
              "      <th>RequiredDate</th>\n",
              "      <th>ShippedDate</th>\n",
              "      <th>ShipName</th>\n",
              "      <th>ShipCountry</th>\n",
              "      <th>CustomerID</th>\n",
              "      <th>Customer_Company_Name</th>\n",
              "      <th>Customer_Country</th>\n",
              "      <th>ShipperID</th>\n",
              "      <th>Loc_ShipperCompany</th>\n",
              "      <th>Sell_Price</th>\n",
              "      <th>BasePrice</th>\n",
              "      <th>Quantity</th>\n",
              "      <th>GrossIncome</th>\n",
              "      <th>BaseIncome</th>\n",
              "      <th>ProcessingDate</th>\n",
              "    </tr>\n",
              "  </thead>\n",
              "  <tbody>\n",
              "    <tr>\n",
              "      <th>57725</th>\n",
              "      <td>4</td>\n",
              "      <td>Margaret Peacock</td>\n",
              "      <td>USA</td>\n",
              "      <td>10927</td>\n",
              "      <td>1998-03-05</td>\n",
              "      <td>1998-04-02</td>\n",
              "      <td>1998-04-08</td>\n",
              "      <td>La corne d-abondance</td>\n",
              "      <td>France</td>\n",
              "      <td>GODOS</td>\n",
              "      <td>Godos Cocina Tpica</td>\n",
              "      <td>Spain</td>\n",
              "      <td>1</td>\n",
              "      <td>Speedy Express</td>\n",
              "      <td>18.0000</td>\n",
              "      <td>18.0000</td>\n",
              "      <td>20</td>\n",
              "      <td>360.0000</td>\n",
              "      <td>360.0000</td>\n",
              "      <td>-6 days</td>\n",
              "    </tr>\n",
              "    <tr>\n",
              "      <th>169445</th>\n",
              "      <td>2</td>\n",
              "      <td>Andrew Fuller</td>\n",
              "      <td>USA</td>\n",
              "      <td>10663</td>\n",
              "      <td>1997-09-10</td>\n",
              "      <td>1997-09-24</td>\n",
              "      <td>1997-10-03</td>\n",
              "      <td>Bon app-</td>\n",
              "      <td>France</td>\n",
              "      <td>VICTE</td>\n",
              "      <td>Victuailles en stock</td>\n",
              "      <td>France</td>\n",
              "      <td>2</td>\n",
              "      <td>United Package</td>\n",
              "      <td>53.0000</td>\n",
              "      <td>53.0000</td>\n",
              "      <td>20</td>\n",
              "      <td>1060.0000</td>\n",
              "      <td>1060.0000</td>\n",
              "      <td>-9 days</td>\n",
              "    </tr>\n",
              "  </tbody>\n",
              "</table>\n",
              "</div>"
            ],
            "text/plain": [
              "        EmployeeID      EmployeeName Loc_Country_Employee  OrderID  OrderDate  \\\n",
              "57725            4  Margaret Peacock                  USA    10927 1998-03-05   \n",
              "169445           2     Andrew Fuller                  USA    10663 1997-09-10   \n",
              "\n",
              "       RequiredDate ShippedDate              ShipName ShipCountry CustomerID  \\\n",
              "57725    1998-04-02  1998-04-08  La corne d-abondance      France      GODOS   \n",
              "169445   1997-09-24  1997-10-03              Bon app-      France      VICTE   \n",
              "\n",
              "       Customer_Company_Name Customer_Country  ShipperID Loc_ShipperCompany  \\\n",
              "57725     Godos Cocina Tpica            Spain          1     Speedy Express   \n",
              "169445  Victuailles en stock           France          2     United Package   \n",
              "\n",
              "       Sell_Price BasePrice  Quantity GrossIncome BaseIncome ProcessingDate  \n",
              "57725     18.0000   18.0000        20    360.0000   360.0000        -6 days  \n",
              "169445    53.0000   53.0000        20   1060.0000  1060.0000        -9 days  "
            ]
          },
          "execution_count": 125,
          "metadata": {},
          "output_type": "execute_result"
        }
      ],
      "source": [
        "# Handling Date Time Format Anomalies (Check Data First)\n",
        "\n",
        "df[df['ProcessingDate'] < '0 days'].sample(2)"
      ]
    },
    {
      "cell_type": "code",
      "execution_count": null,
      "id": "927636b5",
      "metadata": {
        "id": "927636b5",
        "outputId": "dbb1e5d3-54fb-4524-dc76-3e07fddf020b"
      },
      "outputs": [
        {
          "data": {
            "text/html": [
              "<div>\n",
              "<style scoped>\n",
              "    .dataframe tbody tr th:only-of-type {\n",
              "        vertical-align: middle;\n",
              "    }\n",
              "\n",
              "    .dataframe tbody tr th {\n",
              "        vertical-align: top;\n",
              "    }\n",
              "\n",
              "    .dataframe thead th {\n",
              "        text-align: right;\n",
              "    }\n",
              "</style>\n",
              "<table border=\"1\" class=\"dataframe\">\n",
              "  <thead>\n",
              "    <tr style=\"text-align: right;\">\n",
              "      <th></th>\n",
              "      <th>EmployeeID</th>\n",
              "      <th>EmployeeName</th>\n",
              "      <th>Loc_Country_Employee</th>\n",
              "      <th>OrderID</th>\n",
              "      <th>OrderDate</th>\n",
              "      <th>RequiredDate</th>\n",
              "      <th>ShippedDate</th>\n",
              "      <th>ShipName</th>\n",
              "      <th>ShipCountry</th>\n",
              "      <th>CustomerID</th>\n",
              "      <th>Customer_Company_Name</th>\n",
              "      <th>Customer_Country</th>\n",
              "      <th>ShipperID</th>\n",
              "      <th>Loc_ShipperCompany</th>\n",
              "      <th>Sell_Price</th>\n",
              "      <th>BasePrice</th>\n",
              "      <th>Quantity</th>\n",
              "      <th>GrossIncome</th>\n",
              "      <th>BaseIncome</th>\n",
              "      <th>ProcessingDate</th>\n",
              "    </tr>\n",
              "  </thead>\n",
              "  <tbody>\n",
              "    <tr>\n",
              "      <th>101085</th>\n",
              "      <td>6</td>\n",
              "      <td>Michael Suyama</td>\n",
              "      <td>UK</td>\n",
              "      <td>10264</td>\n",
              "      <td>1996-07-24</td>\n",
              "      <td>1996-08-21</td>\n",
              "      <td>1996-08-23</td>\n",
              "      <td>Folk och f HB</td>\n",
              "      <td>Sweden</td>\n",
              "      <td>MEREP</td>\n",
              "      <td>Mre Paillarde</td>\n",
              "      <td>Canada</td>\n",
              "      <td>3</td>\n",
              "      <td>Federal Shipping</td>\n",
              "      <td>15.2000</td>\n",
              "      <td>19.0000</td>\n",
              "      <td>35</td>\n",
              "      <td>532.0000</td>\n",
              "      <td>665.0000</td>\n",
              "      <td>-2 days</td>\n",
              "    </tr>\n",
              "    <tr>\n",
              "      <th>153190</th>\n",
              "      <td>4</td>\n",
              "      <td>Margaret Peacock</td>\n",
              "      <td>USA</td>\n",
              "      <td>10816</td>\n",
              "      <td>1998-01-06</td>\n",
              "      <td>1998-02-03</td>\n",
              "      <td>1998-02-04</td>\n",
              "      <td>Great Lakes Food Market</td>\n",
              "      <td>USA</td>\n",
              "      <td>THECR</td>\n",
              "      <td>The Cracker Box</td>\n",
              "      <td>USA</td>\n",
              "      <td>2</td>\n",
              "      <td>United Package</td>\n",
              "      <td>263.5000</td>\n",
              "      <td>263.5000</td>\n",
              "      <td>30</td>\n",
              "      <td>7905.0000</td>\n",
              "      <td>7905.0000</td>\n",
              "      <td>-1 days</td>\n",
              "    </tr>\n",
              "  </tbody>\n",
              "</table>\n",
              "</div>"
            ],
            "text/plain": [
              "        EmployeeID      EmployeeName Loc_Country_Employee  OrderID  OrderDate  \\\n",
              "101085           6    Michael Suyama                   UK    10264 1996-07-24   \n",
              "153190           4  Margaret Peacock                  USA    10816 1998-01-06   \n",
              "\n",
              "       RequiredDate ShippedDate                 ShipName ShipCountry  \\\n",
              "101085   1996-08-21  1996-08-23            Folk och f HB      Sweden   \n",
              "153190   1998-02-03  1998-02-04  Great Lakes Food Market         USA   \n",
              "\n",
              "       CustomerID Customer_Company_Name Customer_Country  ShipperID  \\\n",
              "101085      MEREP         Mre Paillarde           Canada          3   \n",
              "153190      THECR       The Cracker Box              USA          2   \n",
              "\n",
              "       Loc_ShipperCompany Sell_Price BasePrice  Quantity GrossIncome  \\\n",
              "101085   Federal Shipping    15.2000   19.0000        35    532.0000   \n",
              "153190     United Package   263.5000  263.5000        30   7905.0000   \n",
              "\n",
              "       BaseIncome ProcessingDate  \n",
              "101085   665.0000        -2 days  \n",
              "153190  7905.0000        -1 days  "
            ]
          },
          "execution_count": 126,
          "metadata": {},
          "output_type": "execute_result"
        }
      ],
      "source": [
        "df[df['ProcessingDate'] < '0 days'].sample(2)"
      ]
    },
    {
      "cell_type": "code",
      "execution_count": null,
      "id": "4460fb0c",
      "metadata": {
        "id": "4460fb0c",
        "outputId": "61331da2-d143-4ac4-e23f-d9ea8c2326dc"
      },
      "outputs": [
        {
          "data": {
            "text/plain": [
              "(8372, 20)"
            ]
          },
          "execution_count": 127,
          "metadata": {},
          "output_type": "execute_result"
        }
      ],
      "source": [
        "df[df['ProcessingDate'] < '0 days'].shape"
      ]
    },
    {
      "cell_type": "markdown",
      "id": "9dbf0039",
      "metadata": {
        "id": "9dbf0039"
      },
      "source": [
        "requiredDate - Shoppedate"
      ]
    },
    {
      "cell_type": "markdown",
      "id": "bf3f679a",
      "metadata": {
        "id": "bf3f679a"
      },
      "source": [
        "jadi bisa disimpulkan bahwa banyak yang telat sampai ke customer barangnya at least ini "
      ]
    },
    {
      "cell_type": "code",
      "execution_count": null,
      "id": "7d1a56fb",
      "metadata": {
        "id": "7d1a56fb"
      },
      "outputs": [],
      "source": [
        ""
      ]
    },
    {
      "cell_type": "markdown",
      "id": "84696070",
      "metadata": {
        "id": "84696070"
      },
      "source": [
        "# Outliers & Data \n",
        "\n",
        "Outliers might indicate skewness in data but having outliers does not equal to anomalies. "
      ]
    },
    {
      "cell_type": "code",
      "execution_count": null,
      "id": "4f649f08",
      "metadata": {
        "id": "4f649f08",
        "outputId": "5312c235-396a-42d7-c6f3-4cafe6b82b3f"
      },
      "outputs": [
        {
          "ename": "AttributeError",
          "evalue": "'NoneType' object has no attribute 'head'",
          "output_type": "error",
          "traceback": [
            "\u001b[1;31m---------------------------------------------------------------------------\u001b[0m",
            "\u001b[1;31mAttributeError\u001b[0m                            Traceback (most recent call last)",
            "\u001b[1;32m~\\AppData\\Local\\Temp/ipykernel_17884/1160736951.py\u001b[0m in \u001b[0;36m<module>\u001b[1;34m\u001b[0m\n\u001b[1;32m----> 1\u001b[1;33m \u001b[0mdf\u001b[0m\u001b[1;33m.\u001b[0m\u001b[0mhead\u001b[0m\u001b[1;33m(\u001b[0m\u001b[1;36m2\u001b[0m\u001b[1;33m)\u001b[0m\u001b[1;33m\u001b[0m\u001b[1;33m\u001b[0m\u001b[0m\n\u001b[0m",
            "\u001b[1;31mAttributeError\u001b[0m: 'NoneType' object has no attribute 'head'"
          ]
        }
      ],
      "source": [
        "df.head(2)"
      ]
    },
    {
      "cell_type": "code",
      "execution_count": null,
      "id": "1b4f6840",
      "metadata": {
        "id": "1b4f6840",
        "outputId": "7d1cb183-0d89-4420-f6da-517ae85a9aa3"
      },
      "outputs": [
        {
          "ename": "AttributeError",
          "evalue": "'NoneType' object has no attribute 'duplicated'",
          "output_type": "error",
          "traceback": [
            "\u001b[1;31m---------------------------------------------------------------------------\u001b[0m",
            "\u001b[1;31mAttributeError\u001b[0m                            Traceback (most recent call last)",
            "\u001b[1;32m~\\AppData\\Local\\Temp/ipykernel_17884/978166953.py\u001b[0m in \u001b[0;36m<module>\u001b[1;34m\u001b[0m\n\u001b[0;32m      1\u001b[0m \u001b[1;31m# Check for duplicates\u001b[0m\u001b[1;33m\u001b[0m\u001b[1;33m\u001b[0m\u001b[0m\n\u001b[1;32m----> 2\u001b[1;33m \u001b[0mdf\u001b[0m\u001b[1;33m.\u001b[0m\u001b[0mduplicated\u001b[0m\u001b[1;33m(\u001b[0m\u001b[1;33m)\u001b[0m\u001b[1;33m.\u001b[0m\u001b[0msum\u001b[0m\u001b[1;33m(\u001b[0m\u001b[1;33m)\u001b[0m\u001b[1;33m\u001b[0m\u001b[1;33m\u001b[0m\u001b[0m\n\u001b[0m",
            "\u001b[1;31mAttributeError\u001b[0m: 'NoneType' object has no attribute 'duplicated'"
          ]
        }
      ],
      "source": [
        "# Check for duplicates\n",
        "df.duplicated().sum()"
      ]
    },
    {
      "cell_type": "code",
      "execution_count": null,
      "id": "48580bc8",
      "metadata": {
        "id": "48580bc8"
      },
      "outputs": [],
      "source": [
        "df = df.drop_duplicates(keep=False, inplace=True)"
      ]
    },
    {
      "cell_type": "code",
      "execution_count": null,
      "id": "280d30c2",
      "metadata": {
        "id": "280d30c2",
        "outputId": "5827e7da-06c2-4885-ad50-769e1e69cf8d"
      },
      "outputs": [
        {
          "data": {
            "text/plain": [
              "(189462, 20)"
            ]
          },
          "execution_count": 132,
          "metadata": {},
          "output_type": "execute_result"
        }
      ],
      "source": [
        "df.shape"
      ]
    },
    {
      "cell_type": "code",
      "execution_count": null,
      "id": "93b81300",
      "metadata": {
        "id": "93b81300"
      },
      "outputs": [],
      "source": [
        "df"
      ]
    },
    {
      "cell_type": "code",
      "execution_count": null,
      "id": "603b6cc5",
      "metadata": {
        "id": "603b6cc5"
      },
      "outputs": [],
      "source": [
        "result_df.shape"
      ]
    },
    {
      "cell_type": "code",
      "execution_count": null,
      "id": "2f60a8d0",
      "metadata": {
        "id": "2f60a8d0"
      },
      "outputs": [],
      "source": [
        "df.info()"
      ]
    },
    {
      "cell_type": "code",
      "execution_count": null,
      "id": "ec3d1d29",
      "metadata": {
        "id": "ec3d1d29"
      },
      "outputs": [],
      "source": [
        "df.groupby(\"Country\").nunique().sort_values(\"Supplier\", ascending=False)[[\"Supplier\"]]"
      ]
    },
    {
      "cell_type": "code",
      "execution_count": null,
      "id": "969964f2",
      "metadata": {
        "id": "969964f2"
      },
      "outputs": [],
      "source": [
        "# Check for anomalies in Price and Quantity\n",
        "fig = px.box(df, x= [\"Quantity\", \"SellPrice\", \"BasePrice\"])\n",
        "fig.show()"
      ]
    },
    {
      "cell_type": "markdown",
      "source": [
        "#Data dari csv"
      ],
      "metadata": {
        "id": "nLvtDpu31NBm"
      },
      "id": "nLvtDpu31NBm"
    },
    {
      "cell_type": "code",
      "source": [
        "from google.colab import drive\n",
        "drive.mount('/content/gdrive')\n"
      ],
      "metadata": {
        "id": "E3Zy2M5q1WH_",
        "colab": {
          "base_uri": "https://localhost:8080/"
        },
        "outputId": "2cd474fb-0527-441b-d105-53d8d657c8e4"
      },
      "id": "E3Zy2M5q1WH_",
      "execution_count": null,
      "outputs": [
        {
          "output_type": "stream",
          "name": "stdout",
          "text": [
            "Mounted at /content/gdrive\n"
          ]
        }
      ]
    },
    {
      "cell_type": "code",
      "source": [
        "path = '/content/gdrive/MyDrive/Purwadhika/project_module2/dfbaru.csv'\n",
        "df = pd.read_csv(path)"
      ],
      "metadata": {
        "id": "zVIxDU8w1Pfv"
      },
      "id": "zVIxDU8w1Pfv",
      "execution_count": null,
      "outputs": []
    },
    {
      "cell_type": "code",
      "source": [
        "df.shape"
      ],
      "metadata": {
        "colab": {
          "base_uri": "https://localhost:8080/"
        },
        "id": "FZ2HX_GB3jz1",
        "outputId": "71d4304b-ddab-46cb-a07c-8cea6dc4deb6"
      },
      "id": "FZ2HX_GB3jz1",
      "execution_count": null,
      "outputs": [
        {
          "output_type": "execute_result",
          "data": {
            "text/plain": [
              "(189462, 20)"
            ]
          },
          "metadata": {},
          "execution_count": 12
        }
      ]
    },
    {
      "cell_type": "markdown",
      "id": "2da13506",
      "metadata": {
        "id": "2da13506"
      },
      "source": [
        "# Data Analyss & Visualization\n",
        "\n",
        "Saving dataframe in excel format for tableau visualization\n",
        "- df.to_excel(\"Northwind.xlsx\", index=None)\n",
        "\n",
        "We're using Tableau to utilize Tableau's dashboard to offer an interactive and customizable group of plots."
      ]
    },
    {
      "cell_type": "markdown",
      "source": [
        "https://public.tableau.com/views/DashboardNorthwindOrders/Dashboard1?:language=en-US&publish=yes&:display_count=n&:origin=viz_share_link"
      ],
      "metadata": {
        "id": "TSOPRg8NEUZJ"
      },
      "id": "TSOPRg8NEUZJ"
    },
    {
      "cell_type": "code",
      "source": [
        "df"
      ],
      "metadata": {
        "colab": {
          "base_uri": "https://localhost:8080/",
          "height": 678
        },
        "id": "jlf3De9Q3-el",
        "outputId": "33075c09-148e-4d5d-d4e2-4b618d5ec765"
      },
      "id": "jlf3De9Q3-el",
      "execution_count": null,
      "outputs": [
        {
          "output_type": "execute_result",
          "data": {
            "text/plain": [
              "        Unnamed: 0  EmployeeID    EmployeeName Loc_Country_Employee  OrderID  \\\n",
              "0                0           2   Andrew Fuller                  USA    11015   \n",
              "1                1           2   Andrew Fuller                  USA    11015   \n",
              "2                2           2   Andrew Fuller                  USA    11014   \n",
              "3                3           2   Andrew Fuller                  USA    11013   \n",
              "4                4           2   Andrew Fuller                  USA    11013   \n",
              "...            ...         ...             ...                  ...      ...   \n",
              "189457      200410           9  Anne Dodsworth                   UK    11017   \n",
              "189458      200411           9  Anne Dodsworth                   UK    11017   \n",
              "189459      200412           9  Anne Dodsworth                   UK    11017   \n",
              "189460      200413           9  Anne Dodsworth                   UK    11016   \n",
              "189461      200414           9  Anne Dodsworth                   UK    11016   \n",
              "\n",
              "         OrderDate RequiredDate ShippedDate          ShipName ShipCountry  \\\n",
              "0       1998-04-10   1998-04-24  1998-04-20      Sant Gourmet      Norway   \n",
              "1       1998-04-10   1998-04-24  1998-04-20      Sant Gourmet      Norway   \n",
              "2       1998-04-10   1998-05-08  1998-04-15  LINO-Delicateses   Venezuela   \n",
              "3       1998-04-09   1998-05-07  1998-04-10  Romero y tomillo       Spain   \n",
              "4       1998-04-09   1998-05-07  1998-04-10  Romero y tomillo       Spain   \n",
              "...            ...          ...         ...               ...         ...   \n",
              "189457  1998-04-13   1998-05-11  1998-04-20      Ernst Handel     Austria   \n",
              "189458  1998-04-13   1998-05-11  1998-04-20      Ernst Handel     Austria   \n",
              "189459  1998-04-13   1998-05-11  1998-04-20      Ernst Handel     Austria   \n",
              "189460  1998-04-10   1998-05-08  1998-04-13   Around the Horn          UK   \n",
              "189461  1998-04-10   1998-05-08  1998-04-13   Around the Horn          UK   \n",
              "\n",
              "       CustomerID Customer_Company_Name Customer_Country  ShipperID  \\\n",
              "0           ALFKI   Alfreds Futterkiste          Germany          2   \n",
              "1           ALFKI   Alfreds Futterkiste          Germany          2   \n",
              "2           ALFKI   Alfreds Futterkiste          Germany          3   \n",
              "3           ALFKI   Alfreds Futterkiste          Germany          1   \n",
              "4           ALFKI   Alfreds Futterkiste          Germany          1   \n",
              "...           ...                   ...              ...        ...   \n",
              "189457      WOLZA        Wolski  Zajazd           Poland          2   \n",
              "189458      WOLZA        Wolski  Zajazd           Poland          2   \n",
              "189459      WOLZA        Wolski  Zajazd           Poland          2   \n",
              "189460      WOLZA        Wolski  Zajazd           Poland          2   \n",
              "189461      WOLZA        Wolski  Zajazd           Poland          2   \n",
              "\n",
              "       Loc_ShipperCompany  Sell_Price  BasePrice  Quantity  GrossIncome  \\\n",
              "0          United Package       13.00      13.00        18       234.00   \n",
              "1          United Package       25.89      25.89        15       388.35   \n",
              "2        Federal Shipping        9.65       9.65        28       270.20   \n",
              "3          Speedy Express       12.50      12.50         2        25.00   \n",
              "4          Speedy Express        9.50       9.50        20       190.00   \n",
              "...                   ...         ...        ...       ...          ...   \n",
              "189457     United Package       15.00      15.00        30       450.00   \n",
              "189458     United Package       55.00      55.00       110      6050.00   \n",
              "189459     United Package       10.00      10.00        25       250.00   \n",
              "189460     United Package       19.00      19.00        16       304.00   \n",
              "189461     United Package       12.50      12.50        15       187.50   \n",
              "\n",
              "        BaseIncome  \n",
              "0           234.00  \n",
              "1           388.35  \n",
              "2           270.20  \n",
              "3            25.00  \n",
              "4           190.00  \n",
              "...            ...  \n",
              "189457      450.00  \n",
              "189458     6050.00  \n",
              "189459      250.00  \n",
              "189460      304.00  \n",
              "189461      187.50  \n",
              "\n",
              "[189462 rows x 20 columns]"
            ],
            "text/html": [
              "\n",
              "  <div id=\"df-430bd033-2580-4954-ad46-dfc3b7329624\">\n",
              "    <div class=\"colab-df-container\">\n",
              "      <div>\n",
              "<style scoped>\n",
              "    .dataframe tbody tr th:only-of-type {\n",
              "        vertical-align: middle;\n",
              "    }\n",
              "\n",
              "    .dataframe tbody tr th {\n",
              "        vertical-align: top;\n",
              "    }\n",
              "\n",
              "    .dataframe thead th {\n",
              "        text-align: right;\n",
              "    }\n",
              "</style>\n",
              "<table border=\"1\" class=\"dataframe\">\n",
              "  <thead>\n",
              "    <tr style=\"text-align: right;\">\n",
              "      <th></th>\n",
              "      <th>Unnamed: 0</th>\n",
              "      <th>EmployeeID</th>\n",
              "      <th>EmployeeName</th>\n",
              "      <th>Loc_Country_Employee</th>\n",
              "      <th>OrderID</th>\n",
              "      <th>OrderDate</th>\n",
              "      <th>RequiredDate</th>\n",
              "      <th>ShippedDate</th>\n",
              "      <th>ShipName</th>\n",
              "      <th>ShipCountry</th>\n",
              "      <th>CustomerID</th>\n",
              "      <th>Customer_Company_Name</th>\n",
              "      <th>Customer_Country</th>\n",
              "      <th>ShipperID</th>\n",
              "      <th>Loc_ShipperCompany</th>\n",
              "      <th>Sell_Price</th>\n",
              "      <th>BasePrice</th>\n",
              "      <th>Quantity</th>\n",
              "      <th>GrossIncome</th>\n",
              "      <th>BaseIncome</th>\n",
              "    </tr>\n",
              "  </thead>\n",
              "  <tbody>\n",
              "    <tr>\n",
              "      <th>0</th>\n",
              "      <td>0</td>\n",
              "      <td>2</td>\n",
              "      <td>Andrew Fuller</td>\n",
              "      <td>USA</td>\n",
              "      <td>11015</td>\n",
              "      <td>1998-04-10</td>\n",
              "      <td>1998-04-24</td>\n",
              "      <td>1998-04-20</td>\n",
              "      <td>Sant Gourmet</td>\n",
              "      <td>Norway</td>\n",
              "      <td>ALFKI</td>\n",
              "      <td>Alfreds Futterkiste</td>\n",
              "      <td>Germany</td>\n",
              "      <td>2</td>\n",
              "      <td>United Package</td>\n",
              "      <td>13.00</td>\n",
              "      <td>13.00</td>\n",
              "      <td>18</td>\n",
              "      <td>234.00</td>\n",
              "      <td>234.00</td>\n",
              "    </tr>\n",
              "    <tr>\n",
              "      <th>1</th>\n",
              "      <td>1</td>\n",
              "      <td>2</td>\n",
              "      <td>Andrew Fuller</td>\n",
              "      <td>USA</td>\n",
              "      <td>11015</td>\n",
              "      <td>1998-04-10</td>\n",
              "      <td>1998-04-24</td>\n",
              "      <td>1998-04-20</td>\n",
              "      <td>Sant Gourmet</td>\n",
              "      <td>Norway</td>\n",
              "      <td>ALFKI</td>\n",
              "      <td>Alfreds Futterkiste</td>\n",
              "      <td>Germany</td>\n",
              "      <td>2</td>\n",
              "      <td>United Package</td>\n",
              "      <td>25.89</td>\n",
              "      <td>25.89</td>\n",
              "      <td>15</td>\n",
              "      <td>388.35</td>\n",
              "      <td>388.35</td>\n",
              "    </tr>\n",
              "    <tr>\n",
              "      <th>2</th>\n",
              "      <td>2</td>\n",
              "      <td>2</td>\n",
              "      <td>Andrew Fuller</td>\n",
              "      <td>USA</td>\n",
              "      <td>11014</td>\n",
              "      <td>1998-04-10</td>\n",
              "      <td>1998-05-08</td>\n",
              "      <td>1998-04-15</td>\n",
              "      <td>LINO-Delicateses</td>\n",
              "      <td>Venezuela</td>\n",
              "      <td>ALFKI</td>\n",
              "      <td>Alfreds Futterkiste</td>\n",
              "      <td>Germany</td>\n",
              "      <td>3</td>\n",
              "      <td>Federal Shipping</td>\n",
              "      <td>9.65</td>\n",
              "      <td>9.65</td>\n",
              "      <td>28</td>\n",
              "      <td>270.20</td>\n",
              "      <td>270.20</td>\n",
              "    </tr>\n",
              "    <tr>\n",
              "      <th>3</th>\n",
              "      <td>3</td>\n",
              "      <td>2</td>\n",
              "      <td>Andrew Fuller</td>\n",
              "      <td>USA</td>\n",
              "      <td>11013</td>\n",
              "      <td>1998-04-09</td>\n",
              "      <td>1998-05-07</td>\n",
              "      <td>1998-04-10</td>\n",
              "      <td>Romero y tomillo</td>\n",
              "      <td>Spain</td>\n",
              "      <td>ALFKI</td>\n",
              "      <td>Alfreds Futterkiste</td>\n",
              "      <td>Germany</td>\n",
              "      <td>1</td>\n",
              "      <td>Speedy Express</td>\n",
              "      <td>12.50</td>\n",
              "      <td>12.50</td>\n",
              "      <td>2</td>\n",
              "      <td>25.00</td>\n",
              "      <td>25.00</td>\n",
              "    </tr>\n",
              "    <tr>\n",
              "      <th>4</th>\n",
              "      <td>4</td>\n",
              "      <td>2</td>\n",
              "      <td>Andrew Fuller</td>\n",
              "      <td>USA</td>\n",
              "      <td>11013</td>\n",
              "      <td>1998-04-09</td>\n",
              "      <td>1998-05-07</td>\n",
              "      <td>1998-04-10</td>\n",
              "      <td>Romero y tomillo</td>\n",
              "      <td>Spain</td>\n",
              "      <td>ALFKI</td>\n",
              "      <td>Alfreds Futterkiste</td>\n",
              "      <td>Germany</td>\n",
              "      <td>1</td>\n",
              "      <td>Speedy Express</td>\n",
              "      <td>9.50</td>\n",
              "      <td>9.50</td>\n",
              "      <td>20</td>\n",
              "      <td>190.00</td>\n",
              "      <td>190.00</td>\n",
              "    </tr>\n",
              "    <tr>\n",
              "      <th>...</th>\n",
              "      <td>...</td>\n",
              "      <td>...</td>\n",
              "      <td>...</td>\n",
              "      <td>...</td>\n",
              "      <td>...</td>\n",
              "      <td>...</td>\n",
              "      <td>...</td>\n",
              "      <td>...</td>\n",
              "      <td>...</td>\n",
              "      <td>...</td>\n",
              "      <td>...</td>\n",
              "      <td>...</td>\n",
              "      <td>...</td>\n",
              "      <td>...</td>\n",
              "      <td>...</td>\n",
              "      <td>...</td>\n",
              "      <td>...</td>\n",
              "      <td>...</td>\n",
              "      <td>...</td>\n",
              "      <td>...</td>\n",
              "    </tr>\n",
              "    <tr>\n",
              "      <th>189457</th>\n",
              "      <td>200410</td>\n",
              "      <td>9</td>\n",
              "      <td>Anne Dodsworth</td>\n",
              "      <td>UK</td>\n",
              "      <td>11017</td>\n",
              "      <td>1998-04-13</td>\n",
              "      <td>1998-05-11</td>\n",
              "      <td>1998-04-20</td>\n",
              "      <td>Ernst Handel</td>\n",
              "      <td>Austria</td>\n",
              "      <td>WOLZA</td>\n",
              "      <td>Wolski  Zajazd</td>\n",
              "      <td>Poland</td>\n",
              "      <td>2</td>\n",
              "      <td>United Package</td>\n",
              "      <td>15.00</td>\n",
              "      <td>15.00</td>\n",
              "      <td>30</td>\n",
              "      <td>450.00</td>\n",
              "      <td>450.00</td>\n",
              "    </tr>\n",
              "    <tr>\n",
              "      <th>189458</th>\n",
              "      <td>200411</td>\n",
              "      <td>9</td>\n",
              "      <td>Anne Dodsworth</td>\n",
              "      <td>UK</td>\n",
              "      <td>11017</td>\n",
              "      <td>1998-04-13</td>\n",
              "      <td>1998-05-11</td>\n",
              "      <td>1998-04-20</td>\n",
              "      <td>Ernst Handel</td>\n",
              "      <td>Austria</td>\n",
              "      <td>WOLZA</td>\n",
              "      <td>Wolski  Zajazd</td>\n",
              "      <td>Poland</td>\n",
              "      <td>2</td>\n",
              "      <td>United Package</td>\n",
              "      <td>55.00</td>\n",
              "      <td>55.00</td>\n",
              "      <td>110</td>\n",
              "      <td>6050.00</td>\n",
              "      <td>6050.00</td>\n",
              "    </tr>\n",
              "    <tr>\n",
              "      <th>189459</th>\n",
              "      <td>200412</td>\n",
              "      <td>9</td>\n",
              "      <td>Anne Dodsworth</td>\n",
              "      <td>UK</td>\n",
              "      <td>11017</td>\n",
              "      <td>1998-04-13</td>\n",
              "      <td>1998-05-11</td>\n",
              "      <td>1998-04-20</td>\n",
              "      <td>Ernst Handel</td>\n",
              "      <td>Austria</td>\n",
              "      <td>WOLZA</td>\n",
              "      <td>Wolski  Zajazd</td>\n",
              "      <td>Poland</td>\n",
              "      <td>2</td>\n",
              "      <td>United Package</td>\n",
              "      <td>10.00</td>\n",
              "      <td>10.00</td>\n",
              "      <td>25</td>\n",
              "      <td>250.00</td>\n",
              "      <td>250.00</td>\n",
              "    </tr>\n",
              "    <tr>\n",
              "      <th>189460</th>\n",
              "      <td>200413</td>\n",
              "      <td>9</td>\n",
              "      <td>Anne Dodsworth</td>\n",
              "      <td>UK</td>\n",
              "      <td>11016</td>\n",
              "      <td>1998-04-10</td>\n",
              "      <td>1998-05-08</td>\n",
              "      <td>1998-04-13</td>\n",
              "      <td>Around the Horn</td>\n",
              "      <td>UK</td>\n",
              "      <td>WOLZA</td>\n",
              "      <td>Wolski  Zajazd</td>\n",
              "      <td>Poland</td>\n",
              "      <td>2</td>\n",
              "      <td>United Package</td>\n",
              "      <td>19.00</td>\n",
              "      <td>19.00</td>\n",
              "      <td>16</td>\n",
              "      <td>304.00</td>\n",
              "      <td>304.00</td>\n",
              "    </tr>\n",
              "    <tr>\n",
              "      <th>189461</th>\n",
              "      <td>200414</td>\n",
              "      <td>9</td>\n",
              "      <td>Anne Dodsworth</td>\n",
              "      <td>UK</td>\n",
              "      <td>11016</td>\n",
              "      <td>1998-04-10</td>\n",
              "      <td>1998-05-08</td>\n",
              "      <td>1998-04-13</td>\n",
              "      <td>Around the Horn</td>\n",
              "      <td>UK</td>\n",
              "      <td>WOLZA</td>\n",
              "      <td>Wolski  Zajazd</td>\n",
              "      <td>Poland</td>\n",
              "      <td>2</td>\n",
              "      <td>United Package</td>\n",
              "      <td>12.50</td>\n",
              "      <td>12.50</td>\n",
              "      <td>15</td>\n",
              "      <td>187.50</td>\n",
              "      <td>187.50</td>\n",
              "    </tr>\n",
              "  </tbody>\n",
              "</table>\n",
              "<p>189462 rows × 20 columns</p>\n",
              "</div>\n",
              "      <button class=\"colab-df-convert\" onclick=\"convertToInteractive('df-430bd033-2580-4954-ad46-dfc3b7329624')\"\n",
              "              title=\"Convert this dataframe to an interactive table.\"\n",
              "              style=\"display:none;\">\n",
              "        \n",
              "  <svg xmlns=\"http://www.w3.org/2000/svg\" height=\"24px\"viewBox=\"0 0 24 24\"\n",
              "       width=\"24px\">\n",
              "    <path d=\"M0 0h24v24H0V0z\" fill=\"none\"/>\n",
              "    <path d=\"M18.56 5.44l.94 2.06.94-2.06 2.06-.94-2.06-.94-.94-2.06-.94 2.06-2.06.94zm-11 1L8.5 8.5l.94-2.06 2.06-.94-2.06-.94L8.5 2.5l-.94 2.06-2.06.94zm10 10l.94 2.06.94-2.06 2.06-.94-2.06-.94-.94-2.06-.94 2.06-2.06.94z\"/><path d=\"M17.41 7.96l-1.37-1.37c-.4-.4-.92-.59-1.43-.59-.52 0-1.04.2-1.43.59L10.3 9.45l-7.72 7.72c-.78.78-.78 2.05 0 2.83L4 21.41c.39.39.9.59 1.41.59.51 0 1.02-.2 1.41-.59l7.78-7.78 2.81-2.81c.8-.78.8-2.07 0-2.86zM5.41 20L4 18.59l7.72-7.72 1.47 1.35L5.41 20z\"/>\n",
              "  </svg>\n",
              "      </button>\n",
              "      \n",
              "  <style>\n",
              "    .colab-df-container {\n",
              "      display:flex;\n",
              "      flex-wrap:wrap;\n",
              "      gap: 12px;\n",
              "    }\n",
              "\n",
              "    .colab-df-convert {\n",
              "      background-color: #E8F0FE;\n",
              "      border: none;\n",
              "      border-radius: 50%;\n",
              "      cursor: pointer;\n",
              "      display: none;\n",
              "      fill: #1967D2;\n",
              "      height: 32px;\n",
              "      padding: 0 0 0 0;\n",
              "      width: 32px;\n",
              "    }\n",
              "\n",
              "    .colab-df-convert:hover {\n",
              "      background-color: #E2EBFA;\n",
              "      box-shadow: 0px 1px 2px rgba(60, 64, 67, 0.3), 0px 1px 3px 1px rgba(60, 64, 67, 0.15);\n",
              "      fill: #174EA6;\n",
              "    }\n",
              "\n",
              "    [theme=dark] .colab-df-convert {\n",
              "      background-color: #3B4455;\n",
              "      fill: #D2E3FC;\n",
              "    }\n",
              "\n",
              "    [theme=dark] .colab-df-convert:hover {\n",
              "      background-color: #434B5C;\n",
              "      box-shadow: 0px 1px 3px 1px rgba(0, 0, 0, 0.15);\n",
              "      filter: drop-shadow(0px 1px 2px rgba(0, 0, 0, 0.3));\n",
              "      fill: #FFFFFF;\n",
              "    }\n",
              "  </style>\n",
              "\n",
              "      <script>\n",
              "        const buttonEl =\n",
              "          document.querySelector('#df-430bd033-2580-4954-ad46-dfc3b7329624 button.colab-df-convert');\n",
              "        buttonEl.style.display =\n",
              "          google.colab.kernel.accessAllowed ? 'block' : 'none';\n",
              "\n",
              "        async function convertToInteractive(key) {\n",
              "          const element = document.querySelector('#df-430bd033-2580-4954-ad46-dfc3b7329624');\n",
              "          const dataTable =\n",
              "            await google.colab.kernel.invokeFunction('convertToInteractive',\n",
              "                                                     [key], {});\n",
              "          if (!dataTable) return;\n",
              "\n",
              "          const docLinkHtml = 'Like what you see? Visit the ' +\n",
              "            '<a target=\"_blank\" href=https://colab.research.google.com/notebooks/data_table.ipynb>data table notebook</a>'\n",
              "            + ' to learn more about interactive tables.';\n",
              "          element.innerHTML = '';\n",
              "          dataTable['output_type'] = 'display_data';\n",
              "          await google.colab.output.renderOutput(dataTable, element);\n",
              "          const docLink = document.createElement('div');\n",
              "          docLink.innerHTML = docLinkHtml;\n",
              "          element.appendChild(docLink);\n",
              "        }\n",
              "      </script>\n",
              "    </div>\n",
              "  </div>\n",
              "  "
            ]
          },
          "metadata": {},
          "execution_count": 13
        }
      ]
    },
    {
      "cell_type": "markdown",
      "id": "15c6b1a2",
      "metadata": {
        "id": "15c6b1a2"
      },
      "source": [
        "## Top 5 customer order"
      ]
    },
    {
      "cell_type": "code",
      "execution_count": null,
      "id": "5cb890e6",
      "metadata": {
        "id": "5cb890e6",
        "colab": {
          "base_uri": "https://localhost:8080/",
          "height": 206
        },
        "outputId": "3d903bfb-b490-490d-eae4-2536dfc2a4d2"
      },
      "outputs": [
        {
          "output_type": "execute_result",
          "data": {
            "text/plain": [
              "  CustomerID  OrderID\n",
              "0      ALFKI     2082\n",
              "1      ROMEY     2082\n",
              "2      RICAR     2082\n",
              "3      REGGC     2082\n",
              "4      RATTC     2082"
            ],
            "text/html": [
              "\n",
              "  <div id=\"df-6c3791a8-ce4b-4e34-8a57-bef07bdbbd6a\">\n",
              "    <div class=\"colab-df-container\">\n",
              "      <div>\n",
              "<style scoped>\n",
              "    .dataframe tbody tr th:only-of-type {\n",
              "        vertical-align: middle;\n",
              "    }\n",
              "\n",
              "    .dataframe tbody tr th {\n",
              "        vertical-align: top;\n",
              "    }\n",
              "\n",
              "    .dataframe thead th {\n",
              "        text-align: right;\n",
              "    }\n",
              "</style>\n",
              "<table border=\"1\" class=\"dataframe\">\n",
              "  <thead>\n",
              "    <tr style=\"text-align: right;\">\n",
              "      <th></th>\n",
              "      <th>CustomerID</th>\n",
              "      <th>OrderID</th>\n",
              "    </tr>\n",
              "  </thead>\n",
              "  <tbody>\n",
              "    <tr>\n",
              "      <th>0</th>\n",
              "      <td>ALFKI</td>\n",
              "      <td>2082</td>\n",
              "    </tr>\n",
              "    <tr>\n",
              "      <th>1</th>\n",
              "      <td>ROMEY</td>\n",
              "      <td>2082</td>\n",
              "    </tr>\n",
              "    <tr>\n",
              "      <th>2</th>\n",
              "      <td>RICAR</td>\n",
              "      <td>2082</td>\n",
              "    </tr>\n",
              "    <tr>\n",
              "      <th>3</th>\n",
              "      <td>REGGC</td>\n",
              "      <td>2082</td>\n",
              "    </tr>\n",
              "    <tr>\n",
              "      <th>4</th>\n",
              "      <td>RATTC</td>\n",
              "      <td>2082</td>\n",
              "    </tr>\n",
              "  </tbody>\n",
              "</table>\n",
              "</div>\n",
              "      <button class=\"colab-df-convert\" onclick=\"convertToInteractive('df-6c3791a8-ce4b-4e34-8a57-bef07bdbbd6a')\"\n",
              "              title=\"Convert this dataframe to an interactive table.\"\n",
              "              style=\"display:none;\">\n",
              "        \n",
              "  <svg xmlns=\"http://www.w3.org/2000/svg\" height=\"24px\"viewBox=\"0 0 24 24\"\n",
              "       width=\"24px\">\n",
              "    <path d=\"M0 0h24v24H0V0z\" fill=\"none\"/>\n",
              "    <path d=\"M18.56 5.44l.94 2.06.94-2.06 2.06-.94-2.06-.94-.94-2.06-.94 2.06-2.06.94zm-11 1L8.5 8.5l.94-2.06 2.06-.94-2.06-.94L8.5 2.5l-.94 2.06-2.06.94zm10 10l.94 2.06.94-2.06 2.06-.94-2.06-.94-.94-2.06-.94 2.06-2.06.94z\"/><path d=\"M17.41 7.96l-1.37-1.37c-.4-.4-.92-.59-1.43-.59-.52 0-1.04.2-1.43.59L10.3 9.45l-7.72 7.72c-.78.78-.78 2.05 0 2.83L4 21.41c.39.39.9.59 1.41.59.51 0 1.02-.2 1.41-.59l7.78-7.78 2.81-2.81c.8-.78.8-2.07 0-2.86zM5.41 20L4 18.59l7.72-7.72 1.47 1.35L5.41 20z\"/>\n",
              "  </svg>\n",
              "      </button>\n",
              "      \n",
              "  <style>\n",
              "    .colab-df-container {\n",
              "      display:flex;\n",
              "      flex-wrap:wrap;\n",
              "      gap: 12px;\n",
              "    }\n",
              "\n",
              "    .colab-df-convert {\n",
              "      background-color: #E8F0FE;\n",
              "      border: none;\n",
              "      border-radius: 50%;\n",
              "      cursor: pointer;\n",
              "      display: none;\n",
              "      fill: #1967D2;\n",
              "      height: 32px;\n",
              "      padding: 0 0 0 0;\n",
              "      width: 32px;\n",
              "    }\n",
              "\n",
              "    .colab-df-convert:hover {\n",
              "      background-color: #E2EBFA;\n",
              "      box-shadow: 0px 1px 2px rgba(60, 64, 67, 0.3), 0px 1px 3px 1px rgba(60, 64, 67, 0.15);\n",
              "      fill: #174EA6;\n",
              "    }\n",
              "\n",
              "    [theme=dark] .colab-df-convert {\n",
              "      background-color: #3B4455;\n",
              "      fill: #D2E3FC;\n",
              "    }\n",
              "\n",
              "    [theme=dark] .colab-df-convert:hover {\n",
              "      background-color: #434B5C;\n",
              "      box-shadow: 0px 1px 3px 1px rgba(0, 0, 0, 0.15);\n",
              "      filter: drop-shadow(0px 1px 2px rgba(0, 0, 0, 0.3));\n",
              "      fill: #FFFFFF;\n",
              "    }\n",
              "  </style>\n",
              "\n",
              "      <script>\n",
              "        const buttonEl =\n",
              "          document.querySelector('#df-6c3791a8-ce4b-4e34-8a57-bef07bdbbd6a button.colab-df-convert');\n",
              "        buttonEl.style.display =\n",
              "          google.colab.kernel.accessAllowed ? 'block' : 'none';\n",
              "\n",
              "        async function convertToInteractive(key) {\n",
              "          const element = document.querySelector('#df-6c3791a8-ce4b-4e34-8a57-bef07bdbbd6a');\n",
              "          const dataTable =\n",
              "            await google.colab.kernel.invokeFunction('convertToInteractive',\n",
              "                                                     [key], {});\n",
              "          if (!dataTable) return;\n",
              "\n",
              "          const docLinkHtml = 'Like what you see? Visit the ' +\n",
              "            '<a target=\"_blank\" href=https://colab.research.google.com/notebooks/data_table.ipynb>data table notebook</a>'\n",
              "            + ' to learn more about interactive tables.';\n",
              "          element.innerHTML = '';\n",
              "          dataTable['output_type'] = 'display_data';\n",
              "          await google.colab.output.renderOutput(dataTable, element);\n",
              "          const docLink = document.createElement('div');\n",
              "          docLink.innerHTML = docLinkHtml;\n",
              "          element.appendChild(docLink);\n",
              "        }\n",
              "      </script>\n",
              "    </div>\n",
              "  </div>\n",
              "  "
            ]
          },
          "metadata": {},
          "execution_count": 17
        }
      ],
      "source": [
        "# Top 5 Customer based on number of order\n",
        "dforder = df.groupby(\"CustomerID\").count().sort_values(\"OrderID\", ascending=False)[[\"OrderID\"]].reset_index()\n",
        "dforder.head()"
      ]
    },
    {
      "cell_type": "code",
      "execution_count": null,
      "id": "88c3d532",
      "metadata": {
        "id": "88c3d532",
        "colab": {
          "base_uri": "https://localhost:8080/",
          "height": 206
        },
        "outputId": "da76d0c9-b99b-4601-eb68-a2ad653c4051"
      },
      "outputs": [
        {
          "output_type": "execute_result",
          "data": {
            "text/plain": [
              "   CustomerID  OrderID\n",
              "86      GALED     2082\n",
              "87      FURIB     2082\n",
              "88      FRANS     2082\n",
              "89      FRANR     2082\n",
              "90      WOLZA     2082"
            ],
            "text/html": [
              "\n",
              "  <div id=\"df-a6862bca-1592-4215-90cd-1fb75bc6ac93\">\n",
              "    <div class=\"colab-df-container\">\n",
              "      <div>\n",
              "<style scoped>\n",
              "    .dataframe tbody tr th:only-of-type {\n",
              "        vertical-align: middle;\n",
              "    }\n",
              "\n",
              "    .dataframe tbody tr th {\n",
              "        vertical-align: top;\n",
              "    }\n",
              "\n",
              "    .dataframe thead th {\n",
              "        text-align: right;\n",
              "    }\n",
              "</style>\n",
              "<table border=\"1\" class=\"dataframe\">\n",
              "  <thead>\n",
              "    <tr style=\"text-align: right;\">\n",
              "      <th></th>\n",
              "      <th>CustomerID</th>\n",
              "      <th>OrderID</th>\n",
              "    </tr>\n",
              "  </thead>\n",
              "  <tbody>\n",
              "    <tr>\n",
              "      <th>86</th>\n",
              "      <td>GALED</td>\n",
              "      <td>2082</td>\n",
              "    </tr>\n",
              "    <tr>\n",
              "      <th>87</th>\n",
              "      <td>FURIB</td>\n",
              "      <td>2082</td>\n",
              "    </tr>\n",
              "    <tr>\n",
              "      <th>88</th>\n",
              "      <td>FRANS</td>\n",
              "      <td>2082</td>\n",
              "    </tr>\n",
              "    <tr>\n",
              "      <th>89</th>\n",
              "      <td>FRANR</td>\n",
              "      <td>2082</td>\n",
              "    </tr>\n",
              "    <tr>\n",
              "      <th>90</th>\n",
              "      <td>WOLZA</td>\n",
              "      <td>2082</td>\n",
              "    </tr>\n",
              "  </tbody>\n",
              "</table>\n",
              "</div>\n",
              "      <button class=\"colab-df-convert\" onclick=\"convertToInteractive('df-a6862bca-1592-4215-90cd-1fb75bc6ac93')\"\n",
              "              title=\"Convert this dataframe to an interactive table.\"\n",
              "              style=\"display:none;\">\n",
              "        \n",
              "  <svg xmlns=\"http://www.w3.org/2000/svg\" height=\"24px\"viewBox=\"0 0 24 24\"\n",
              "       width=\"24px\">\n",
              "    <path d=\"M0 0h24v24H0V0z\" fill=\"none\"/>\n",
              "    <path d=\"M18.56 5.44l.94 2.06.94-2.06 2.06-.94-2.06-.94-.94-2.06-.94 2.06-2.06.94zm-11 1L8.5 8.5l.94-2.06 2.06-.94-2.06-.94L8.5 2.5l-.94 2.06-2.06.94zm10 10l.94 2.06.94-2.06 2.06-.94-2.06-.94-.94-2.06-.94 2.06-2.06.94z\"/><path d=\"M17.41 7.96l-1.37-1.37c-.4-.4-.92-.59-1.43-.59-.52 0-1.04.2-1.43.59L10.3 9.45l-7.72 7.72c-.78.78-.78 2.05 0 2.83L4 21.41c.39.39.9.59 1.41.59.51 0 1.02-.2 1.41-.59l7.78-7.78 2.81-2.81c.8-.78.8-2.07 0-2.86zM5.41 20L4 18.59l7.72-7.72 1.47 1.35L5.41 20z\"/>\n",
              "  </svg>\n",
              "      </button>\n",
              "      \n",
              "  <style>\n",
              "    .colab-df-container {\n",
              "      display:flex;\n",
              "      flex-wrap:wrap;\n",
              "      gap: 12px;\n",
              "    }\n",
              "\n",
              "    .colab-df-convert {\n",
              "      background-color: #E8F0FE;\n",
              "      border: none;\n",
              "      border-radius: 50%;\n",
              "      cursor: pointer;\n",
              "      display: none;\n",
              "      fill: #1967D2;\n",
              "      height: 32px;\n",
              "      padding: 0 0 0 0;\n",
              "      width: 32px;\n",
              "    }\n",
              "\n",
              "    .colab-df-convert:hover {\n",
              "      background-color: #E2EBFA;\n",
              "      box-shadow: 0px 1px 2px rgba(60, 64, 67, 0.3), 0px 1px 3px 1px rgba(60, 64, 67, 0.15);\n",
              "      fill: #174EA6;\n",
              "    }\n",
              "\n",
              "    [theme=dark] .colab-df-convert {\n",
              "      background-color: #3B4455;\n",
              "      fill: #D2E3FC;\n",
              "    }\n",
              "\n",
              "    [theme=dark] .colab-df-convert:hover {\n",
              "      background-color: #434B5C;\n",
              "      box-shadow: 0px 1px 3px 1px rgba(0, 0, 0, 0.15);\n",
              "      filter: drop-shadow(0px 1px 2px rgba(0, 0, 0, 0.3));\n",
              "      fill: #FFFFFF;\n",
              "    }\n",
              "  </style>\n",
              "\n",
              "      <script>\n",
              "        const buttonEl =\n",
              "          document.querySelector('#df-a6862bca-1592-4215-90cd-1fb75bc6ac93 button.colab-df-convert');\n",
              "        buttonEl.style.display =\n",
              "          google.colab.kernel.accessAllowed ? 'block' : 'none';\n",
              "\n",
              "        async function convertToInteractive(key) {\n",
              "          const element = document.querySelector('#df-a6862bca-1592-4215-90cd-1fb75bc6ac93');\n",
              "          const dataTable =\n",
              "            await google.colab.kernel.invokeFunction('convertToInteractive',\n",
              "                                                     [key], {});\n",
              "          if (!dataTable) return;\n",
              "\n",
              "          const docLinkHtml = 'Like what you see? Visit the ' +\n",
              "            '<a target=\"_blank\" href=https://colab.research.google.com/notebooks/data_table.ipynb>data table notebook</a>'\n",
              "            + ' to learn more about interactive tables.';\n",
              "          element.innerHTML = '';\n",
              "          dataTable['output_type'] = 'display_data';\n",
              "          await google.colab.output.renderOutput(dataTable, element);\n",
              "          const docLink = document.createElement('div');\n",
              "          docLink.innerHTML = docLinkHtml;\n",
              "          element.appendChild(docLink);\n",
              "        }\n",
              "      </script>\n",
              "    </div>\n",
              "  </div>\n",
              "  "
            ]
          },
          "metadata": {},
          "execution_count": 18
        }
      ],
      "source": [
        "dforder.tail()"
      ]
    },
    {
      "cell_type": "markdown",
      "source": [
        "## Top 5 Employee can highest closing order"
      ],
      "metadata": {
        "id": "TvdpDiBfFrQE"
      },
      "id": "TvdpDiBfFrQE"
    },
    {
      "cell_type": "code",
      "source": [
        "# Top 5 suppliers based on gross income from sales\n",
        "dfincome = df.groupby([\"EmployeeName\"]).sum().sort_values(\"GrossIncome\", ascending=False)[[\"Quantity\", \"GrossIncome\"]].reset_index()\n",
        "dfincome.head()"
      ],
      "metadata": {
        "colab": {
          "base_uri": "https://localhost:8080/",
          "height": 206
        },
        "id": "1i4pf_03FJHo",
        "outputId": "5f82ef75-28ee-42f9-eb3a-b32536690de6"
      },
      "id": "1i4pf_03FJHo",
      "execution_count": null,
      "outputs": [
        {
          "output_type": "execute_result",
          "data": {
            "text/plain": [
              "       EmployeeName  Quantity  GrossIncome\n",
              "0  Margaret Peacock  863681.0  22085194.95\n",
              "1   Janet Leverling  714532.0  19387668.30\n",
              "2     Nancy Davolio  690053.0  17942389.01\n",
              "3     Andrew Fuller  531258.0  15810136.16\n",
              "4       Robert King  404859.0  12385390.29"
            ],
            "text/html": [
              "\n",
              "  <div id=\"df-e69be7a2-3275-4097-bb82-732aadbe5225\">\n",
              "    <div class=\"colab-df-container\">\n",
              "      <div>\n",
              "<style scoped>\n",
              "    .dataframe tbody tr th:only-of-type {\n",
              "        vertical-align: middle;\n",
              "    }\n",
              "\n",
              "    .dataframe tbody tr th {\n",
              "        vertical-align: top;\n",
              "    }\n",
              "\n",
              "    .dataframe thead th {\n",
              "        text-align: right;\n",
              "    }\n",
              "</style>\n",
              "<table border=\"1\" class=\"dataframe\">\n",
              "  <thead>\n",
              "    <tr style=\"text-align: right;\">\n",
              "      <th></th>\n",
              "      <th>EmployeeName</th>\n",
              "      <th>Quantity</th>\n",
              "      <th>GrossIncome</th>\n",
              "    </tr>\n",
              "  </thead>\n",
              "  <tbody>\n",
              "    <tr>\n",
              "      <th>0</th>\n",
              "      <td>Margaret Peacock</td>\n",
              "      <td>863681.0</td>\n",
              "      <td>22085194.95</td>\n",
              "    </tr>\n",
              "    <tr>\n",
              "      <th>1</th>\n",
              "      <td>Janet Leverling</td>\n",
              "      <td>714532.0</td>\n",
              "      <td>19387668.30</td>\n",
              "    </tr>\n",
              "    <tr>\n",
              "      <th>2</th>\n",
              "      <td>Nancy Davolio</td>\n",
              "      <td>690053.0</td>\n",
              "      <td>17942389.01</td>\n",
              "    </tr>\n",
              "    <tr>\n",
              "      <th>3</th>\n",
              "      <td>Andrew Fuller</td>\n",
              "      <td>531258.0</td>\n",
              "      <td>15810136.16</td>\n",
              "    </tr>\n",
              "    <tr>\n",
              "      <th>4</th>\n",
              "      <td>Robert King</td>\n",
              "      <td>404859.0</td>\n",
              "      <td>12385390.29</td>\n",
              "    </tr>\n",
              "  </tbody>\n",
              "</table>\n",
              "</div>\n",
              "      <button class=\"colab-df-convert\" onclick=\"convertToInteractive('df-e69be7a2-3275-4097-bb82-732aadbe5225')\"\n",
              "              title=\"Convert this dataframe to an interactive table.\"\n",
              "              style=\"display:none;\">\n",
              "        \n",
              "  <svg xmlns=\"http://www.w3.org/2000/svg\" height=\"24px\"viewBox=\"0 0 24 24\"\n",
              "       width=\"24px\">\n",
              "    <path d=\"M0 0h24v24H0V0z\" fill=\"none\"/>\n",
              "    <path d=\"M18.56 5.44l.94 2.06.94-2.06 2.06-.94-2.06-.94-.94-2.06-.94 2.06-2.06.94zm-11 1L8.5 8.5l.94-2.06 2.06-.94-2.06-.94L8.5 2.5l-.94 2.06-2.06.94zm10 10l.94 2.06.94-2.06 2.06-.94-2.06-.94-.94-2.06-.94 2.06-2.06.94z\"/><path d=\"M17.41 7.96l-1.37-1.37c-.4-.4-.92-.59-1.43-.59-.52 0-1.04.2-1.43.59L10.3 9.45l-7.72 7.72c-.78.78-.78 2.05 0 2.83L4 21.41c.39.39.9.59 1.41.59.51 0 1.02-.2 1.41-.59l7.78-7.78 2.81-2.81c.8-.78.8-2.07 0-2.86zM5.41 20L4 18.59l7.72-7.72 1.47 1.35L5.41 20z\"/>\n",
              "  </svg>\n",
              "      </button>\n",
              "      \n",
              "  <style>\n",
              "    .colab-df-container {\n",
              "      display:flex;\n",
              "      flex-wrap:wrap;\n",
              "      gap: 12px;\n",
              "    }\n",
              "\n",
              "    .colab-df-convert {\n",
              "      background-color: #E8F0FE;\n",
              "      border: none;\n",
              "      border-radius: 50%;\n",
              "      cursor: pointer;\n",
              "      display: none;\n",
              "      fill: #1967D2;\n",
              "      height: 32px;\n",
              "      padding: 0 0 0 0;\n",
              "      width: 32px;\n",
              "    }\n",
              "\n",
              "    .colab-df-convert:hover {\n",
              "      background-color: #E2EBFA;\n",
              "      box-shadow: 0px 1px 2px rgba(60, 64, 67, 0.3), 0px 1px 3px 1px rgba(60, 64, 67, 0.15);\n",
              "      fill: #174EA6;\n",
              "    }\n",
              "\n",
              "    [theme=dark] .colab-df-convert {\n",
              "      background-color: #3B4455;\n",
              "      fill: #D2E3FC;\n",
              "    }\n",
              "\n",
              "    [theme=dark] .colab-df-convert:hover {\n",
              "      background-color: #434B5C;\n",
              "      box-shadow: 0px 1px 3px 1px rgba(0, 0, 0, 0.15);\n",
              "      filter: drop-shadow(0px 1px 2px rgba(0, 0, 0, 0.3));\n",
              "      fill: #FFFFFF;\n",
              "    }\n",
              "  </style>\n",
              "\n",
              "      <script>\n",
              "        const buttonEl =\n",
              "          document.querySelector('#df-e69be7a2-3275-4097-bb82-732aadbe5225 button.colab-df-convert');\n",
              "        buttonEl.style.display =\n",
              "          google.colab.kernel.accessAllowed ? 'block' : 'none';\n",
              "\n",
              "        async function convertToInteractive(key) {\n",
              "          const element = document.querySelector('#df-e69be7a2-3275-4097-bb82-732aadbe5225');\n",
              "          const dataTable =\n",
              "            await google.colab.kernel.invokeFunction('convertToInteractive',\n",
              "                                                     [key], {});\n",
              "          if (!dataTable) return;\n",
              "\n",
              "          const docLinkHtml = 'Like what you see? Visit the ' +\n",
              "            '<a target=\"_blank\" href=https://colab.research.google.com/notebooks/data_table.ipynb>data table notebook</a>'\n",
              "            + ' to learn more about interactive tables.';\n",
              "          element.innerHTML = '';\n",
              "          dataTable['output_type'] = 'display_data';\n",
              "          await google.colab.output.renderOutput(dataTable, element);\n",
              "          const docLink = document.createElement('div');\n",
              "          docLink.innerHTML = docLinkHtml;\n",
              "          element.appendChild(docLink);\n",
              "        }\n",
              "      </script>\n",
              "    </div>\n",
              "  </div>\n",
              "  "
            ]
          },
          "metadata": {},
          "execution_count": 47
        }
      ]
    },
    {
      "cell_type": "markdown",
      "source": [
        "## Top 5 Customer based on Number of Order"
      ],
      "metadata": {
        "id": "zRJcX1GSGTw_"
      },
      "id": "zRJcX1GSGTw_"
    },
    {
      "cell_type": "code",
      "source": [
        "# Top 5 suppliers based on number of order\n",
        "dforder = df.groupby(\"EmployeeName\").count().sort_values(\"OrderID\", ascending=False)[[\"OrderID\"]].reset_index()\n",
        "dforder.head()"
      ],
      "metadata": {
        "colab": {
          "base_uri": "https://localhost:8080/",
          "height": 206
        },
        "id": "lPzR7COxGZpX",
        "outputId": "e5f041d8-ffb5-4506-cda9-b1c2b228e974"
      },
      "id": "lPzR7COxGZpX",
      "execution_count": null,
      "outputs": [
        {
          "output_type": "execute_result",
          "data": {
            "text/plain": [
              "       EmployeeName  OrderID\n",
              "0  Margaret Peacock    37219\n",
              "1   Janet Leverling    29211\n",
              "2     Nancy Davolio    28574\n",
              "3    Laura Callahan    22750\n",
              "4     Andrew Fuller    21112"
            ],
            "text/html": [
              "\n",
              "  <div id=\"df-ddce4031-722f-4181-887f-af6802ac43f2\">\n",
              "    <div class=\"colab-df-container\">\n",
              "      <div>\n",
              "<style scoped>\n",
              "    .dataframe tbody tr th:only-of-type {\n",
              "        vertical-align: middle;\n",
              "    }\n",
              "\n",
              "    .dataframe tbody tr th {\n",
              "        vertical-align: top;\n",
              "    }\n",
              "\n",
              "    .dataframe thead th {\n",
              "        text-align: right;\n",
              "    }\n",
              "</style>\n",
              "<table border=\"1\" class=\"dataframe\">\n",
              "  <thead>\n",
              "    <tr style=\"text-align: right;\">\n",
              "      <th></th>\n",
              "      <th>EmployeeName</th>\n",
              "      <th>OrderID</th>\n",
              "    </tr>\n",
              "  </thead>\n",
              "  <tbody>\n",
              "    <tr>\n",
              "      <th>0</th>\n",
              "      <td>Margaret Peacock</td>\n",
              "      <td>37219</td>\n",
              "    </tr>\n",
              "    <tr>\n",
              "      <th>1</th>\n",
              "      <td>Janet Leverling</td>\n",
              "      <td>29211</td>\n",
              "    </tr>\n",
              "    <tr>\n",
              "      <th>2</th>\n",
              "      <td>Nancy Davolio</td>\n",
              "      <td>28574</td>\n",
              "    </tr>\n",
              "    <tr>\n",
              "      <th>3</th>\n",
              "      <td>Laura Callahan</td>\n",
              "      <td>22750</td>\n",
              "    </tr>\n",
              "    <tr>\n",
              "      <th>4</th>\n",
              "      <td>Andrew Fuller</td>\n",
              "      <td>21112</td>\n",
              "    </tr>\n",
              "  </tbody>\n",
              "</table>\n",
              "</div>\n",
              "      <button class=\"colab-df-convert\" onclick=\"convertToInteractive('df-ddce4031-722f-4181-887f-af6802ac43f2')\"\n",
              "              title=\"Convert this dataframe to an interactive table.\"\n",
              "              style=\"display:none;\">\n",
              "        \n",
              "  <svg xmlns=\"http://www.w3.org/2000/svg\" height=\"24px\"viewBox=\"0 0 24 24\"\n",
              "       width=\"24px\">\n",
              "    <path d=\"M0 0h24v24H0V0z\" fill=\"none\"/>\n",
              "    <path d=\"M18.56 5.44l.94 2.06.94-2.06 2.06-.94-2.06-.94-.94-2.06-.94 2.06-2.06.94zm-11 1L8.5 8.5l.94-2.06 2.06-.94-2.06-.94L8.5 2.5l-.94 2.06-2.06.94zm10 10l.94 2.06.94-2.06 2.06-.94-2.06-.94-.94-2.06-.94 2.06-2.06.94z\"/><path d=\"M17.41 7.96l-1.37-1.37c-.4-.4-.92-.59-1.43-.59-.52 0-1.04.2-1.43.59L10.3 9.45l-7.72 7.72c-.78.78-.78 2.05 0 2.83L4 21.41c.39.39.9.59 1.41.59.51 0 1.02-.2 1.41-.59l7.78-7.78 2.81-2.81c.8-.78.8-2.07 0-2.86zM5.41 20L4 18.59l7.72-7.72 1.47 1.35L5.41 20z\"/>\n",
              "  </svg>\n",
              "      </button>\n",
              "      \n",
              "  <style>\n",
              "    .colab-df-container {\n",
              "      display:flex;\n",
              "      flex-wrap:wrap;\n",
              "      gap: 12px;\n",
              "    }\n",
              "\n",
              "    .colab-df-convert {\n",
              "      background-color: #E8F0FE;\n",
              "      border: none;\n",
              "      border-radius: 50%;\n",
              "      cursor: pointer;\n",
              "      display: none;\n",
              "      fill: #1967D2;\n",
              "      height: 32px;\n",
              "      padding: 0 0 0 0;\n",
              "      width: 32px;\n",
              "    }\n",
              "\n",
              "    .colab-df-convert:hover {\n",
              "      background-color: #E2EBFA;\n",
              "      box-shadow: 0px 1px 2px rgba(60, 64, 67, 0.3), 0px 1px 3px 1px rgba(60, 64, 67, 0.15);\n",
              "      fill: #174EA6;\n",
              "    }\n",
              "\n",
              "    [theme=dark] .colab-df-convert {\n",
              "      background-color: #3B4455;\n",
              "      fill: #D2E3FC;\n",
              "    }\n",
              "\n",
              "    [theme=dark] .colab-df-convert:hover {\n",
              "      background-color: #434B5C;\n",
              "      box-shadow: 0px 1px 3px 1px rgba(0, 0, 0, 0.15);\n",
              "      filter: drop-shadow(0px 1px 2px rgba(0, 0, 0, 0.3));\n",
              "      fill: #FFFFFF;\n",
              "    }\n",
              "  </style>\n",
              "\n",
              "      <script>\n",
              "        const buttonEl =\n",
              "          document.querySelector('#df-ddce4031-722f-4181-887f-af6802ac43f2 button.colab-df-convert');\n",
              "        buttonEl.style.display =\n",
              "          google.colab.kernel.accessAllowed ? 'block' : 'none';\n",
              "\n",
              "        async function convertToInteractive(key) {\n",
              "          const element = document.querySelector('#df-ddce4031-722f-4181-887f-af6802ac43f2');\n",
              "          const dataTable =\n",
              "            await google.colab.kernel.invokeFunction('convertToInteractive',\n",
              "                                                     [key], {});\n",
              "          if (!dataTable) return;\n",
              "\n",
              "          const docLinkHtml = 'Like what you see? Visit the ' +\n",
              "            '<a target=\"_blank\" href=https://colab.research.google.com/notebooks/data_table.ipynb>data table notebook</a>'\n",
              "            + ' to learn more about interactive tables.';\n",
              "          element.innerHTML = '';\n",
              "          dataTable['output_type'] = 'display_data';\n",
              "          await google.colab.output.renderOutput(dataTable, element);\n",
              "          const docLink = document.createElement('div');\n",
              "          docLink.innerHTML = docLinkHtml;\n",
              "          element.appendChild(docLink);\n",
              "        }\n",
              "      </script>\n",
              "    </div>\n",
              "  </div>\n",
              "  "
            ]
          },
          "metadata": {},
          "execution_count": 66
        }
      ]
    },
    {
      "cell_type": "code",
      "source": [
        "df"
      ],
      "metadata": {
        "colab": {
          "base_uri": "https://localhost:8080/",
          "height": 677
        },
        "id": "7l42AfyMTZFX",
        "outputId": "5f17392f-162c-431c-9e3a-c4a9dd2fb14b"
      },
      "id": "7l42AfyMTZFX",
      "execution_count": null,
      "outputs": [
        {
          "output_type": "execute_result",
          "data": {
            "text/plain": [
              "        Unnamed: 0  EmployeeID    EmployeeName Loc_Country_Employee  OrderID  \\\n",
              "0                0           2   Andrew Fuller                  USA    11015   \n",
              "1                1           2   Andrew Fuller                  USA    11015   \n",
              "2                2           2   Andrew Fuller                  USA    11014   \n",
              "3                3           2   Andrew Fuller                  USA    11013   \n",
              "4                4           2   Andrew Fuller                  USA    11013   \n",
              "...            ...         ...             ...                  ...      ...   \n",
              "189457      200410           9  Anne Dodsworth                   UK    11017   \n",
              "189458      200411           9  Anne Dodsworth                   UK    11017   \n",
              "189459      200412           9  Anne Dodsworth                   UK    11017   \n",
              "189460      200413           9  Anne Dodsworth                   UK    11016   \n",
              "189461      200414           9  Anne Dodsworth                   UK    11016   \n",
              "\n",
              "         OrderDate RequiredDate ShippedDate          ShipName ShipCountry  \\\n",
              "0       1998-04-10   1998-04-24  1998-04-20      Sant Gourmet      Norway   \n",
              "1       1998-04-10   1998-04-24  1998-04-20      Sant Gourmet      Norway   \n",
              "2       1998-04-10   1998-05-08  1998-04-15  LINO-Delicateses   Venezuela   \n",
              "3       1998-04-09   1998-05-07  1998-04-10  Romero y tomillo       Spain   \n",
              "4       1998-04-09   1998-05-07  1998-04-10  Romero y tomillo       Spain   \n",
              "...            ...          ...         ...               ...         ...   \n",
              "189457  1998-04-13   1998-05-11  1998-04-20      Ernst Handel     Austria   \n",
              "189458  1998-04-13   1998-05-11  1998-04-20      Ernst Handel     Austria   \n",
              "189459  1998-04-13   1998-05-11  1998-04-20      Ernst Handel     Austria   \n",
              "189460  1998-04-10   1998-05-08  1998-04-13   Around the Horn          UK   \n",
              "189461  1998-04-10   1998-05-08  1998-04-13   Around the Horn          UK   \n",
              "\n",
              "        ... Customer_Company_Name Customer_Country ShipperID  \\\n",
              "0       ...   Alfreds Futterkiste          Germany         2   \n",
              "1       ...   Alfreds Futterkiste          Germany         2   \n",
              "2       ...   Alfreds Futterkiste          Germany         3   \n",
              "3       ...   Alfreds Futterkiste          Germany         1   \n",
              "4       ...   Alfreds Futterkiste          Germany         1   \n",
              "...     ...                   ...              ...       ...   \n",
              "189457  ...        Wolski  Zajazd           Poland         2   \n",
              "189458  ...        Wolski  Zajazd           Poland         2   \n",
              "189459  ...        Wolski  Zajazd           Poland         2   \n",
              "189460  ...        Wolski  Zajazd           Poland         2   \n",
              "189461  ...        Wolski  Zajazd           Poland         2   \n",
              "\n",
              "        Loc_ShipperCompany Sell_Price  BasePrice  Quantity  GrossIncome  \\\n",
              "0           United Package      13.00      13.00        18       234.00   \n",
              "1           United Package      25.89      25.89        15       388.35   \n",
              "2         Federal Shipping       9.65       9.65        28       270.20   \n",
              "3           Speedy Express      12.50      12.50         2        25.00   \n",
              "4           Speedy Express       9.50       9.50        20       190.00   \n",
              "...                    ...        ...        ...       ...          ...   \n",
              "189457      United Package      15.00      15.00        30       450.00   \n",
              "189458      United Package      55.00      55.00       110      6050.00   \n",
              "189459      United Package      10.00      10.00        25       250.00   \n",
              "189460      United Package      19.00      19.00        16       304.00   \n",
              "189461      United Package      12.50      12.50        15       187.50   \n",
              "\n",
              "        BaseIncome  ProcessingDate  \n",
              "0           234.00          4 days  \n",
              "1           388.35          4 days  \n",
              "2           270.20         23 days  \n",
              "3            25.00         27 days  \n",
              "4           190.00         27 days  \n",
              "...            ...             ...  \n",
              "189457      450.00         21 days  \n",
              "189458     6050.00         21 days  \n",
              "189459      250.00         21 days  \n",
              "189460      304.00         25 days  \n",
              "189461      187.50         25 days  \n",
              "\n",
              "[189462 rows x 21 columns]"
            ],
            "text/html": [
              "\n",
              "  <div id=\"df-2288b24b-ace2-4a86-a94f-46c4d3e5fa2d\">\n",
              "    <div class=\"colab-df-container\">\n",
              "      <div>\n",
              "<style scoped>\n",
              "    .dataframe tbody tr th:only-of-type {\n",
              "        vertical-align: middle;\n",
              "    }\n",
              "\n",
              "    .dataframe tbody tr th {\n",
              "        vertical-align: top;\n",
              "    }\n",
              "\n",
              "    .dataframe thead th {\n",
              "        text-align: right;\n",
              "    }\n",
              "</style>\n",
              "<table border=\"1\" class=\"dataframe\">\n",
              "  <thead>\n",
              "    <tr style=\"text-align: right;\">\n",
              "      <th></th>\n",
              "      <th>Unnamed: 0</th>\n",
              "      <th>EmployeeID</th>\n",
              "      <th>EmployeeName</th>\n",
              "      <th>Loc_Country_Employee</th>\n",
              "      <th>OrderID</th>\n",
              "      <th>OrderDate</th>\n",
              "      <th>RequiredDate</th>\n",
              "      <th>ShippedDate</th>\n",
              "      <th>ShipName</th>\n",
              "      <th>ShipCountry</th>\n",
              "      <th>...</th>\n",
              "      <th>Customer_Company_Name</th>\n",
              "      <th>Customer_Country</th>\n",
              "      <th>ShipperID</th>\n",
              "      <th>Loc_ShipperCompany</th>\n",
              "      <th>Sell_Price</th>\n",
              "      <th>BasePrice</th>\n",
              "      <th>Quantity</th>\n",
              "      <th>GrossIncome</th>\n",
              "      <th>BaseIncome</th>\n",
              "      <th>ProcessingDate</th>\n",
              "    </tr>\n",
              "  </thead>\n",
              "  <tbody>\n",
              "    <tr>\n",
              "      <th>0</th>\n",
              "      <td>0</td>\n",
              "      <td>2</td>\n",
              "      <td>Andrew Fuller</td>\n",
              "      <td>USA</td>\n",
              "      <td>11015</td>\n",
              "      <td>1998-04-10</td>\n",
              "      <td>1998-04-24</td>\n",
              "      <td>1998-04-20</td>\n",
              "      <td>Sant Gourmet</td>\n",
              "      <td>Norway</td>\n",
              "      <td>...</td>\n",
              "      <td>Alfreds Futterkiste</td>\n",
              "      <td>Germany</td>\n",
              "      <td>2</td>\n",
              "      <td>United Package</td>\n",
              "      <td>13.00</td>\n",
              "      <td>13.00</td>\n",
              "      <td>18</td>\n",
              "      <td>234.00</td>\n",
              "      <td>234.00</td>\n",
              "      <td>4 days</td>\n",
              "    </tr>\n",
              "    <tr>\n",
              "      <th>1</th>\n",
              "      <td>1</td>\n",
              "      <td>2</td>\n",
              "      <td>Andrew Fuller</td>\n",
              "      <td>USA</td>\n",
              "      <td>11015</td>\n",
              "      <td>1998-04-10</td>\n",
              "      <td>1998-04-24</td>\n",
              "      <td>1998-04-20</td>\n",
              "      <td>Sant Gourmet</td>\n",
              "      <td>Norway</td>\n",
              "      <td>...</td>\n",
              "      <td>Alfreds Futterkiste</td>\n",
              "      <td>Germany</td>\n",
              "      <td>2</td>\n",
              "      <td>United Package</td>\n",
              "      <td>25.89</td>\n",
              "      <td>25.89</td>\n",
              "      <td>15</td>\n",
              "      <td>388.35</td>\n",
              "      <td>388.35</td>\n",
              "      <td>4 days</td>\n",
              "    </tr>\n",
              "    <tr>\n",
              "      <th>2</th>\n",
              "      <td>2</td>\n",
              "      <td>2</td>\n",
              "      <td>Andrew Fuller</td>\n",
              "      <td>USA</td>\n",
              "      <td>11014</td>\n",
              "      <td>1998-04-10</td>\n",
              "      <td>1998-05-08</td>\n",
              "      <td>1998-04-15</td>\n",
              "      <td>LINO-Delicateses</td>\n",
              "      <td>Venezuela</td>\n",
              "      <td>...</td>\n",
              "      <td>Alfreds Futterkiste</td>\n",
              "      <td>Germany</td>\n",
              "      <td>3</td>\n",
              "      <td>Federal Shipping</td>\n",
              "      <td>9.65</td>\n",
              "      <td>9.65</td>\n",
              "      <td>28</td>\n",
              "      <td>270.20</td>\n",
              "      <td>270.20</td>\n",
              "      <td>23 days</td>\n",
              "    </tr>\n",
              "    <tr>\n",
              "      <th>3</th>\n",
              "      <td>3</td>\n",
              "      <td>2</td>\n",
              "      <td>Andrew Fuller</td>\n",
              "      <td>USA</td>\n",
              "      <td>11013</td>\n",
              "      <td>1998-04-09</td>\n",
              "      <td>1998-05-07</td>\n",
              "      <td>1998-04-10</td>\n",
              "      <td>Romero y tomillo</td>\n",
              "      <td>Spain</td>\n",
              "      <td>...</td>\n",
              "      <td>Alfreds Futterkiste</td>\n",
              "      <td>Germany</td>\n",
              "      <td>1</td>\n",
              "      <td>Speedy Express</td>\n",
              "      <td>12.50</td>\n",
              "      <td>12.50</td>\n",
              "      <td>2</td>\n",
              "      <td>25.00</td>\n",
              "      <td>25.00</td>\n",
              "      <td>27 days</td>\n",
              "    </tr>\n",
              "    <tr>\n",
              "      <th>4</th>\n",
              "      <td>4</td>\n",
              "      <td>2</td>\n",
              "      <td>Andrew Fuller</td>\n",
              "      <td>USA</td>\n",
              "      <td>11013</td>\n",
              "      <td>1998-04-09</td>\n",
              "      <td>1998-05-07</td>\n",
              "      <td>1998-04-10</td>\n",
              "      <td>Romero y tomillo</td>\n",
              "      <td>Spain</td>\n",
              "      <td>...</td>\n",
              "      <td>Alfreds Futterkiste</td>\n",
              "      <td>Germany</td>\n",
              "      <td>1</td>\n",
              "      <td>Speedy Express</td>\n",
              "      <td>9.50</td>\n",
              "      <td>9.50</td>\n",
              "      <td>20</td>\n",
              "      <td>190.00</td>\n",
              "      <td>190.00</td>\n",
              "      <td>27 days</td>\n",
              "    </tr>\n",
              "    <tr>\n",
              "      <th>...</th>\n",
              "      <td>...</td>\n",
              "      <td>...</td>\n",
              "      <td>...</td>\n",
              "      <td>...</td>\n",
              "      <td>...</td>\n",
              "      <td>...</td>\n",
              "      <td>...</td>\n",
              "      <td>...</td>\n",
              "      <td>...</td>\n",
              "      <td>...</td>\n",
              "      <td>...</td>\n",
              "      <td>...</td>\n",
              "      <td>...</td>\n",
              "      <td>...</td>\n",
              "      <td>...</td>\n",
              "      <td>...</td>\n",
              "      <td>...</td>\n",
              "      <td>...</td>\n",
              "      <td>...</td>\n",
              "      <td>...</td>\n",
              "      <td>...</td>\n",
              "    </tr>\n",
              "    <tr>\n",
              "      <th>189457</th>\n",
              "      <td>200410</td>\n",
              "      <td>9</td>\n",
              "      <td>Anne Dodsworth</td>\n",
              "      <td>UK</td>\n",
              "      <td>11017</td>\n",
              "      <td>1998-04-13</td>\n",
              "      <td>1998-05-11</td>\n",
              "      <td>1998-04-20</td>\n",
              "      <td>Ernst Handel</td>\n",
              "      <td>Austria</td>\n",
              "      <td>...</td>\n",
              "      <td>Wolski  Zajazd</td>\n",
              "      <td>Poland</td>\n",
              "      <td>2</td>\n",
              "      <td>United Package</td>\n",
              "      <td>15.00</td>\n",
              "      <td>15.00</td>\n",
              "      <td>30</td>\n",
              "      <td>450.00</td>\n",
              "      <td>450.00</td>\n",
              "      <td>21 days</td>\n",
              "    </tr>\n",
              "    <tr>\n",
              "      <th>189458</th>\n",
              "      <td>200411</td>\n",
              "      <td>9</td>\n",
              "      <td>Anne Dodsworth</td>\n",
              "      <td>UK</td>\n",
              "      <td>11017</td>\n",
              "      <td>1998-04-13</td>\n",
              "      <td>1998-05-11</td>\n",
              "      <td>1998-04-20</td>\n",
              "      <td>Ernst Handel</td>\n",
              "      <td>Austria</td>\n",
              "      <td>...</td>\n",
              "      <td>Wolski  Zajazd</td>\n",
              "      <td>Poland</td>\n",
              "      <td>2</td>\n",
              "      <td>United Package</td>\n",
              "      <td>55.00</td>\n",
              "      <td>55.00</td>\n",
              "      <td>110</td>\n",
              "      <td>6050.00</td>\n",
              "      <td>6050.00</td>\n",
              "      <td>21 days</td>\n",
              "    </tr>\n",
              "    <tr>\n",
              "      <th>189459</th>\n",
              "      <td>200412</td>\n",
              "      <td>9</td>\n",
              "      <td>Anne Dodsworth</td>\n",
              "      <td>UK</td>\n",
              "      <td>11017</td>\n",
              "      <td>1998-04-13</td>\n",
              "      <td>1998-05-11</td>\n",
              "      <td>1998-04-20</td>\n",
              "      <td>Ernst Handel</td>\n",
              "      <td>Austria</td>\n",
              "      <td>...</td>\n",
              "      <td>Wolski  Zajazd</td>\n",
              "      <td>Poland</td>\n",
              "      <td>2</td>\n",
              "      <td>United Package</td>\n",
              "      <td>10.00</td>\n",
              "      <td>10.00</td>\n",
              "      <td>25</td>\n",
              "      <td>250.00</td>\n",
              "      <td>250.00</td>\n",
              "      <td>21 days</td>\n",
              "    </tr>\n",
              "    <tr>\n",
              "      <th>189460</th>\n",
              "      <td>200413</td>\n",
              "      <td>9</td>\n",
              "      <td>Anne Dodsworth</td>\n",
              "      <td>UK</td>\n",
              "      <td>11016</td>\n",
              "      <td>1998-04-10</td>\n",
              "      <td>1998-05-08</td>\n",
              "      <td>1998-04-13</td>\n",
              "      <td>Around the Horn</td>\n",
              "      <td>UK</td>\n",
              "      <td>...</td>\n",
              "      <td>Wolski  Zajazd</td>\n",
              "      <td>Poland</td>\n",
              "      <td>2</td>\n",
              "      <td>United Package</td>\n",
              "      <td>19.00</td>\n",
              "      <td>19.00</td>\n",
              "      <td>16</td>\n",
              "      <td>304.00</td>\n",
              "      <td>304.00</td>\n",
              "      <td>25 days</td>\n",
              "    </tr>\n",
              "    <tr>\n",
              "      <th>189461</th>\n",
              "      <td>200414</td>\n",
              "      <td>9</td>\n",
              "      <td>Anne Dodsworth</td>\n",
              "      <td>UK</td>\n",
              "      <td>11016</td>\n",
              "      <td>1998-04-10</td>\n",
              "      <td>1998-05-08</td>\n",
              "      <td>1998-04-13</td>\n",
              "      <td>Around the Horn</td>\n",
              "      <td>UK</td>\n",
              "      <td>...</td>\n",
              "      <td>Wolski  Zajazd</td>\n",
              "      <td>Poland</td>\n",
              "      <td>2</td>\n",
              "      <td>United Package</td>\n",
              "      <td>12.50</td>\n",
              "      <td>12.50</td>\n",
              "      <td>15</td>\n",
              "      <td>187.50</td>\n",
              "      <td>187.50</td>\n",
              "      <td>25 days</td>\n",
              "    </tr>\n",
              "  </tbody>\n",
              "</table>\n",
              "<p>189462 rows × 21 columns</p>\n",
              "</div>\n",
              "      <button class=\"colab-df-convert\" onclick=\"convertToInteractive('df-2288b24b-ace2-4a86-a94f-46c4d3e5fa2d')\"\n",
              "              title=\"Convert this dataframe to an interactive table.\"\n",
              "              style=\"display:none;\">\n",
              "        \n",
              "  <svg xmlns=\"http://www.w3.org/2000/svg\" height=\"24px\"viewBox=\"0 0 24 24\"\n",
              "       width=\"24px\">\n",
              "    <path d=\"M0 0h24v24H0V0z\" fill=\"none\"/>\n",
              "    <path d=\"M18.56 5.44l.94 2.06.94-2.06 2.06-.94-2.06-.94-.94-2.06-.94 2.06-2.06.94zm-11 1L8.5 8.5l.94-2.06 2.06-.94-2.06-.94L8.5 2.5l-.94 2.06-2.06.94zm10 10l.94 2.06.94-2.06 2.06-.94-2.06-.94-.94-2.06-.94 2.06-2.06.94z\"/><path d=\"M17.41 7.96l-1.37-1.37c-.4-.4-.92-.59-1.43-.59-.52 0-1.04.2-1.43.59L10.3 9.45l-7.72 7.72c-.78.78-.78 2.05 0 2.83L4 21.41c.39.39.9.59 1.41.59.51 0 1.02-.2 1.41-.59l7.78-7.78 2.81-2.81c.8-.78.8-2.07 0-2.86zM5.41 20L4 18.59l7.72-7.72 1.47 1.35L5.41 20z\"/>\n",
              "  </svg>\n",
              "      </button>\n",
              "      \n",
              "  <style>\n",
              "    .colab-df-container {\n",
              "      display:flex;\n",
              "      flex-wrap:wrap;\n",
              "      gap: 12px;\n",
              "    }\n",
              "\n",
              "    .colab-df-convert {\n",
              "      background-color: #E8F0FE;\n",
              "      border: none;\n",
              "      border-radius: 50%;\n",
              "      cursor: pointer;\n",
              "      display: none;\n",
              "      fill: #1967D2;\n",
              "      height: 32px;\n",
              "      padding: 0 0 0 0;\n",
              "      width: 32px;\n",
              "    }\n",
              "\n",
              "    .colab-df-convert:hover {\n",
              "      background-color: #E2EBFA;\n",
              "      box-shadow: 0px 1px 2px rgba(60, 64, 67, 0.3), 0px 1px 3px 1px rgba(60, 64, 67, 0.15);\n",
              "      fill: #174EA6;\n",
              "    }\n",
              "\n",
              "    [theme=dark] .colab-df-convert {\n",
              "      background-color: #3B4455;\n",
              "      fill: #D2E3FC;\n",
              "    }\n",
              "\n",
              "    [theme=dark] .colab-df-convert:hover {\n",
              "      background-color: #434B5C;\n",
              "      box-shadow: 0px 1px 3px 1px rgba(0, 0, 0, 0.15);\n",
              "      filter: drop-shadow(0px 1px 2px rgba(0, 0, 0, 0.3));\n",
              "      fill: #FFFFFF;\n",
              "    }\n",
              "  </style>\n",
              "\n",
              "      <script>\n",
              "        const buttonEl =\n",
              "          document.querySelector('#df-2288b24b-ace2-4a86-a94f-46c4d3e5fa2d button.colab-df-convert');\n",
              "        buttonEl.style.display =\n",
              "          google.colab.kernel.accessAllowed ? 'block' : 'none';\n",
              "\n",
              "        async function convertToInteractive(key) {\n",
              "          const element = document.querySelector('#df-2288b24b-ace2-4a86-a94f-46c4d3e5fa2d');\n",
              "          const dataTable =\n",
              "            await google.colab.kernel.invokeFunction('convertToInteractive',\n",
              "                                                     [key], {});\n",
              "          if (!dataTable) return;\n",
              "\n",
              "          const docLinkHtml = 'Like what you see? Visit the ' +\n",
              "            '<a target=\"_blank\" href=https://colab.research.google.com/notebooks/data_table.ipynb>data table notebook</a>'\n",
              "            + ' to learn more about interactive tables.';\n",
              "          element.innerHTML = '';\n",
              "          dataTable['output_type'] = 'display_data';\n",
              "          await google.colab.output.renderOutput(dataTable, element);\n",
              "          const docLink = document.createElement('div');\n",
              "          docLink.innerHTML = docLinkHtml;\n",
              "          element.appendChild(docLink);\n",
              "        }\n",
              "      </script>\n",
              "    </div>\n",
              "  </div>\n",
              "  "
            ]
          },
          "metadata": {},
          "execution_count": 52
        }
      ]
    },
    {
      "cell_type": "code",
      "source": [
        "style.use(\"default\")\n",
        "plt.figure(figsize=(10,7))\n",
        "sns.barplot(x= df[\"GrossIncome\"], y= df[\"EmployeeName\"])\n",
        "plt.xlabel(\"Number of Order\")\n",
        "plt.show()"
      ],
      "metadata": {
        "colab": {
          "base_uri": "https://localhost:8080/",
          "height": 618
        },
        "id": "6PLvYKG6UbkH",
        "outputId": "4d0d1768-ab17-4a8f-a762-9ab88ce225cc"
      },
      "id": "6PLvYKG6UbkH",
      "execution_count": null,
      "outputs": [
        {
          "output_type": "display_data",
          "data": {
            "text/plain": [
              "<Figure size 1000x700 with 1 Axes>"
            ],
            "image/png": "[encoded data removed]"
          },
          "metadata": {}
        }
      ]
    },
    {
      "cell_type": "markdown",
      "source": [
        "##Statistic"
      ],
      "metadata": {
        "id": "rW4DVLANWwbv"
      },
      "id": "rW4DVLANWwbv"
    },
    {
      "cell_type": "code",
      "source": [
        "# Normal test for gross income using D'Agostino-Pearson's Method\n",
        "from scipy.stats import normaltest\n",
        "\n",
        "norm, pval = normaltest(df[\"GrossIncome\"])\n",
        "\n",
        "if pval < 0.05 :\n",
        "    print (f\"Reject H0 Because ({pval} < 5%)\")\n",
        "    print (\"DATA IS NOT NORMALLY DISTRIBUTED\")\n",
        "else :\n",
        "    print (f\"Fail to Reject H0 Because ({pval} > 5%)\")\n",
        "    print (\"DATA IS NORMALLY DISTRIBUTED\")"
      ],
      "metadata": {
        "colab": {
          "base_uri": "https://localhost:8080/"
        },
        "id": "km7t6JyAWx14",
        "outputId": "29dc28ca-e2e3-4d7b-da28-8be8c84f830a"
      },
      "id": "km7t6JyAWx14",
      "execution_count": null,
      "outputs": [
        {
          "output_type": "stream",
          "name": "stdout",
          "text": [
            "Reject H0 Because (0.0 < 5%)\n",
            "DATA IS NOT NORMALLY DISTRIBUTED\n"
          ]
        }
      ]
    },
    {
      "cell_type": "code",
      "source": [
        "# Comparison Test for GrossIncome Value for each employee Using Kruskal-Wallis Method\n",
        "from scipy.stats import kruskal\n",
        "\n",
        "krus, pvalkrus = kruskal(\n",
        "    df[df[\"EmployeeName\"] == \"Margaret Peacock\"][\"GrossIncome\"],\n",
        "    df[df[\"EmployeeName\"] == \"Janet Leverling\"][\"GrossIncome\"],\n",
        "    df[df[\"EmployeeName\"] == \"Nancy Davolio\"][\"GrossIncome\"],\n",
        "    df[df[\"EmployeeName\"] == \"Laura Callahan\"][\"GrossIncome\"],\n",
        "    df[df[\"EmployeeName\"] == \"Andrew Fuller\"][\"GrossIncome\"],\n",
        "  \n",
        ") \n",
        "\n",
        "if pvalkrus < 0.05 :\n",
        "    print (f\"Reject H0 Because P-Value ({pval} < 5%)\")\n",
        "    print (\"Difference found in median values for Gross Income for each employee\")\n",
        "else :\n",
        "    print (f\"Fail to Reject H0 Because P-Value ({pval} > 5%)\")\n",
        "    print (\"No difference found in median values for Gross Income for each employee\")"
      ],
      "metadata": {
        "colab": {
          "base_uri": "https://localhost:8080/"
        },
        "id": "Jb_IGV5yW2Hf",
        "outputId": "1d4cffc0-e748-44a8-c818-b0ec4ff690df"
      },
      "id": "Jb_IGV5yW2Hf",
      "execution_count": null,
      "outputs": [
        {
          "output_type": "stream",
          "name": "stdout",
          "text": [
            "Reject H0 Because P-Value (0.0 < 5%)\n",
            "Difference found in median values for Gross Income for each employee\n"
          ]
        }
      ]
    },
    {
      "cell_type": "code",
      "source": [
        "# Correlation with Spearman Method\n",
        "style.use(\"default\")\n",
        "dfcorr = df[[\"EmployeeID\", \"Quantity\", \"GrossIncome\",'ShipperID']].corr(\"spearman\")\n",
        "plt.figure(figsize=(7,5))\n",
        "sns.heatmap(dfcorr, cmap=\"YlGnBu\", annot=True)\n",
        "plt.show()"
      ],
      "metadata": {
        "colab": {
          "base_uri": "https://localhost:8080/",
          "height": 451
        },
        "id": "2-OjKSriYRPf",
        "outputId": "b5ecd38e-4d87-4b96-c64d-3e8af1439aef"
      },
      "id": "2-OjKSriYRPf",
      "execution_count": null,
      "outputs": [
        {
          "output_type": "display_data",
          "data": {
            "text/plain": [
              "<Figure size 700x500 with 2 Axes>"
            ],
            "image/png": "[encoded data removed]"
          },
          "metadata": {}
        }
      ]
    },
    {
      "cell_type": "markdown",
      "id": "9496d855",
      "metadata": {
        "id": "9496d855"
      },
      "source": [
        "## Kesimpulan \n",
        " "
      ]
    },
    {
      "cell_type": "markdown",
      "source": [
        "# bahwa employee Margaret dapat menjual sesuai target karena dapat menjual peak tertinggi dan membantu nortwind berjualan (dihitung dari berapa banyak order yang berhasil di dapatkan)\n",
        "# lalu untuk robert king dapat menjual dengan gross income terbanyak untuk perusahaan  (di hitung dari order detal dan qty yang dijual)"
      ],
      "metadata": {
        "id": "Xb7qsMd0p_Qh"
      },
      "id": "Xb7qsMd0p_Qh"
    }
  ],
  "metadata": {
    "kernelspec": {
      "display_name": "Python 3 (ipykernel)",
      "language": "python",
      "name": "python3"
    },
    "language_info": {
      "codemirror_mode": {
        "name": "ipython",
        "version": 3
      },
      "file_extension": ".py",
      "mimetype": "text/x-python",
      "name": "python",
      "nbconvert_exporter": "python",
      "pygments_lexer": "ipython3",
      "version": "3.9.7"
    },
    "colab": {
      "name": "Salinan dari Project Modul 2 - Purwadhika Data Analysis - Aryo Panji.ipynb",
      "provenance": []
    }
  },
  "nbformat": 4,
  "nbformat_minor": 5
}